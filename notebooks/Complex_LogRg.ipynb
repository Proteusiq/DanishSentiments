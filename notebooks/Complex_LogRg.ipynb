{
 "cells": [
  {
   "cell_type": "code",
   "execution_count": 1,
   "metadata": {},
   "outputs": [],
   "source": [
    "from helper import (load_data, token, DanishCleaner,time_me,\n",
    "                    show_diagram, show_most_informative_features)"
   ]
  },
  {
   "cell_type": "code",
   "execution_count": 2,
   "metadata": {},
   "outputs": [],
   "source": [
    "## Long process timing that %time does not work\n",
    "from datetime import datetime\n",
    "import humanfriendly\n"
   ]
  },
  {
   "cell_type": "code",
   "execution_count": 3,
   "metadata": {},
   "outputs": [],
   "source": [
    "import pandas as pd\n",
    "import numpy as np\n",
    "import matplotlib.pyplot as plt\n",
    "\n",
    "%matplotlib inline\n",
    "plt.rcParams['figure.figsize'] = (15,5)\n",
    "plt.style.use('fivethirtyeight') # plt.style.available"
   ]
  },
  {
   "cell_type": "code",
   "execution_count": 4,
   "metadata": {},
   "outputs": [],
   "source": [
    "from sklearn.externals import joblib\n",
    "from sklearn.model_selection import (train_test_split, cross_val_score)\n",
    "from sklearn.feature_extraction.text import (CountVectorizer, TfidfVectorizer)"
   ]
  },
  {
   "cell_type": "markdown",
   "metadata": {},
   "source": [
    "#### TfidfVectorizer == CountVectorizer + TfidfTransformer"
   ]
  },
  {
   "cell_type": "code",
   "execution_count": 5,
   "metadata": {},
   "outputs": [],
   "source": [
    "from sklearn.feature_selection import SelectKBest, chi2\n",
    "from sklearn.decomposition import LatentDirichletAllocation\n",
    "from sklearn.pipeline import FeatureUnion, Pipeline\n",
    "from sklearn.linear_model import LogisticRegression"
   ]
  },
  {
   "cell_type": "code",
   "execution_count": 65,
   "metadata": {},
   "outputs": [],
   "source": [
    "stops = joblib.load('../stops.pkl')"
   ]
  },
  {
   "cell_type": "code",
   "execution_count": 7,
   "metadata": {},
   "outputs": [
    {
     "name": "stdout",
     "output_type": "stream",
     "text": [
      "Loading data ...\n",
      "Droping 10 rows with features lenght of less than 2\n",
      "Droping 3 as rating and setting 1-2 as negative(0), 4-5 as positive(1))\n",
      "{1: 460527, 0: 127232} \n",
      "\n",
      "Down sampling positive ratings to match negatives\n",
      "Data loading completed\n",
      "{1: 127232, 0: 127232} \n",
      "\n",
      "Execution Time: 4 seconds\n"
     ]
    },
    {
     "data": {
      "image/png": "[encoded data removed]",
      "text/plain": [
       "<Figure size 432x288 with 1 Axes>"
      ]
     },
     "metadata": {},
     "output_type": "display_data"
    }
   ],
   "source": [
    "df = load_data('../sentiment_data', balanced=True)"
   ]
  },
  {
   "cell_type": "code",
   "execution_count": 8,
   "metadata": {},
   "outputs": [],
   "source": [
    "df = df.sample(5000)"
   ]
  },
  {
   "cell_type": "code",
   "execution_count": 9,
   "metadata": {},
   "outputs": [],
   "source": [
    " X_train, X_test, y_train, y_test = train_test_split(df['features'], df['y'],\n",
    "                                                    test_size=.2, random_state=7,stratify=df['y'])"
   ]
  },
  {
   "cell_type": "code",
   "execution_count": 10,
   "metadata": {},
   "outputs": [
    {
     "name": "stdout",
     "output_type": "stream",
     "text": [
      "Traing Size: 4000\n",
      "Test Size:     1000\n"
     ]
    }
   ],
   "source": [
    "print(f'Traing Size: {X_train.shape[0]}\\nTest Size: {X_test.shape[0]:>8}')"
   ]
  },
  {
   "cell_type": "code",
   "execution_count": 11,
   "metadata": {},
   "outputs": [
    {
     "name": "stdout",
     "output_type": "stream",
     "text": [
      "Traing Size\n",
      "\tPositive||Negative Sample\n",
      "\t  1976||2024\n"
     ]
    }
   ],
   "source": [
    "print(f'Traing Size\\n\\tPositive||Negative Sample\\n\\t  {y_train[y_train==1].shape[0]}||{y_train[y_train==0].shape[0]}')"
   ]
  },
  {
   "cell_type": "code",
   "execution_count": 12,
   "metadata": {},
   "outputs": [
    {
     "name": "stdout",
     "output_type": "stream",
     "text": [
      "Test Size\n",
      "\tPositive||Negative Sample\n",
      "\t  494||506\n"
     ]
    }
   ],
   "source": [
    "print(f'Test Size\\n\\tPositive||Negative Sample\\n\\t  {y_test[y_test==1].shape[0]}||{y_test[y_test==0].shape[0]}')"
   ]
  },
  {
   "cell_type": "code",
   "execution_count": 66,
   "metadata": {},
   "outputs": [],
   "source": [
    "count_para = dict(ngram_range=(2, 3),tokenizer=token,\n",
    "                     lowercase=True,stop_words=stops,min_df=10)\n",
    "tfidf_para = dict(ngram_range=(2, 3), lowercase=True,max_df=.8,\n",
    "                  min_df=10, sublinear_tf=True,stop_words=stops)\n",
    "\n",
    "lda_para = dict(n_components=2, max_iter=50, learning_method='online', verbose=1,\n",
    "                learning_offset=50.,doc_topic_prior=.1, topic_word_prior=.01,random_state=7)\n",
    "\n",
    "logit_para = dict(C=1., penalty='l2',max_iter=500,random_state=7,warm_start=True, \n",
    "                  verbose=1, solver='saga', n_jobs=4)  #n_jobs=-1 does not have any effect when solver is liblinear l2\n",
    "\n"
   ]
  },
  {
   "cell_type": "code",
   "execution_count": 57,
   "metadata": {},
   "outputs": [],
   "source": [
    "model = Pipeline ([\n",
    "    ('text_union', FeatureUnion([\n",
    "                        ('lda_pipe', Pipeline([\n",
    "                            ('countvec', CountVectorizer(**count_para)),\n",
    "                            ('fe_se', SelectKBest(chi2, k=50)),\n",
    "                            ('lda',LatentDirichletAllocation(**lda_para))\n",
    "                                            ])),\n",
    "                        ('tfidf_pipe', Pipeline([\n",
    "                                            ('tfidf', TfidfVectorizer(**tfidf_para)),\n",
    "                                            ('fe_se', SelectKBest(chi2, k=50))\n",
    "                                                            ])),\n",
    "                                        \n",
    "                                                ])\n",
    "                    ),\n",
    "    ('clf', LogisticRegression(**logit_para))\n",
    "    \n",
    "])"
   ]
  },
  {
   "cell_type": "code",
   "execution_count": 67,
   "metadata": {},
   "outputs": [
    {
     "name": "stdout",
     "output_type": "stream",
     "text": [
      "iteration: 1 of max_iter: 50\n",
      "iteration: 2 of max_iter: 50\n",
      "iteration: 3 of max_iter: 50\n",
      "iteration: 4 of max_iter: 50\n",
      "iteration: 5 of max_iter: 50\n",
      "iteration: 6 of max_iter: 50\n",
      "iteration: 7 of max_iter: 50\n",
      "iteration: 8 of max_iter: 50\n",
      "iteration: 9 of max_iter: 50\n",
      "iteration: 10 of max_iter: 50\n",
      "iteration: 11 of max_iter: 50\n",
      "iteration: 12 of max_iter: 50\n",
      "iteration: 13 of max_iter: 50\n",
      "iteration: 14 of max_iter: 50\n",
      "iteration: 15 of max_iter: 50\n",
      "iteration: 16 of max_iter: 50\n",
      "iteration: 17 of max_iter: 50\n",
      "iteration: 18 of max_iter: 50\n",
      "iteration: 19 of max_iter: 50\n",
      "iteration: 20 of max_iter: 50\n",
      "iteration: 21 of max_iter: 50\n",
      "iteration: 22 of max_iter: 50\n",
      "iteration: 23 of max_iter: 50\n",
      "iteration: 24 of max_iter: 50\n",
      "iteration: 25 of max_iter: 50\n",
      "iteration: 26 of max_iter: 50\n",
      "iteration: 27 of max_iter: 50\n",
      "iteration: 28 of max_iter: 50\n",
      "iteration: 29 of max_iter: 50\n",
      "iteration: 30 of max_iter: 50\n",
      "iteration: 31 of max_iter: 50\n",
      "iteration: 32 of max_iter: 50\n",
      "iteration: 33 of max_iter: 50\n",
      "iteration: 34 of max_iter: 50\n",
      "iteration: 35 of max_iter: 50\n",
      "iteration: 36 of max_iter: 50\n",
      "iteration: 37 of max_iter: 50\n",
      "iteration: 38 of max_iter: 50\n",
      "iteration: 39 of max_iter: 50\n",
      "iteration: 40 of max_iter: 50\n",
      "iteration: 41 of max_iter: 50\n",
      "iteration: 42 of max_iter: 50\n",
      "iteration: 43 of max_iter: 50\n",
      "iteration: 44 of max_iter: 50\n",
      "iteration: 45 of max_iter: 50\n",
      "iteration: 46 of max_iter: 50\n",
      "iteration: 47 of max_iter: 50\n",
      "iteration: 48 of max_iter: 50\n",
      "iteration: 49 of max_iter: 50\n",
      "iteration: 50 of max_iter: 50\n",
      "convergence after 21 epochs took 0 seconds\n"
     ]
    },
    {
     "name": "stderr",
     "output_type": "stream",
     "text": [
      "[Parallel(n_jobs=4)]: Done   1 out of   1 | elapsed:    0.0s finished\n"
     ]
    }
   ],
   "source": [
    "u = datetime.now()\n",
    "model.fit(X_train, y_train)\n",
    "v = datetime.now()"
   ]
  },
  {
   "cell_type": "code",
   "execution_count": 68,
   "metadata": {},
   "outputs": [
    {
     "name": "stdout",
     "output_type": "stream",
     "text": [
      "Training took: 14 seconds\n"
     ]
    }
   ],
   "source": [
    "delta = v-u\n",
    "print('Training took: {}'.format(\n",
    "            humanfriendly.format_timespan(delta.seconds)))"
   ]
  },
  {
   "cell_type": "code",
   "execution_count": 69,
   "metadata": {},
   "outputs": [
    {
     "name": "stdout",
     "output_type": "stream",
     "text": [
      "Classification Report\n",
      "\t _____________________________________________\n",
      "             precision    recall  f1-score   support\n",
      "\n",
      "   Negative       0.92      0.85      0.89       506\n",
      "   Positive       0.86      0.93      0.89       494\n",
      "\n",
      "avg / total       0.89      0.89      0.89      1000\n",
      "\n",
      "\t _____________________________________________ \n",
      "\n",
      "\n"
     ]
    },
    {
     "data": {
      "image/png": "[encoded data removed]",
      "text/plain": [
       "<Figure size 720x360 with 1 Axes>"
      ]
     },
     "metadata": {},
     "output_type": "display_data"
    },
    {
     "name": "stdout",
     "output_type": "stream",
     "text": [
      "Execution Time: 9 seconds\n"
     ]
    }
   ],
   "source": [
    "show_diagram(model,X_train, y_train, X_test, y_test,compare_test=True)"
   ]
  },
  {
   "cell_type": "code",
   "execution_count": 70,
   "metadata": {},
   "outputs": [],
   "source": [
    "vec_features = model.steps[0][1].transformer_list[0][1].steps[0][1].get_feature_names()\n",
    "best_vec_features = [vec_features[i] for i in  model.steps[0][1].transformer_list[0][1].steps[1][1].get_support(indices=True)]"
   ]
  },
  {
   "cell_type": "code",
   "execution_count": 71,
   "metadata": {},
   "outputs": [],
   "source": [
    "tf_features  = model.steps[0][1].transformer_list[1][1].steps[0][1].get_feature_names()\n",
    "best_tf_features = [tf_features[i] for i in  model.steps[0][1].transformer_list[1][1].steps[1][1].get_support(indices=True)] # step 1 == fe_se"
   ]
  },
  {
   "cell_type": "code",
   "execution_count": 72,
   "metadata": {},
   "outputs": [
    {
     "name": "stdout",
     "output_type": "stream",
     "text": [
      "\t-6.4740\tikk mul        \t\t5.8627\tikk først      \n",
      "\t-4.2032\tfind pak       \t\t4.3825\thurt god       \n",
      "\t-3.7653\thjem hel       \t\t4.2603\tikk hjem       \n",
      "\t-3.4897\tikk pak        \t\t3.7619\tlev pak        \n",
      "\t-2.9567\tlang tid       \t\t3.5201\tsend pak       \n",
      "\t-2.7966\tdesvær ikk     \t\t3.4819\tsup hurt       \n",
      "\t-2.7268\tstad ikk       \t\t3.2877\ting problem    \n",
      "\t-2.6590\tikk vær        \t\t3.2197\tmodtag pak     \n",
      "\t-2.4195\tforsøg aflev   \t\t3.1445\tendnu ikk      \n",
      "\t-2.3798\tpak ikk        \t\t2.5737\tforsøg lev     \n",
      "\t-2.2781\tåbenbart ikk   \t\t2.3738\tslet ikk       \n",
      "\t-2.2768\tikk modtag     \t\t2.1551\tgodt nok       \n",
      "\t-2.2732\tpak skul       \t\t1.8900\thent pak       \n",
      "\t-2.1702\tpak posthus    \t\t1.6166\tell and        \n",
      "\t-2.1504\tdår servic     \t\t1.3073\ting pak        \n",
      "\t-2.1486\thavd vær       \t\t1.0275\tpak bliv       \n",
      "\t-2.1006\tbliv lev       \t\t0.9179\tand sted       \n",
      "\t-2.0732\teft hav        \t\t0.9153\tikk ord        \n",
      "\t-2.0167\trigt god       \t\t0.3986\tikk lev        \n",
      "\t-1.8541\tmeg tilfred    \t\t0.3140\tskul hav       \n",
      "\t-1.7459\tbar ikk        \t\t0.2217\tikk havd       \n",
      "\t-1.7415\tgod servic     \t\t0.0797\tikk aflev      \n",
      "\t-1.7336\thel ikk        \t\t-0.6551\taflev pak      \n",
      "\t-1.5649\tikk nog        \t\t-0.7090\tikk find       \n",
      "\t-1.3863\tikk engang     \t\t-1.2330\tikk fået       \n",
      "\t-1.2330\tikk fået       \t\t-1.3863\tikk engang     \n",
      "\t-0.7090\tikk find       \t\t-1.5649\tikk nog        \n",
      "\t-0.6551\taflev pak      \t\t-1.7336\thel ikk        \n",
      "\t0.0797\tikk aflev      \t\t-1.7415\tgod servic     \n",
      "\t0.2217\tikk havd       \t\t-1.7459\tbar ikk        \n",
      "\t0.3140\tskul hav       \t\t-1.8541\tmeg tilfred    \n",
      "\t0.3986\tikk lev        \t\t-2.0167\trigt god       \n",
      "\t0.9153\tikk ord        \t\t-2.0732\teft hav        \n",
      "\t0.9179\tand sted       \t\t-2.1006\tbliv lev       \n",
      "\t1.0275\tpak bliv       \t\t-2.1486\thavd vær       \n",
      "\t1.3073\ting pak        \t\t-2.1504\tdår servic     \n",
      "\t1.6166\tell and        \t\t-2.1702\tpak posthus    \n",
      "\t1.8900\thent pak       \t\t-2.2732\tpak skul       \n",
      "\t2.1551\tgodt nok       \t\t-2.2768\tikk modtag     \n",
      "\t2.3738\tslet ikk       \t\t-2.2781\tåbenbart ikk   \n",
      "\t2.5737\tforsøg lev     \t\t-2.3798\tpak ikk        \n",
      "\t3.1445\tendnu ikk      \t\t-2.4195\tforsøg aflev   \n",
      "\t3.2197\tmodtag pak     \t\t-2.6590\tikk vær        \n",
      "\t3.2877\ting problem    \t\t-2.7268\tstad ikk       \n",
      "\t3.4819\tsup hurt       \t\t-2.7966\tdesvær ikk     \n",
      "\t3.5201\tsend pak       \t\t-2.9567\tlang tid       \n",
      "\t3.7619\tlev pak        \t\t-3.4897\tikk pak        \n",
      "\t4.2603\tikk hjem       \t\t-3.7653\thjem hel       \n",
      "\t4.3825\thurt god       \t\t-4.2032\tfind pak       \n",
      "\t5.8627\tikk først      \t\t-6.4740\tikk mul        \n"
     ]
    }
   ],
   "source": [
    "show_most_informative_features(best_vec_features, model.steps[1][1], n=50)"
   ]
  },
  {
   "cell_type": "code",
   "execution_count": 73,
   "metadata": {},
   "outputs": [
    {
     "name": "stdout",
     "output_type": "stream",
     "text": [
      "\t-6.4740\tingen problemer\t\t5.8627\thurtigt        \n",
      "\t-4.2032\tfin            \t\t4.3825\thele dagen     \n",
      "\t-3.7653\tgod hurtig     \t\t4.2603\tigen           \n",
      "\t-3.4897\tnem            \t\t3.7619\tproblemer      \n",
      "\t-2.9567\tposthuset      \t\t3.5201\ttiden          \n",
      "\t-2.7966\tbetalt         \t\t3.4819\tvide           \n",
      "\t-2.7268\tuge            \t\t3.2877\tperfekt        \n",
      "\t-2.6590\tnemt           \t\t3.2197\tsiden          \n",
      "\t-2.4195\tfinde          \t\t3.1445\tdårligt        \n",
      "\t-2.3798\tstod           \t\t2.5737\tfint           \n",
      "\t-2.2781\tvæk            \t\t2.3738\ttilfreds       \n",
      "\t-2.2768\tikke modtaget  \t\t2.1551\tforsøgt        \n",
      "\t-2.2732\tsuper          \t\t1.8900\tgod            \n",
      "\t-2.1702\tstår           \t\t1.6166\tdårlig         \n",
      "\t-2.1504\tbetjening      \t\t1.3073\tnok            \n",
      "\t-2.1486\tfungerede      \t\t1.0275\tstedet         \n",
      "\t-2.1006\tbetale         \t\t0.9179\tadresse        \n",
      "\t-2.0732\tdejligt        \t\t0.9153\tmåtte          \n",
      "\t-2.0167\tsuper hurtig   \t\t0.3986\tikke           \n",
      "\t-1.8541\trigtig god     \t\t0.3140\ttilbage        \n",
      "\t-1.7459\taldrig         \t\t0.2217\thurtigt nemt   \n",
      "\t-1.7415\tforkert        \t\t0.0797\thjemme         \n",
      "\t-1.7336\tførst          \t\t-0.6551\t10             \n",
      "\t-1.5649\tlang           \t\t-0.7090\thurtig         \n",
      "\t-1.3863\thjemme hele    \t\t-1.2330\thurtig god     \n",
      "\t-1.2330\thurtig god     \t\t-1.3863\thjemme hele    \n",
      "\t-0.7090\thurtig         \t\t-1.5649\tlang           \n",
      "\t-0.6551\t10             \t\t-1.7336\tførst          \n",
      "\t0.0797\thjemme         \t\t-1.7415\tforkert        \n",
      "\t0.2217\thurtigt nemt   \t\t-1.7459\taldrig         \n",
      "\t0.3140\ttilbage        \t\t-1.8541\trigtig god     \n",
      "\t0.3986\tikke           \t\t-2.0167\tsuper hurtig   \n",
      "\t0.9153\tmåtte          \t\t-2.0732\tdejligt        \n",
      "\t0.9179\tadresse        \t\t-2.1006\tbetale         \n",
      "\t1.0275\tstedet         \t\t-2.1486\tfungerede      \n",
      "\t1.3073\tnok            \t\t-2.1504\tbetjening      \n",
      "\t1.6166\tdårlig         \t\t-2.1702\tstår           \n",
      "\t1.8900\tgod            \t\t-2.2732\tsuper          \n",
      "\t2.1551\tforsøgt        \t\t-2.2768\tikke modtaget  \n",
      "\t2.3738\ttilfreds       \t\t-2.2781\tvæk            \n",
      "\t2.5737\tfint           \t\t-2.3798\tstod           \n",
      "\t3.1445\tdårligt        \t\t-2.4195\tfinde          \n",
      "\t3.2197\tsiden          \t\t-2.6590\tnemt           \n",
      "\t3.2877\tperfekt        \t\t-2.7268\tuge            \n",
      "\t3.4819\tvide           \t\t-2.7966\tbetalt         \n",
      "\t3.5201\ttiden          \t\t-2.9567\tposthuset      \n",
      "\t3.7619\tproblemer      \t\t-3.4897\tnem            \n",
      "\t4.2603\tigen           \t\t-3.7653\tgod hurtig     \n",
      "\t4.3825\thele dagen     \t\t-4.2032\tfin            \n",
      "\t5.8627\thurtigt        \t\t-6.4740\tingen problemer\n"
     ]
    }
   ],
   "source": [
    "show_most_informative_features(best_tf_features, model.steps[1][1], n=50)"
   ]
  },
  {
   "cell_type": "code",
   "execution_count": null,
   "metadata": {},
   "outputs": [],
   "source": []
  }
 ],
 "metadata": {
  "kernelspec": {
   "display_name": "Python 3",
   "language": "python",
   "name": "python3"
  },
  "language_info": {
   "codemirror_mode": {
    "name": "ipython",
    "version": 3
   },
   "file_extension": ".py",
   "mimetype": "text/x-python",
   "name": "python",
   "nbconvert_exporter": "python",
   "pygments_lexer": "ipython3",
   "version": "3.6.5"
  }
 },
 "nbformat": 4,
 "nbformat_minor": 2
}
