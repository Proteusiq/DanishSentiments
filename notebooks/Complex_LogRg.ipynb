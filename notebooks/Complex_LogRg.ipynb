{
 "cells": [
  {
   "cell_type": "code",
   "execution_count": 1,
   "metadata": {},
   "outputs": [],
   "source": [
    "from helper import (load_data, token, DanishCleaner,time_me,\n",
    "                    show_diagram, show_most_informative_features)"
   ]
  },
  {
   "cell_type": "code",
   "execution_count": 2,
   "metadata": {},
   "outputs": [],
   "source": [
    "## Long process timing that %time does not work\n",
    "from datetime import datetime\n",
    "import humanfriendly\n"
   ]
  },
  {
   "cell_type": "code",
   "execution_count": 3,
   "metadata": {},
   "outputs": [],
   "source": [
    "import pandas as pd\n",
    "import numpy as np\n",
    "import matplotlib.pyplot as plt\n",
    "\n",
    "%matplotlib inline\n",
    "plt.rcParams['figure.figsize'] = (15,5)\n",
    "plt.style.use('fivethirtyeight') # plt.style.available"
   ]
  },
  {
   "cell_type": "code",
   "execution_count": 4,
   "metadata": {},
   "outputs": [],
   "source": [
    "from sklearn.externals import joblib\n",
    "from sklearn.model_selection import (train_test_split, cross_val_score)\n",
    "from sklearn.feature_extraction.text import (CountVectorizer, TfidfVectorizer)"
   ]
  },
  {
   "cell_type": "markdown",
   "metadata": {},
   "source": [
    "#### TfidfVectorizer == CountVectorizer + TfidfTransformer"
   ]
  },
  {
   "cell_type": "code",
   "execution_count": 5,
   "metadata": {},
   "outputs": [],
   "source": [
    "from sklearn.feature_selection import SelectKBest, chi2\n",
    "from sklearn.decomposition import LatentDirichletAllocation\n",
    "from sklearn.pipeline import FeatureUnion, Pipeline\n",
    "from sklearn.linear_model import LogisticRegression"
   ]
  },
  {
   "cell_type": "code",
   "execution_count": 6,
   "metadata": {},
   "outputs": [],
   "source": [
    "stops = joblib.load('../stops.pkl')"
   ]
  },
  {
   "cell_type": "code",
   "execution_count": 7,
   "metadata": {},
   "outputs": [
    {
     "name": "stdout",
     "output_type": "stream",
     "text": [
      "Loading data ...\n",
      "Droping 10 rows with features lenght of less than 2\n",
      "Droping 3 as rating and setting 1-2 as negative(0), 4-5 as positive(1))\n",
      "{1: 460527, 0: 127232} \n",
      "\n",
      "Down sampling positive ratings to match negatives\n",
      "Data loading completed\n",
      "{1: 127232, 0: 127232} \n",
      "\n",
      "Execution Time: 4 seconds\n"
     ]
    },
    {
     "data": {
      "image/png": "[encoded data removed]",
      "text/plain": [
       "<Figure size 432x288 with 1 Axes>"
      ]
     },
     "metadata": {},
     "output_type": "display_data"
    }
   ],
   "source": [
    "df = load_data('../sentiment_data', balanced=True)"
   ]
  },
  {
   "cell_type": "code",
   "execution_count": 8,
   "metadata": {},
   "outputs": [],
   "source": [
    " X_train, X_test, y_train, y_test = train_test_split(df['features'], df['y'],\n",
    "                                                    test_size=.2, random_state=7,stratify=df['y'])"
   ]
  },
  {
   "cell_type": "code",
   "execution_count": 9,
   "metadata": {},
   "outputs": [
    {
     "name": "stdout",
     "output_type": "stream",
     "text": [
      "Traing Size: 203571\n",
      "Test Size:    50893\n"
     ]
    }
   ],
   "source": [
    "print(f'Traing Size: {X_train.shape[0]}\\nTest Size: {X_test.shape[0]:>8}')"
   ]
  },
  {
   "cell_type": "code",
   "execution_count": 10,
   "metadata": {},
   "outputs": [
    {
     "name": "stdout",
     "output_type": "stream",
     "text": [
      "Traing Size\n",
      "\tPositive||Negative Sample\n",
      "\t  101785||101786\n"
     ]
    }
   ],
   "source": [
    "print(f'Traing Size\\n\\tPositive||Negative Sample\\n\\t  {y_train[y_train==1].shape[0]}||{y_train[y_train==0].shape[0]}')"
   ]
  },
  {
   "cell_type": "code",
   "execution_count": 11,
   "metadata": {},
   "outputs": [
    {
     "name": "stdout",
     "output_type": "stream",
     "text": [
      "Test Size\n",
      "\tPositive||Negative Sample\n",
      "\t  25447||25446\n"
     ]
    }
   ],
   "source": [
    "print(f'Test Size\\n\\tPositive||Negative Sample\\n\\t  {y_test[y_test==1].shape[0]}||{y_test[y_test==0].shape[0]}')"
   ]
  },
  {
   "cell_type": "code",
   "execution_count": 12,
   "metadata": {},
   "outputs": [],
   "source": [
    "count_para = dict(ngram_range=(2, 3),tokenizer=token,\n",
    "                     lowercase=True,stop_words=stops,min_df=10)\n",
    "tfidf_para = dict(ngram_range=(2, 3), lowercase=True,max_df=.8,\n",
    "                  min_df=10, sublinear_tf=True,stop_words=stops)\n",
    "\n",
    "lda_para = dict(n_components=2, max_iter=100, learning_method='online', verbose=1,\n",
    "                learning_offset=50.,doc_topic_prior=.1, topic_word_prior=.01,random_state=7)\n",
    "\n",
    "logit_para = dict(C=1., penalty='l2',max_iter=500,random_state=7,warm_start=True, \n",
    "                  verbose=1, solver='saga', n_jobs=4)  #n_jobs=-1 does not have any effect when solver is liblinear l2\n",
    "\n"
   ]
  },
  {
   "cell_type": "code",
   "execution_count": 13,
   "metadata": {},
   "outputs": [],
   "source": [
    "model = Pipeline ([\n",
    "    ('text_union', FeatureUnion([\n",
    "                        ('lda_pipe', Pipeline([\n",
    "                            ('countvec', CountVectorizer(**count_para)),\n",
    "                            ('fe_se', SelectKBest(chi2, k=5000)),\n",
    "                            ('lda',LatentDirichletAllocation(**lda_para))\n",
    "                                            ])),\n",
    "                        ('tfidf_pipe', Pipeline([\n",
    "                                            ('tfidf', TfidfVectorizer(**tfidf_para)),\n",
    "                                            ('fe_se', SelectKBest(chi2, k=5000))\n",
    "                                                            ])),\n",
    "                                        \n",
    "                                                ])\n",
    "                    ),\n",
    "    ('clf', LogisticRegression(**logit_para))\n",
    "    \n",
    "])"
   ]
  },
  {
   "cell_type": "code",
   "execution_count": 14,
   "metadata": {},
   "outputs": [
    {
     "name": "stdout",
     "output_type": "stream",
     "text": [
      "iteration: 1 of max_iter: 100\n",
      "iteration: 2 of max_iter: 100\n",
      "iteration: 3 of max_iter: 100\n",
      "iteration: 4 of max_iter: 100\n",
      "iteration: 5 of max_iter: 100\n",
      "iteration: 6 of max_iter: 100\n",
      "iteration: 7 of max_iter: 100\n",
      "iteration: 8 of max_iter: 100\n",
      "iteration: 9 of max_iter: 100\n",
      "iteration: 10 of max_iter: 100\n",
      "iteration: 11 of max_iter: 100\n",
      "iteration: 12 of max_iter: 100\n",
      "iteration: 13 of max_iter: 100\n",
      "iteration: 14 of max_iter: 100\n",
      "iteration: 15 of max_iter: 100\n",
      "iteration: 16 of max_iter: 100\n",
      "iteration: 17 of max_iter: 100\n",
      "iteration: 18 of max_iter: 100\n",
      "iteration: 19 of max_iter: 100\n",
      "iteration: 20 of max_iter: 100\n",
      "iteration: 21 of max_iter: 100\n",
      "iteration: 22 of max_iter: 100\n",
      "iteration: 23 of max_iter: 100\n",
      "iteration: 24 of max_iter: 100\n",
      "iteration: 25 of max_iter: 100\n",
      "iteration: 26 of max_iter: 100\n",
      "iteration: 27 of max_iter: 100\n",
      "iteration: 28 of max_iter: 100\n",
      "iteration: 29 of max_iter: 100\n",
      "iteration: 30 of max_iter: 100\n",
      "iteration: 31 of max_iter: 100\n",
      "iteration: 32 of max_iter: 100\n",
      "iteration: 33 of max_iter: 100\n",
      "iteration: 34 of max_iter: 100\n",
      "iteration: 35 of max_iter: 100\n",
      "iteration: 36 of max_iter: 100\n",
      "iteration: 37 of max_iter: 100\n",
      "iteration: 38 of max_iter: 100\n",
      "iteration: 39 of max_iter: 100\n",
      "iteration: 40 of max_iter: 100\n",
      "iteration: 41 of max_iter: 100\n",
      "iteration: 42 of max_iter: 100\n",
      "iteration: 43 of max_iter: 100\n",
      "iteration: 44 of max_iter: 100\n",
      "iteration: 45 of max_iter: 100\n",
      "iteration: 46 of max_iter: 100\n",
      "iteration: 47 of max_iter: 100\n",
      "iteration: 48 of max_iter: 100\n",
      "iteration: 49 of max_iter: 100\n",
      "iteration: 50 of max_iter: 100\n",
      "iteration: 51 of max_iter: 100\n",
      "iteration: 52 of max_iter: 100\n",
      "iteration: 53 of max_iter: 100\n",
      "iteration: 54 of max_iter: 100\n",
      "iteration: 55 of max_iter: 100\n",
      "iteration: 56 of max_iter: 100\n",
      "iteration: 57 of max_iter: 100\n",
      "iteration: 58 of max_iter: 100\n",
      "iteration: 59 of max_iter: 100\n",
      "iteration: 60 of max_iter: 100\n",
      "iteration: 61 of max_iter: 100\n",
      "iteration: 62 of max_iter: 100\n",
      "iteration: 63 of max_iter: 100\n",
      "iteration: 64 of max_iter: 100\n",
      "iteration: 65 of max_iter: 100\n",
      "iteration: 66 of max_iter: 100\n",
      "iteration: 67 of max_iter: 100\n",
      "iteration: 68 of max_iter: 100\n",
      "iteration: 69 of max_iter: 100\n",
      "iteration: 70 of max_iter: 100\n",
      "iteration: 71 of max_iter: 100\n",
      "iteration: 72 of max_iter: 100\n",
      "iteration: 73 of max_iter: 100\n",
      "iteration: 74 of max_iter: 100\n",
      "iteration: 75 of max_iter: 100\n",
      "iteration: 76 of max_iter: 100\n",
      "iteration: 77 of max_iter: 100\n",
      "iteration: 78 of max_iter: 100\n",
      "iteration: 79 of max_iter: 100\n",
      "iteration: 80 of max_iter: 100\n",
      "iteration: 81 of max_iter: 100\n",
      "iteration: 82 of max_iter: 100\n",
      "iteration: 83 of max_iter: 100\n",
      "iteration: 84 of max_iter: 100\n",
      "iteration: 85 of max_iter: 100\n",
      "iteration: 86 of max_iter: 100\n",
      "iteration: 87 of max_iter: 100\n",
      "iteration: 88 of max_iter: 100\n",
      "iteration: 89 of max_iter: 100\n",
      "iteration: 90 of max_iter: 100\n",
      "iteration: 91 of max_iter: 100\n",
      "iteration: 92 of max_iter: 100\n",
      "iteration: 93 of max_iter: 100\n",
      "iteration: 94 of max_iter: 100\n",
      "iteration: 95 of max_iter: 100\n",
      "iteration: 96 of max_iter: 100\n",
      "iteration: 97 of max_iter: 100\n",
      "iteration: 98 of max_iter: 100\n",
      "iteration: 99 of max_iter: 100\n",
      "iteration: 100 of max_iter: 100\n",
      "convergence after 21 epochs took 3 seconds\n"
     ]
    },
    {
     "name": "stderr",
     "output_type": "stream",
     "text": [
      "[Parallel(n_jobs=4)]: Done   1 out of   1 | elapsed:    3.2s finished\n"
     ]
    }
   ],
   "source": [
    "print('Model training ...')\n",
    "u = datetime.now()\n",
    "model.fit(X_train, y_train)\n",
    "v = datetime.now()"
   ]
  },
  {
   "cell_type": "code",
   "execution_count": 15,
   "metadata": {},
   "outputs": [
    {
     "name": "stdout",
     "output_type": "stream",
     "text": [
      "Training took: 1 hour and 43 seconds\n"
     ]
    }
   ],
   "source": [
    "delta = v-u\n",
    "print('Training took: {}'.format(\n",
    "            humanfriendly.format_timespan(delta.seconds)))"
   ]
  },
  {
   "cell_type": "code",
   "execution_count": 16,
   "metadata": {},
   "outputs": [
    {
     "name": "stdout",
     "output_type": "stream",
     "text": [
      "Classification Report\n",
      "\t _____________________________________________\n",
      "             precision    recall  f1-score   support\n",
      "\n",
      "   Negative       0.93      0.82      0.87     25446\n",
      "   Positive       0.84      0.94      0.89     25447\n",
      "\n",
      "avg / total       0.88      0.88      0.88     50893\n",
      "\n",
      "\t _____________________________________________ \n",
      "\n",
      "\n"
     ]
    },
    {
     "data": {
      "image/png": "[encoded data removed]",
      "text/plain": [
       "<Figure size 720x360 with 1 Axes>"
      ]
     },
     "metadata": {},
     "output_type": "display_data"
    },
    {
     "name": "stdout",
     "output_type": "stream",
     "text": [
      "Execution Time: 4 minutes and 53 seconds\n"
     ]
    }
   ],
   "source": [
    "show_diagram(model,X_train, y_train, X_test, y_test,compare_test=True)"
   ]
  },
  {
   "cell_type": "code",
   "execution_count": 17,
   "metadata": {},
   "outputs": [],
   "source": [
    "vec_features = model.steps[0][1].transformer_list[0][1].steps[0][1].get_feature_names()\n",
    "best_vec_features = [vec_features[i] for i in  model.steps[0][1].transformer_list[0][1].steps[1][1].get_support(indices=True)]"
   ]
  },
  {
   "cell_type": "code",
   "execution_count": 18,
   "metadata": {},
   "outputs": [],
   "source": [
    "tf_features  = model.steps[0][1].transformer_list[1][1].steps[0][1].get_feature_names()\n",
    "best_tf_features = [tf_features[i] for i in  model.steps[0][1].transformer_list[1][1].steps[1][1].get_support(indices=True)] # step 1 == fe_se"
   ]
  },
  {
   "cell_type": "code",
   "execution_count": 19,
   "metadata": {},
   "outputs": [
    {
     "name": "stdout",
     "output_type": "stream",
     "text": [
      "\t-8.3296\tkanal ikk      \t\t6.8966\tløsning problem\n",
      "\t-7.6495\tskul ha        \t\t5.9313\tpak hel ikk    \n",
      "\t-7.4122\tkontak kund    \t\t5.9291\tstil vid       \n",
      "\t-6.7503\tikk råd        \t\t5.5998\tigen betal     \n",
      "\t-6.3711\teft først      \t\t5.5084\tikk formår     \n",
      "\t-6.3341\thjem hel tid   \t\t5.4009\tsted ikk       \n",
      "\t-6.2641\tikk styr nog   \t\t5.1093\treturn afsend  \n",
      "\t-6.2529\tikk net        \t\t4.8060\thaft tdc       \n",
      "\t-6.2028\tand mul        \t\t4.8057\thav brugt      \n",
      "\t-6.0607\tskift udbyd    \t\t4.7592\tsted skul      \n",
      "\t-5.7364\tmedarbejd eft  \t\t4.7008\thavd lig       \n",
      "\t-5.7037\tvær løgn       \t\t4.5818\thav modtag pak \n",
      "\t-5.6711\tikk servic     \t\t4.5756\tfung rigt      \n",
      "\t-5.6691\tmega dår servic\t\t4.5756\tmedarbejd havd \n",
      "\t-5.6601\tnem hurt       \t\t4.5485\tvid modtag     \n",
      "\t-5.6550\tforstå pak     \t\t4.4584\tstyr nog       \n",
      "\t-5.6014\teft eft        \t\t4.4355\thåb ikk        \n",
      "\t-5.5584\ting havd       \t\t4.4042\tigen sen       \n",
      "\t-5.4918\tøvr ikk        \t\t4.3965\tbar skriv      \n",
      "\t-5.4601\teft hav stået  \t\t4.3605\tengang forsøg  \n",
      "\t-5.4461\tikk tilbud     \t\t4.3425\tstod skul      \n",
      "\t-5.3346\tår haft        \t\t4.2878\tuger ikk       \n",
      "\t-5.2326\tikk sælg       \t\t4.2522\tsæt fing       \n",
      "\t-5.1605\tkøbt comput    \t\t4.2341\tigennem medarbejd\n",
      "\t-5.1593\tret meg        \t\t4.1626\tigen står      \n",
      "\t-5.1363\tikk mer        \t\t4.1435\trigt dår servic\n",
      "\t-5.1331\tlæng vær       \t\t4.1016\tstår hjemmesid \n",
      "\t-4.9205\tvent igen      \t\t4.0793\tikk all        \n",
      "\t-4.8828\tvær sik        \t\t3.9798\thør ikk        \n",
      "\t-4.8443\tkund pak       \t\t3.9726\t½ år           \n",
      "\t-4.8312\tsid stad ikk   \t\t3.9407\tikk uden       \n",
      "\t-4.8011\tsid står       \t\t3.8914\tikk engang     \n",
      "\t-4.7911\tforsøg aflev adres\t\t3.8264\thæng sam       \n",
      "\t-4.7878\tmodtag nog pak \t\t3.8051\tpak havn       \n",
      "\t-4.7252\tlov pak        \t\t3.7789\thørt aldr      \n",
      "\t-4.7240\tikk ork        \t\t3.7782\tgør and        \n",
      "\t-4.7055\tnemt følg      \t\t3.7596\tvid nog        \n",
      "\t-4.6901\tfrem modtag    \t\t3.7491\tikk udbetal    \n",
      "\t-4.6893\te bok          \t\t3.7004\thandl ikk      \n",
      "\t-4.6627\thavd fået pak  \t\t3.6729\tpak gls        \n",
      "\t-4.6485\tikk tror       \t\t3.6688\tfuld pris      \n",
      "\t-4.6303\tuforstå overfor\t\t3.6535\tpak havd vær   \n",
      "\t-4.6289\tsid bliv       \t\t3.6419\td ing          \n",
      "\t-4.6191\tvær hel        \t\t3.6318\tfået send      \n",
      "\t-4.5905\tsidst måt      \t\t3.5939\tigen vent      \n",
      "\t-4.5273\tkontak vid     \t\t3.5885\tgod servic ven \n",
      "\t-4.5131\tmåt efterlys   \t\t3.5803\tikk fortæl     \n",
      "\t-4.4646\thurt fin servic\t\t3.5744\tperfek hurt    \n",
      "\t-4.4546\tikk nog hjem   \t\t3.5742\tikk brugt      \n",
      "\t-4.4269\tkonstat pak    \t\t3.5610\tfået lov       \n"
     ]
    }
   ],
   "source": [
    "show_most_informative_features(best_vec_features, model.steps[1][1], n=50)"
   ]
  },
  {
   "cell_type": "code",
   "execution_count": 20,
   "metadata": {},
   "outputs": [
    {
     "name": "stdout",
     "output_type": "stream",
     "text": [
      "\t-8.3296\tikke modtaget ikke\t\t6.8966\tingen problemer gik\n",
      "\t-7.6495\tstadig ikke finde\t\t5.9313\tnemt hurtigt effektivt\n",
      "\t-7.4122\tikke ordentligt\t\t5.9291\tsuper hurtig døren\n",
      "\t-6.7503\tikke engang finde\t\t5.5998\thurtig god betjening\n",
      "\t-6.3711\tdårlig rådgivning\t\t5.5084\thurtigt nemt effektivt\n",
      "\t-6.3341\theller ikke fået\t\t5.4009\tsuper god betjening\n",
      "\t-6.2641\tikke fået ikke \t\t5.1093\trigtig god betjening\n",
      "\t-6.2529\tikke anbefale telenor\t\t4.8060\tgod hurtig betjening\n",
      "\t-6.2028\tal lang        \t\t4.8057\tgod information hurtig\n",
      "\t-6.0607\tslet ikke forsøgt\t\t4.7592\tsuper godt hurtig\n",
      "\t-5.7364\tintet klage    \t\t4.7008\tgodt tilfredse \n",
      "\t-5.7037\tvirkelig dårlig oplevelse\t\t4.5818\tgod oplevelse handle\n",
      "\t-5.6711\tikke finde aflevere\t\t4.5756\tfundet ikke    \n",
      "\t-5.6691\tkommet endnu   \t\t4.5756\tintet negativt \n",
      "\t-5.6601\tlave fejl      \t\t4.5485\tvedkommende ikke\n",
      "\t-5.6550\tforsøgt aflevere adressen\t\t4.4584\tsuper nemt hurtig\n",
      "\t-5.6014\tdårlig kvalitet\t\t4.4355\thurtig effektiv betjening\n",
      "\t-5.5584\tikke kommet frem\t\t4.4042\thurtig nem betjening\n",
      "\t-5.4918\tøvrigt ikke    \t\t4.3965\taltid god betjening\n",
      "\t-5.4601\tdårlig undskyldning\t\t4.3605\tfin betjening  \n",
      "\t-5.4461\tikke gider gå  \t\t4.3425\tsuper ikke     \n",
      "\t-5.3346\tåbenbart ikke plads\t\t4.2878\tuden samtykke  \n",
      "\t-5.2326\tikke første oplever\t\t4.2522\ttak godt       \n",
      "\t-5.1605\tikke styr skid \t\t4.2341\thurtig præcis god\n",
      "\t-5.1593\trigtig dårligt \t\t4.1626\thurtig nærmeste\n",
      "\t-5.1363\tikke afleveret aftalt\t\t4.1435\trigtig hurtig  \n",
      "\t-5.1331\tingen måder    \t\t4.1016\tsuper venlig   \n",
      "\t-4.9205\tutrolig dårligt\t\t4.0793\thurtig sikkert \n",
      "\t-4.8828\tvirker slet    \t\t3.9798\thurtig fin betjening\n",
      "\t-4.8443\tikke rimeligt  \t\t3.9726\tyou see        \n",
      "\t-4.8312\tsimpelthen ikke godt\t\t3.9407\tikke ha        \n",
      "\t-4.8011\tsimpelthen ikke orden\t\t3.8914\thurtigt enkelt \n",
      "\t-4.7911\tforsøgt afleveret adressen\t\t3.8264\thurtig enkel   \n",
      "\t-4.7878\tkundeservice ingen\t\t3.8051\tnemt hurtigt billigt\n",
      "\t-4.7252\tingen hverken  \t\t3.7789\thurtig fragt   \n",
      "\t-4.7240\tikke bruger    \t\t3.7782\tgod behold     \n",
      "\t-4.7055\tledige rum     \t\t3.7596\tvej ikke       \n",
      "\t-4.6901\tfremover undgå \t\t3.7491\tikke gøres hurtigere\n",
      "\t-4.6893\tdårlig betjening\t\t3.7004\tgod information\n",
      "\t-4.6627\tgodt god       \t\t3.6729\tnemt bruge     \n",
      "\t-4.6485\tikke gå hurtigere\t\t3.6688\tfuld tilfredsstillende\n",
      "\t-4.6303\tuden informere \t\t3.6535\tnemt hurtigt   \n",
      "\t-4.6289\tsiger nok      \t\t3.6419\tdagen afsendt  \n",
      "\t-4.6191\tvide ikke plads\t\t3.6318\tfungerer rigtig godt\n",
      "\t-4.5905\tsjældent problemer\t\t3.5939\thurtig problemfrit\n",
      "\t-4.5273\tikke passede   \t\t3.5885\tgik hurtigt smertefrit\n",
      "\t-4.5131\tlang tid frem  \t\t3.5803\thurtigt sikkert\n",
      "\t-4.4646\thjemme hele formiddagen\t\t3.5744\tpositive oplevelser\n",
      "\t-4.4546\tikke arbejde   \t\t3.5742\thurtig venlig ekspedition\n",
      "\t-4.4269\tikke omdeling  \t\t3.5610\tfungerede tilfredsstillende\n"
     ]
    }
   ],
   "source": [
    "show_most_informative_features(best_tf_features, model.steps[1][1], n=50)"
   ]
  },
  {
   "cell_type": "code",
   "execution_count": null,
   "metadata": {},
   "outputs": [],
   "source": []
  }
 ],
 "metadata": {
  "kernelspec": {
   "display_name": "Python 3",
   "language": "python",
   "name": "python3"
  },
  "language_info": {
   "codemirror_mode": {
    "name": "ipython",
    "version": 3
   },
   "file_extension": ".py",
   "mimetype": "text/x-python",
   "name": "python",
   "nbconvert_exporter": "python",
   "pygments_lexer": "ipython3",
   "version": "3.6.5"
  }
 },
 "nbformat": 4,
 "nbformat_minor": 2
}
