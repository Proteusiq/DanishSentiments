{
 "cells": [
  {
   "cell_type": "code",
   "execution_count": 1,
   "metadata": {},
   "outputs": [],
   "source": [
    "import re               # pattern matching\n",
    "import requests         # getting data from web\n",
    "\n",
    "import matplotlib.pyplot as plt\n",
    "import seaborn as sns\n",
    "import pandas as pd\n",
    "import numpy as np\n",
    "\n",
    "import collections      # Counting made easy\n"
   ]
  },
  {
   "cell_type": "code",
   "execution_count": 2,
   "metadata": {},
   "outputs": [],
   "source": [
    "%matplotlib inline\n",
    "plt.style.use('fivethirtyeight') # plt.style.available\n",
    "plt.rcParams['figure.figsize'] = (15,5)\n",
    "sns.set_style(\"darkgrid\")\n"
   ]
  },
  {
   "cell_type": "code",
   "execution_count": 3,
   "metadata": {},
   "outputs": [],
   "source": [
    "import warnings\n",
    "warnings.filterwarnings('ignore')"
   ]
  },
  {
   "cell_type": "code",
   "execution_count": 4,
   "metadata": {},
   "outputs": [],
   "source": [
    "df = pd.read_pickle('../sentiment_data', compression='gzip')"
   ]
  },
  {
   "cell_type": "markdown",
   "metadata": {},
   "source": [
    "## Monkey Pandas Basics\n",
    "\n",
    "**df.describe()** shows df basic statistical summary <br/>\n",
    "**df.head(n)** shows first n rows, default = 5: eq. df.iloc[:n] <br/>\n",
    "**df.tail(n)** shows last n rows eq. df.iloc[-n:]<br/>\n",
    "**df.sample(n)** shows random n rows, default = 1, use frac=.n to get fraction of rows<br/>\n",
    "\n",
    "**df.shape** shows rows and columns count<br/>\n",
    "**df.dtypes** show columns data type<br/>\n",
    "**df.columns** returns a list of columns name<br/>\n",
    "\n",
    "**df.iloc[n:m]** select rows by indexed rows(uses python str,list slicing-like syntax)<br/>\n",
    "**df.iloc[:,k:l]** select columns by indexed columns(uses python str,list slicing-like syntax)<br/>\n",
    "   > e.g. ***_df.iloc[-5:,-2:]_*** select last 5 rows and last 2 columns<br/>\n",
    "   \n",
    "**df.loc[[n,m],[k,l]]** similiar to df.iloc but selects using sting<br/> \n",
    "   > e.g. ***_df.loc[['apple','mangoes'],['col_n','col_m']]_*** select row with apple and mangies and columns col_n and col_m<br/>\n",
    "   \n",
    "**df['col_n'].value_counts()** group and count col_n<br/>\n",
    "**df['col_n'].unque()** returns col_n's unique values<br/>\n",
    "**df['col_n'].nunque()** returns count of col_n's unique values<br/>\n",
    "\n",
    "**df['col_n'].apply(_function_) & df.map(_function_)** similiar to map(_function_,values)<br/>\n",
    "   > Series.apply(func, convert_dtype=True, args=(), \\**kwds) allows adding of args and kwargs to the function<br/>\n",
    "   > Series.map(arg, na_action=None) function cannot take args and kwargs <br/>\n",
    "   > e.g. ***_df['col_n].map(lambda x:x+1) _*** adds 1 to numeric values ofcol_n, for df see .map()<br/>\n",
    "   \n",
    "**df.drop(columns=['col_n'],inplace=True)** drops col_n completely, rows can be dropped by index=[...]<br/>\n",
    "  \n",
    "**df.dropna()** drops nans <br/>\n",
    "**df.fillna(value=n)** fills nans with n <br/>\n",
    "   > e.g. ***_df.fillna({'col_n':df['col_n'].median(), 'col_m':0}, inplace=True) _*** completely fill col_n nans with its median, col_m with 0<br/>\n",
    "   \n",
    "**df.drop_dublicates(inplace=True)** completely drops dublicates <br/>\n",
    "\n",
    "**df[['col_n','col_m']].astype(np.int32)**  cast data type of col_n and col_m to np.int32<br/>\n",
    "**df['date'] = pd.to_datetime(df['date'],infer_datetime_format=False)**  cast string data type date to date <br/>\n",
    "\n",
    "### Gorilla Pandas Basics\n",
    "Use multiple conditions\n",
    "\n",
    "df.drop(df[conditions].index)<br/>\n",
    "  > **df.drop(df[(df['features'].str.len() < 3) & (df['word_count'] > 20000)].index, inplace=True)**<br/>\n",
    "  > **df[(df['rating']<3) | (df['rating']>3)]**<br/>\n",
    "  > **df[~(df['rating']==3)]**<br/>\n",
    "  Note: Pandas logical operators: **|** for **or**, **&** for **and**, and **~** for **not**. Parentheses _()_ used to chain them.<br/>\n",
    "\n",
    "You can chain commands to make awesome queries e.g <br/>\n",
    "** df.group(['col_n','col_m']).sum().unstack().fillna(-9999).rolling(12).avg()**\n",
    "\n",
    "## jupyter magic commands\n",
    "- **%time** one line one loop timer\n",
    "- **%%time** mult-lines one loop timer\n",
    "- **%[%]timeit** multiple loops find best time, default 100,000 times"
   ]
  },
  {
   "cell_type": "markdown",
   "metadata": {},
   "source": [
    "### Explore our data"
   ]
  },
  {
   "cell_type": "code",
   "execution_count": 6,
   "metadata": {},
   "outputs": [
    {
     "data": {
      "text/html": [
       "<div>\n",
       "<style scoped>\n",
       "    .dataframe tbody tr th:only-of-type {\n",
       "        vertical-align: middle;\n",
       "    }\n",
       "\n",
       "    .dataframe tbody tr th {\n",
       "        vertical-align: top;\n",
       "    }\n",
       "\n",
       "    .dataframe thead th {\n",
       "        text-align: right;\n",
       "    }\n",
       "</style>\n",
       "<table border=\"1\" class=\"dataframe\">\n",
       "  <thead>\n",
       "    <tr style=\"text-align: right;\">\n",
       "      <th></th>\n",
       "      <th>datePublished</th>\n",
       "      <th>headline</th>\n",
       "      <th>inLanguage</th>\n",
       "      <th>ratingValue</th>\n",
       "      <th>reviewBody</th>\n",
       "      <th>reviewerName</th>\n",
       "    </tr>\n",
       "  </thead>\n",
       "  <tbody>\n",
       "    <tr>\n",
       "      <th>41623</th>\n",
       "      <td>2017-11-18 13:24:21</td>\n",
       "      <td>Fungerede til UG</td>\n",
       "      <td>da</td>\n",
       "      <td>5</td>\n",
       "      <td>Fungerede til UG</td>\n",
       "      <td>Svend</td>\n",
       "    </tr>\n",
       "    <tr>\n",
       "      <th>220242</th>\n",
       "      <td>2016-08-05 15:35:28</td>\n",
       "      <td>Forsunket. Våd, hullet emballage</td>\n",
       "      <td>da</td>\n",
       "      <td>2</td>\n",
       "      <td>Ville gerne her sende et billede af en våd og ...</td>\n",
       "      <td>Alm. kunde</td>\n",
       "    </tr>\n",
       "    <tr>\n",
       "      <th>443006</th>\n",
       "      <td>2012-01-30 12:11:32</td>\n",
       "      <td>Intet at udsætte på dem</td>\n",
       "      <td>da</td>\n",
       "      <td>5</td>\n",
       "      <td>Da jeg valgte at købe mobil gennem Telenor var...</td>\n",
       "      <td>Thomas Rasmussen</td>\n",
       "    </tr>\n",
       "    <tr>\n",
       "      <th>464874</th>\n",
       "      <td>2017-11-10 11:10:32</td>\n",
       "      <td>Problemfri handel.</td>\n",
       "      <td>da</td>\n",
       "      <td>5</td>\n",
       "      <td>Problemfri bestilling. Hurtig og problemfri le...</td>\n",
       "      <td>Erling Friis Pedersen</td>\n",
       "    </tr>\n",
       "    <tr>\n",
       "      <th>45402</th>\n",
       "      <td>2017-11-11 19:00:56</td>\n",
       "      <td>helt ok</td>\n",
       "      <td>da</td>\n",
       "      <td>5</td>\n",
       "      <td>helt ok.  -  hurtig levering</td>\n",
       "      <td>Erik Jacobsen</td>\n",
       "    </tr>\n",
       "  </tbody>\n",
       "</table>\n",
       "</div>"
      ],
      "text/plain": [
       "             datePublished                          headline inLanguage  \\\n",
       "41623  2017-11-18 13:24:21                  Fungerede til UG         da   \n",
       "220242 2016-08-05 15:35:28  Forsunket. Våd, hullet emballage         da   \n",
       "443006 2012-01-30 12:11:32           Intet at udsætte på dem         da   \n",
       "464874 2017-11-10 11:10:32                Problemfri handel.         da   \n",
       "45402  2017-11-11 19:00:56                           helt ok         da   \n",
       "\n",
       "        ratingValue                                         reviewBody  \\\n",
       "41623             5                                   Fungerede til UG   \n",
       "220242            2  Ville gerne her sende et billede af en våd og ...   \n",
       "443006            5  Da jeg valgte at købe mobil gennem Telenor var...   \n",
       "464874            5  Problemfri bestilling. Hurtig og problemfri le...   \n",
       "45402             5                       helt ok.  -  hurtig levering   \n",
       "\n",
       "                 reviewerName  \n",
       "41623                   Svend  \n",
       "220242             Alm. kunde  \n",
       "443006       Thomas Rasmussen  \n",
       "464874  Erling Friis Pedersen  \n",
       "45402           Erik Jacobsen  "
      ]
     },
     "execution_count": 6,
     "metadata": {},
     "output_type": "execute_result"
    }
   ],
   "source": [
    "df.sample(5) #.head() and .tail()"
   ]
  },
  {
   "cell_type": "code",
   "execution_count": 7,
   "metadata": {},
   "outputs": [
    {
     "data": {
      "text/plain": [
       "(628259, 6)"
      ]
     },
     "execution_count": 7,
     "metadata": {},
     "output_type": "execute_result"
    }
   ],
   "source": [
    "df.shape"
   ]
  },
  {
   "cell_type": "code",
   "execution_count": 8,
   "metadata": {},
   "outputs": [
    {
     "data": {
      "text/plain": [
       "datePublished    datetime64[ns]\n",
       "headline                 object\n",
       "inLanguage               object\n",
       "ratingValue               int32\n",
       "reviewBody               object\n",
       "reviewerName             object\n",
       "dtype: object"
      ]
     },
     "execution_count": 8,
     "metadata": {},
     "output_type": "execute_result"
    }
   ],
   "source": [
    "df.dtypes"
   ]
  },
  {
   "cell_type": "markdown",
   "metadata": {},
   "source": [
    "#### randomaize data, set seed for reproducibility, make a copy"
   ]
  },
  {
   "cell_type": "code",
   "execution_count": 9,
   "metadata": {},
   "outputs": [],
   "source": [
    "np.random.seed(7)\n",
    "data = df.reindex(np.random.permutation(df.index))"
   ]
  },
  {
   "cell_type": "markdown",
   "metadata": {},
   "source": [
    "#### double check to see if data contains our language of choice. if not, do something about it\n",
    "e.g. data = data[(data['inLanguage']=='da')]"
   ]
  },
  {
   "cell_type": "code",
   "execution_count": 10,
   "metadata": {},
   "outputs": [
    {
     "data": {
      "text/plain": [
       "array(['da'], dtype=object)"
      ]
     },
     "execution_count": 10,
     "metadata": {},
     "output_type": "execute_result"
    }
   ],
   "source": [
    "data['inLanguage'].unique()"
   ]
  },
  {
   "cell_type": "markdown",
   "metadata": {},
   "source": [
    "Keep on the columns that we are after reviews and their ratings"
   ]
  },
  {
   "cell_type": "code",
   "execution_count": 11,
   "metadata": {},
   "outputs": [],
   "source": [
    "data = data[['reviewBody','ratingValue']]\n",
    "# or this:\n",
    "# data.drop(columns=['headline','datePublished','inLanguage','reviewerName'], inplace=True)"
   ]
  },
  {
   "cell_type": "markdown",
   "metadata": {},
   "source": [
    "Change column names to something more DS (Absolutely unnecessary)"
   ]
  },
  {
   "cell_type": "code",
   "execution_count": 12,
   "metadata": {},
   "outputs": [],
   "source": [
    "data.rename(columns={'reviewBody':'features','ratingValue':'target'}, inplace=True)"
   ]
  },
  {
   "cell_type": "code",
   "execution_count": 17,
   "metadata": {},
   "outputs": [
    {
     "data": {
      "text/html": [
       "<div>\n",
       "<style scoped>\n",
       "    .dataframe tbody tr th:only-of-type {\n",
       "        vertical-align: middle;\n",
       "    }\n",
       "\n",
       "    .dataframe tbody tr th {\n",
       "        vertical-align: top;\n",
       "    }\n",
       "\n",
       "    .dataframe thead th {\n",
       "        text-align: right;\n",
       "    }\n",
       "</style>\n",
       "<table border=\"1\" class=\"dataframe\">\n",
       "  <thead>\n",
       "    <tr style=\"text-align: right;\">\n",
       "      <th></th>\n",
       "      <th>features</th>\n",
       "      <th>target</th>\n",
       "    </tr>\n",
       "  </thead>\n",
       "  <tbody>\n",
       "    <tr>\n",
       "      <th>405284</th>\n",
       "      <td>Altid fremragende service hos post.dk, min sæd...</td>\n",
       "      <td>5</td>\n",
       "    </tr>\n",
       "    <tr>\n",
       "      <th>441451</th>\n",
       "      <td>Jeg blev ringet op af en sælger, der solgte mi...</td>\n",
       "      <td>2</td>\n",
       "    </tr>\n",
       "    <tr>\n",
       "      <th>63283</th>\n",
       "      <td>God servise, aflevering til tiden.</td>\n",
       "      <td>4</td>\n",
       "    </tr>\n",
       "    <tr>\n",
       "      <th>179442</th>\n",
       "      <td>Fik sms besked og mail fra morgenstunden på at...</td>\n",
       "      <td>3</td>\n",
       "    </tr>\n",
       "    <tr>\n",
       "      <th>287829</th>\n",
       "      <td>Pakke omdelt og afleveret selvom jeg med vilje...</td>\n",
       "      <td>3</td>\n",
       "    </tr>\n",
       "  </tbody>\n",
       "</table>\n",
       "</div>"
      ],
      "text/plain": [
       "                                                 features  target\n",
       "405284  Altid fremragende service hos post.dk, min sæd...       5\n",
       "441451  Jeg blev ringet op af en sælger, der solgte mi...       2\n",
       "63283                  God servise, aflevering til tiden.       4\n",
       "179442  Fik sms besked og mail fra morgenstunden på at...       3\n",
       "287829  Pakke omdelt og afleveret selvom jeg med vilje...       3"
      ]
     },
     "execution_count": 17,
     "metadata": {},
     "output_type": "execute_result"
    }
   ],
   "source": [
    "data.iloc[10:15]"
   ]
  },
  {
   "cell_type": "markdown",
   "metadata": {},
   "source": [
    "#### Let's check if there are nulls \n",
    "if there are null, drop them. You can use data.dropna(axis=0, how='any', inplace=True) # axis=0 row =1 columns <br/>\n",
    "**Tip:** _data.isnull().sum().sum()_ returns groupped null count"
   ]
  },
  {
   "cell_type": "code",
   "execution_count": 18,
   "metadata": {},
   "outputs": [
    {
     "data": {
      "text/plain": [
       "features    0\n",
       "target      0\n",
       "dtype: int64"
      ]
     },
     "execution_count": 18,
     "metadata": {},
     "output_type": "execute_result"
    }
   ],
   "source": [
    "data.isnull().sum()"
   ]
  },
  {
   "cell_type": "markdown",
   "metadata": {},
   "source": [
    "##### Check if we have empty or 1 length features"
   ]
  },
  {
   "cell_type": "code",
   "execution_count": 19,
   "metadata": {},
   "outputs": [
    {
     "data": {
      "text/html": [
       "<div>\n",
       "<style scoped>\n",
       "    .dataframe tbody tr th:only-of-type {\n",
       "        vertical-align: middle;\n",
       "    }\n",
       "\n",
       "    .dataframe tbody tr th {\n",
       "        vertical-align: top;\n",
       "    }\n",
       "\n",
       "    .dataframe thead th {\n",
       "        text-align: right;\n",
       "    }\n",
       "</style>\n",
       "<table border=\"1\" class=\"dataframe\">\n",
       "  <thead>\n",
       "    <tr style=\"text-align: right;\">\n",
       "      <th></th>\n",
       "      <th>features</th>\n",
       "      <th>target</th>\n",
       "    </tr>\n",
       "  </thead>\n",
       "  <tbody>\n",
       "    <tr>\n",
       "      <th>446878</th>\n",
       "      <td></td>\n",
       "      <td>2</td>\n",
       "    </tr>\n",
       "    <tr>\n",
       "      <th>410174</th>\n",
       "      <td></td>\n",
       "      <td>1</td>\n",
       "    </tr>\n",
       "    <tr>\n",
       "      <th>406190</th>\n",
       "      <td>1</td>\n",
       "      <td>1</td>\n",
       "    </tr>\n",
       "    <tr>\n",
       "      <th>434891</th>\n",
       "      <td></td>\n",
       "      <td>1</td>\n",
       "    </tr>\n",
       "    <tr>\n",
       "      <th>40581</th>\n",
       "      <td></td>\n",
       "      <td>1</td>\n",
       "    </tr>\n",
       "    <tr>\n",
       "      <th>406536</th>\n",
       "      <td>-</td>\n",
       "      <td>5</td>\n",
       "    </tr>\n",
       "    <tr>\n",
       "      <th>405955</th>\n",
       "      <td>-</td>\n",
       "      <td>5</td>\n",
       "    </tr>\n",
       "    <tr>\n",
       "      <th>406567</th>\n",
       "      <td>1</td>\n",
       "      <td>5</td>\n",
       "    </tr>\n",
       "    <tr>\n",
       "      <th>426502</th>\n",
       "      <td></td>\n",
       "      <td>1</td>\n",
       "    </tr>\n",
       "    <tr>\n",
       "      <th>406325</th>\n",
       "      <td>5</td>\n",
       "      <td>5</td>\n",
       "    </tr>\n",
       "  </tbody>\n",
       "</table>\n",
       "</div>"
      ],
      "text/plain": [
       "       features  target\n",
       "446878                2\n",
       "410174                1\n",
       "406190        1       1\n",
       "434891                1\n",
       "40581                 1\n",
       "406536        -       5\n",
       "405955        -       5\n",
       "406567        1       5\n",
       "426502                1\n",
       "406325        5       5"
      ]
     },
     "execution_count": 19,
     "metadata": {},
     "output_type": "execute_result"
    }
   ],
   "source": [
    "data[(data['features'].str.strip().str.len()<2)]"
   ]
  },
  {
   "cell_type": "markdown",
   "metadata": {},
   "source": [
    "##### drop them"
   ]
  },
  {
   "cell_type": "code",
   "execution_count": 20,
   "metadata": {},
   "outputs": [],
   "source": [
    "data.drop(index=data[(data['features'].str.len()<2)].index, inplace=True)"
   ]
  },
  {
   "cell_type": "markdown",
   "metadata": {},
   "source": [
    "### EDA finally"
   ]
  },
  {
   "cell_type": "code",
   "execution_count": 21,
   "metadata": {},
   "outputs": [
    {
     "name": "stdout",
     "output_type": "stream",
     "text": [
      "{5: 373381, 4: 87146, 1: 84882, 2: 42350, 3: 40490} \n",
      "\n"
     ]
    },
    {
     "data": {
      "image/png": "[encoded data removed]",
      "text/plain": [
       "<Figure size 1080x360 with 1 Axes>"
      ]
     },
     "metadata": {},
     "output_type": "display_data"
    }
   ],
   "source": [
    "print(data['target'].value_counts().to_dict(),'\\n')\n",
    "_ = data['target'].value_counts().plot(kind='bar', title='Rating Distribution')"
   ]
  },
  {
   "cell_type": "markdown",
   "metadata": {},
   "source": [
    "### Are lengthy reviews leaning towards negative sentiment?"
   ]
  },
  {
   "cell_type": "code",
   "execution_count": 22,
   "metadata": {},
   "outputs": [],
   "source": [
    "data['featureLength'] = data['features'].str.len()"
   ]
  },
  {
   "cell_type": "code",
   "execution_count": 23,
   "metadata": {},
   "outputs": [],
   "source": [
    "kwargs = dict(x='target', y='featureLength',data=data,\n",
    "                  size=10, color='b')"
   ]
  },
  {
   "cell_type": "code",
   "execution_count": 24,
   "metadata": {},
   "outputs": [
    {
     "data": {
      "image/png": "[encoded data removed]",
      "text/plain": [
       "<Figure size 720x720 with 3 Axes>"
      ]
     },
     "metadata": {},
     "output_type": "display_data"
    }
   ],
   "source": [
    "g = sns.jointplot(kind='scatter',**kwargs, joint_kws={'s':150, 'alpha':.09})"
   ]
  },
  {
   "cell_type": "code",
   "execution_count": 25,
   "metadata": {},
   "outputs": [
    {
     "data": {
      "text/plain": [
       "Text(0.5,1,'Less Crowded: Review Length || Rating Score')"
      ]
     },
     "execution_count": 25,
     "metadata": {},
     "output_type": "execute_result"
    },
    {
     "data": {
      "image/png": "[encoded data removed]",
      "text/plain": [
       "<Figure size 1080x360 with 1 Axes>"
      ]
     },
     "metadata": {},
     "output_type": "display_data"
    }
   ],
   "source": [
    "g = sns.stripplot(jitter=.2,s=5, alpha=.15,**kwargs)\n",
    "plt.title('Less Crowded: Review Length || Rating Score', loc='center')"
   ]
  },
  {
   "cell_type": "code",
   "execution_count": 26,
   "metadata": {},
   "outputs": [],
   "source": [
    "#sns.violinplot(**kwargs, palette=\"Pastel1\")\n"
   ]
  },
  {
   "cell_type": "code",
   "execution_count": 27,
   "metadata": {},
   "outputs": [],
   "source": [
    "# Lets  drop rating of 3, and group 1-2 as 0, and 4-5 as 1\n",
    "\n",
    "data.drop(data[~(data['target']!=3)].index, inplace=True) #or data= data[(data['target'] !=3)]\n",
    "# what! Explain? Pandas filter True condition, data['target']!=3 creates a boolen where 3 is false,\n",
    "# we negate this, so that what we want is false, and what we don't want, True, and thus droped.\n",
    "# this would give us the results: data.drop(data[(data['target']==3)].index, inplace=True)\n",
    "# the first is used just to show how to use ~ negation ;)\n",
    "\n",
    "data['y'] = np.where(data['target']>3,1,0)"
   ]
  },
  {
   "cell_type": "code",
   "execution_count": 28,
   "metadata": {},
   "outputs": [
    {
     "name": "stdout",
     "output_type": "stream",
     "text": [
      "{1: 460527, 0: 127232} \n",
      "\n"
     ]
    },
    {
     "data": {
      "image/png": "[encoded data removed]",
      "text/plain": [
       "<Figure size 1080x360 with 1 Axes>"
      ]
     },
     "metadata": {},
     "output_type": "display_data"
    }
   ],
   "source": [
    "print(data['y'].value_counts().to_dict(),'\\n')\n",
    "_ = data['y'].value_counts().plot(kind='bar', title='Sentiment Distribution')"
   ]
  },
  {
   "cell_type": "markdown",
   "metadata": {},
   "source": [
    "### How are words used in positive | negative rated reviews\n",
    " use a helper function :) https://gist.github.com/Proteusiq/85f9d1131f8256e05234fd57c564d2e9\n"
   ]
  },
  {
   "cell_type": "code",
   "execution_count": 29,
   "metadata": {},
   "outputs": [],
   "source": [
    "def terms_frequency(corpus, words_only=False,emoji_only=False, emoji_normalize=False):\n",
    "    \n",
    "    '''\n",
    "    Takes in texts and returns a pandas DataFrame of words frequency\n",
    "    words_only=True if only words needed\n",
    "    emoji_only=True if only emoji_only. emoji_nomalize removes noses and turn ; to :\n",
    "    requirement = pandas\n",
    "    '''\n",
    "    corpus_ = corpus.lower()\n",
    "    # eyes [nose] mouth | mouth [nose] eyes pattern\n",
    "    emoticons = r\"(?:[<>]?[:;=8][\\-o\\*\\']?[\\)\\]\\(\\[dDpP/\\:\\}\\{@\\|\\\\]|[\\)\\]\\(\\[dDpP/\\:\\}\\{@\\|\\\\][\\-o\\*\\']?[:;=8][<>]?)\"\n",
    "    emoticon_re = re.compile(emoticons, re.VERBOSE | re.I | re.UNICODE)\n",
    "    \n",
    "    if words_only:\n",
    "        terms = (re.sub('[\\W]+', ' ', corpus_)).split()\n",
    "    \n",
    "    elif emoji_only:\n",
    "        terms = re.findall(emoticon_re, corpus_)\n",
    "    \n",
    "    else:\n",
    "        if emoji_normalize:\n",
    "            normalize_str = (re.sub('[\\W]+', ' ', corpus.lower()) +\n",
    "                                  ' '.join(re.findall(emoticon_re, corpus)).replace(';',':').replace('-',''))\n",
    "            terms = normalize_str.split()\n",
    "        else:\n",
    "            terms = (re.sub('[\\W]+', ' ', corpus_).split())\n",
    "            terms.extend(re.findall(emoticon_re, corpus_))\n",
    "                                                        \n",
    "    \n",
    "    terms_freq = pd.DataFrame.from_dict(collections.Counter(terms), orient='index').reset_index()\n",
    "\n",
    "    terms_freq = terms_freq.rename(columns={'index':'word', 0:'count'}).sort_values('count',ascending=False)\n",
    "                \n",
    "    terms_freq.reset_index(inplace=True)\n",
    "    terms_freq.drop('index',axis=1,inplace=True)\n",
    "                                                             \n",
    "    return terms_freq"
   ]
  },
  {
   "cell_type": "code",
   "execution_count": 30,
   "metadata": {},
   "outputs": [],
   "source": [
    "# get positive and negative texts"
   ]
  },
  {
   "cell_type": "code",
   "execution_count": 31,
   "metadata": {},
   "outputs": [
    {
     "name": "stdout",
     "output_type": "stream",
     "text": [
      "Wall time: 9.69 s\n"
     ]
    }
   ],
   "source": [
    "%%time\n",
    "pos = data[data['y']==1]\n",
    "neg = data[data['y']==0]\n",
    "\n",
    "pos_text = pos['features'].to_string(index=False)\n",
    "neg_text = neg['features'].to_string(index=False)"
   ]
  },
  {
   "cell_type": "code",
   "execution_count": 32,
   "metadata": {},
   "outputs": [
    {
     "name": "stdout",
     "output_type": "stream",
     "text": [
      "Wall time: 8.35 s\n"
     ]
    }
   ],
   "source": [
    "%%time\n",
    "pos_df = terms_frequency(pos_text, emoji_normalize=True)\n",
    "neg_df = terms_frequency(neg_text, emoji_normalize=True)"
   ]
  },
  {
   "cell_type": "code",
   "execution_count": 33,
   "metadata": {},
   "outputs": [
    {
     "data": {
      "text/html": [
       "<div>\n",
       "<style scoped>\n",
       "    .dataframe tbody tr th:only-of-type {\n",
       "        vertical-align: middle;\n",
       "    }\n",
       "\n",
       "    .dataframe tbody tr th {\n",
       "        vertical-align: top;\n",
       "    }\n",
       "\n",
       "    .dataframe thead th {\n",
       "        text-align: right;\n",
       "    }\n",
       "</style>\n",
       "<table border=\"1\" class=\"dataframe\">\n",
       "  <thead>\n",
       "    <tr style=\"text-align: right;\">\n",
       "      <th></th>\n",
       "      <th>word</th>\n",
       "      <th>count</th>\n",
       "    </tr>\n",
       "  </thead>\n",
       "  <tbody>\n",
       "    <tr>\n",
       "      <th>0</th>\n",
       "      <td>og</td>\n",
       "      <td>156771</td>\n",
       "    </tr>\n",
       "    <tr>\n",
       "      <th>1</th>\n",
       "      <td>hurtig</td>\n",
       "      <td>101410</td>\n",
       "    </tr>\n",
       "    <tr>\n",
       "      <th>2</th>\n",
       "      <td>levering</td>\n",
       "      <td>92389</td>\n",
       "    </tr>\n",
       "    <tr>\n",
       "      <th>3</th>\n",
       "      <td>jeg</td>\n",
       "      <td>69278</td>\n",
       "    </tr>\n",
       "    <tr>\n",
       "      <th>4</th>\n",
       "      <td>det</td>\n",
       "      <td>56307</td>\n",
       "    </tr>\n",
       "    <tr>\n",
       "      <th>5</th>\n",
       "      <td>til</td>\n",
       "      <td>51362</td>\n",
       "    </tr>\n",
       "    <tr>\n",
       "      <th>6</th>\n",
       "      <td>god</td>\n",
       "      <td>51135</td>\n",
       "    </tr>\n",
       "    <tr>\n",
       "      <th>7</th>\n",
       "      <td>at</td>\n",
       "      <td>49428</td>\n",
       "    </tr>\n",
       "    <tr>\n",
       "      <th>8</th>\n",
       "      <td>er</td>\n",
       "      <td>49089</td>\n",
       "    </tr>\n",
       "    <tr>\n",
       "      <th>9</th>\n",
       "      <td>en</td>\n",
       "      <td>46082</td>\n",
       "    </tr>\n",
       "  </tbody>\n",
       "</table>\n",
       "</div>"
      ],
      "text/plain": [
       "       word   count\n",
       "0        og  156771\n",
       "1    hurtig  101410\n",
       "2  levering   92389\n",
       "3       jeg   69278\n",
       "4       det   56307\n",
       "5       til   51362\n",
       "6       god   51135\n",
       "7        at   49428\n",
       "8        er   49089\n",
       "9        en   46082"
      ]
     },
     "execution_count": 33,
     "metadata": {},
     "output_type": "execute_result"
    }
   ],
   "source": [
    "pos_df.head(10)"
   ]
  },
  {
   "cell_type": "code",
   "execution_count": 34,
   "metadata": {},
   "outputs": [
    {
     "data": {
      "text/html": [
       "<div>\n",
       "<style scoped>\n",
       "    .dataframe tbody tr th:only-of-type {\n",
       "        vertical-align: middle;\n",
       "    }\n",
       "\n",
       "    .dataframe tbody tr th {\n",
       "        vertical-align: top;\n",
       "    }\n",
       "\n",
       "    .dataframe thead th {\n",
       "        text-align: right;\n",
       "    }\n",
       "</style>\n",
       "<table border=\"1\" class=\"dataframe\">\n",
       "  <thead>\n",
       "    <tr style=\"text-align: right;\">\n",
       "      <th></th>\n",
       "      <th>word</th>\n",
       "      <th>count</th>\n",
       "    </tr>\n",
       "  </thead>\n",
       "  <tbody>\n",
       "    <tr>\n",
       "      <th>0</th>\n",
       "      <td>jeg</td>\n",
       "      <td>42496</td>\n",
       "    </tr>\n",
       "    <tr>\n",
       "      <th>1</th>\n",
       "      <td>at</td>\n",
       "      <td>32809</td>\n",
       "    </tr>\n",
       "    <tr>\n",
       "      <th>2</th>\n",
       "      <td>en</td>\n",
       "      <td>29912</td>\n",
       "    </tr>\n",
       "    <tr>\n",
       "      <th>3</th>\n",
       "      <td>i</td>\n",
       "      <td>26268</td>\n",
       "    </tr>\n",
       "    <tr>\n",
       "      <th>4</th>\n",
       "      <td>er</td>\n",
       "      <td>22610</td>\n",
       "    </tr>\n",
       "    <tr>\n",
       "      <th>5</th>\n",
       "      <td>har</td>\n",
       "      <td>21584</td>\n",
       "    </tr>\n",
       "    <tr>\n",
       "      <th>6</th>\n",
       "      <td>pakke</td>\n",
       "      <td>19141</td>\n",
       "    </tr>\n",
       "    <tr>\n",
       "      <th>7</th>\n",
       "      <td>ikke</td>\n",
       "      <td>18077</td>\n",
       "    </tr>\n",
       "    <tr>\n",
       "      <th>8</th>\n",
       "      <td>og</td>\n",
       "      <td>18017</td>\n",
       "    </tr>\n",
       "    <tr>\n",
       "      <th>9</th>\n",
       "      <td>til</td>\n",
       "      <td>17173</td>\n",
       "    </tr>\n",
       "    <tr>\n",
       "      <th>10</th>\n",
       "      <td>det</td>\n",
       "      <td>16782</td>\n",
       "    </tr>\n",
       "  </tbody>\n",
       "</table>\n",
       "</div>"
      ],
      "text/plain": [
       "     word  count\n",
       "0     jeg  42496\n",
       "1      at  32809\n",
       "2      en  29912\n",
       "3       i  26268\n",
       "4      er  22610\n",
       "5     har  21584\n",
       "6   pakke  19141\n",
       "7    ikke  18077\n",
       "8      og  18017\n",
       "9     til  17173\n",
       "10    det  16782"
      ]
     },
     "execution_count": 34,
     "metadata": {},
     "output_type": "execute_result"
    }
   ],
   "source": [
    "neg_df.loc[:10,]"
   ]
  },
  {
   "cell_type": "code",
   "execution_count": 35,
   "metadata": {},
   "outputs": [],
   "source": [
    "pos_neg_df = pos_df.merge(neg_df.drop_duplicates(), on=['word'], \n",
    "                   how='left', indicator=True)\n",
    "\n",
    "neg_pos_df = neg_df.merge(pos_df.drop_duplicates(), on=['word'], \n",
    "                   how='left', indicator=True)"
   ]
  },
  {
   "cell_type": "code",
   "execution_count": 36,
   "metadata": {},
   "outputs": [
    {
     "data": {
      "text/html": [
       "<div>\n",
       "<style scoped>\n",
       "    .dataframe tbody tr th:only-of-type {\n",
       "        vertical-align: middle;\n",
       "    }\n",
       "\n",
       "    .dataframe tbody tr th {\n",
       "        vertical-align: top;\n",
       "    }\n",
       "\n",
       "    .dataframe thead th {\n",
       "        text-align: right;\n",
       "    }\n",
       "</style>\n",
       "<table border=\"1\" class=\"dataframe\">\n",
       "  <thead>\n",
       "    <tr style=\"text-align: right;\">\n",
       "      <th></th>\n",
       "      <th>word</th>\n",
       "      <th>count_x</th>\n",
       "      <th>count_y</th>\n",
       "      <th>_merge</th>\n",
       "    </tr>\n",
       "  </thead>\n",
       "  <tbody>\n",
       "    <tr>\n",
       "      <th>0</th>\n",
       "      <td>og</td>\n",
       "      <td>156771</td>\n",
       "      <td>18017.0</td>\n",
       "      <td>both</td>\n",
       "    </tr>\n",
       "    <tr>\n",
       "      <th>1</th>\n",
       "      <td>hurtig</td>\n",
       "      <td>101410</td>\n",
       "      <td>738.0</td>\n",
       "      <td>both</td>\n",
       "    </tr>\n",
       "    <tr>\n",
       "      <th>2</th>\n",
       "      <td>levering</td>\n",
       "      <td>92389</td>\n",
       "      <td>4607.0</td>\n",
       "      <td>both</td>\n",
       "    </tr>\n",
       "    <tr>\n",
       "      <th>3</th>\n",
       "      <td>jeg</td>\n",
       "      <td>69278</td>\n",
       "      <td>42496.0</td>\n",
       "      <td>both</td>\n",
       "    </tr>\n",
       "    <tr>\n",
       "      <th>4</th>\n",
       "      <td>det</td>\n",
       "      <td>56307</td>\n",
       "      <td>16782.0</td>\n",
       "      <td>both</td>\n",
       "    </tr>\n",
       "  </tbody>\n",
       "</table>\n",
       "</div>"
      ],
      "text/plain": [
       "       word  count_x  count_y _merge\n",
       "0        og   156771  18017.0   both\n",
       "1    hurtig   101410    738.0   both\n",
       "2  levering    92389   4607.0   both\n",
       "3       jeg    69278  42496.0   both\n",
       "4       det    56307  16782.0   both"
      ]
     },
     "execution_count": 36,
     "metadata": {},
     "output_type": "execute_result"
    }
   ],
   "source": [
    "pos_neg_df.head()"
   ]
  },
  {
   "cell_type": "code",
   "execution_count": 37,
   "metadata": {},
   "outputs": [],
   "source": [
    "def show_shared_words(viz_data,title='Shared Words'):\n",
    "    g=sns.regplot(data=viz_data, x='count_y', y='count_x',\n",
    "                    fit_reg=False, color='skyblue', scatter_kws={'s':50})\n",
    "\n",
    "    # add annotations one by one with a loop\n",
    "    for i, _ in enumerate(viz_data):\n",
    "         g.text(viz_data['count_y'][i], viz_data['count_x'][i],viz_data['word'][i],\n",
    "                horizontalalignment='left', size='medium', color='black', weight='semibold')\n",
    "\n",
    "    plt.title(title, loc='center')"
   ]
  },
  {
   "cell_type": "code",
   "execution_count": 38,
   "metadata": {},
   "outputs": [],
   "source": [
    "p_data, n_data = pos_neg_df[(pos_neg_df['_merge']=='both')],  neg_pos_df[(neg_pos_df['_merge']=='both')]\n"
   ]
  },
  {
   "cell_type": "code",
   "execution_count": 39,
   "metadata": {},
   "outputs": [
    {
     "data": {
      "image/png": "[encoded data removed]",
      "text/plain": [
       "<Figure size 1080x360 with 1 Axes>"
      ]
     },
     "metadata": {},
     "output_type": "display_data"
    }
   ],
   "source": [
    "show_shared_words(p_data,'Postive Against Negative Shared Words')"
   ]
  },
  {
   "cell_type": "code",
   "execution_count": 40,
   "metadata": {},
   "outputs": [
    {
     "data": {
      "image/png": "[encoded data removed]",
      "text/plain": [
       "<Figure size 1080x360 with 1 Axes>"
      ]
     },
     "metadata": {},
     "output_type": "display_data"
    }
   ],
   "source": [
    "show_shared_words(n_data,'Negative Against Positive Shared Words')"
   ]
  },
  {
   "cell_type": "code",
   "execution_count": 41,
   "metadata": {},
   "outputs": [],
   "source": [
    "# Stopwords ISO https://github.com/stopwords-iso maintained by Gene Diaz\n",
    "# The most comprehensive collection of stopwords for multiple languages\n",
    "\n",
    "url = 'https://raw.githubusercontent.com/stopwords-iso/stopwords-da/master/stopwords-da.json'\n",
    "r = requests.get(url) # for large files use stream=True\n",
    "\n",
    "if r.ok:\n",
    "    stop_words = set(r.json())"
   ]
  },
  {
   "cell_type": "code",
   "execution_count": 46,
   "metadata": {},
   "outputs": [],
   "source": [
    "stops = stop_words - set(['aldrig','god','godt','ikke','ingen','intet']) # from what we know\n",
    "\n",
    "#Not how to do it & Knowledge of your data\n",
    "stops = stops.union(set(['hjemme','hilsen','service','pakken','pakke','pakker','sms','post','bestil','bestilte','bestilt',\n",
    "                         'levering','postnord','kr','kl','levered','leveret','gang','gange','mail',\n",
    "                         'besked','dag','dage','ring','alm brand','dansk bank'])) # all kind of ring?"
   ]
  },
  {
   "cell_type": "code",
   "execution_count": 47,
   "metadata": {},
   "outputs": [],
   "source": [
    "# Pandas allows as to do more. e.g. We can remove words in with certain regex, str.contains\n",
    "ring_words = neg_df[neg_df['word'].str.contains('^ring\\w{,2}$',regex=True)]['word'].values.tolist()"
   ]
  },
  {
   "cell_type": "code",
   "execution_count": 49,
   "metadata": {},
   "outputs": [],
   "source": [
    "# Even better\n",
    "comb_words = pos_df[pos_df['word'].str.contains('^pakk|^post|^lever|^bestil|^trac|^dage',regex=True)]['word'].values.tolist()"
   ]
  },
  {
   "cell_type": "code",
   "execution_count": 50,
   "metadata": {},
   "outputs": [],
   "source": [
    "stops = stops.union(set(ring_words+comb_words))"
   ]
  },
  {
   "cell_type": "code",
   "execution_count": 51,
   "metadata": {},
   "outputs": [
    {
     "data": {
      "text/html": [
       "<div>\n",
       "<style scoped>\n",
       "    .dataframe tbody tr th:only-of-type {\n",
       "        vertical-align: middle;\n",
       "    }\n",
       "\n",
       "    .dataframe tbody tr th {\n",
       "        vertical-align: top;\n",
       "    }\n",
       "\n",
       "    .dataframe thead th {\n",
       "        text-align: right;\n",
       "    }\n",
       "</style>\n",
       "<table border=\"1\" class=\"dataframe\">\n",
       "  <thead>\n",
       "    <tr style=\"text-align: right;\">\n",
       "      <th></th>\n",
       "      <th>count</th>\n",
       "    </tr>\n",
       "    <tr>\n",
       "      <th>word</th>\n",
       "      <th></th>\n",
       "    </tr>\n",
       "  </thead>\n",
       "  <tbody>\n",
       "    <tr>\n",
       "      <th>og</th>\n",
       "      <td>156771.0</td>\n",
       "    </tr>\n",
       "    <tr>\n",
       "      <th>levering</th>\n",
       "      <td>92389.0</td>\n",
       "    </tr>\n",
       "    <tr>\n",
       "      <th>jeg</th>\n",
       "      <td>69278.0</td>\n",
       "    </tr>\n",
       "    <tr>\n",
       "      <th>det</th>\n",
       "      <td>56307.0</td>\n",
       "    </tr>\n",
       "    <tr>\n",
       "      <th>til</th>\n",
       "      <td>51362.0</td>\n",
       "    </tr>\n",
       "  </tbody>\n",
       "</table>\n",
       "</div>"
      ],
      "text/plain": [
       "             count\n",
       "word              \n",
       "og        156771.0\n",
       "levering   92389.0\n",
       "jeg        69278.0\n",
       "det        56307.0\n",
       "til        51362.0"
      ]
     },
     "execution_count": 51,
     "metadata": {},
     "output_type": "execute_result"
    }
   ],
   "source": [
    "_ = pos_df.set_index('word').loc[stops].sort_values('count', ascending=False)\n",
    "_.head(5)"
   ]
  },
  {
   "cell_type": "code",
   "execution_count": 52,
   "metadata": {
    "collapsed": true
   },
   "outputs": [
    {
     "data": {
      "text/html": [
       "<div>\n",
       "<style scoped>\n",
       "    .dataframe tbody tr th:only-of-type {\n",
       "        vertical-align: middle;\n",
       "    }\n",
       "\n",
       "    .dataframe tbody tr th {\n",
       "        vertical-align: top;\n",
       "    }\n",
       "\n",
       "    .dataframe thead th {\n",
       "        text-align: right;\n",
       "    }\n",
       "</style>\n",
       "<table border=\"1\" class=\"dataframe\">\n",
       "  <thead>\n",
       "    <tr style=\"text-align: right;\">\n",
       "      <th></th>\n",
       "      <th>word</th>\n",
       "      <th>count</th>\n",
       "    </tr>\n",
       "  </thead>\n",
       "  <tbody>\n",
       "    <tr>\n",
       "      <th>1</th>\n",
       "      <td>hurtig</td>\n",
       "      <td>101410</td>\n",
       "    </tr>\n",
       "    <tr>\n",
       "      <th>6</th>\n",
       "      <td>god</td>\n",
       "      <td>51135</td>\n",
       "    </tr>\n",
       "    <tr>\n",
       "      <th>14</th>\n",
       "      <td>hurtigt</td>\n",
       "      <td>35435</td>\n",
       "    </tr>\n",
       "    <tr>\n",
       "      <th>16</th>\n",
       "      <td>super</td>\n",
       "      <td>31626</td>\n",
       "    </tr>\n",
       "    <tr>\n",
       "      <th>24</th>\n",
       "      <td>nemt</td>\n",
       "      <td>21135</td>\n",
       "    </tr>\n",
       "    <tr>\n",
       "      <th>28</th>\n",
       "      <td>fin</td>\n",
       "      <td>19563</td>\n",
       "    </tr>\n",
       "    <tr>\n",
       "      <th>31</th>\n",
       "      <td>godt</td>\n",
       "      <td>17911</td>\n",
       "    </tr>\n",
       "    <tr>\n",
       "      <th>32</th>\n",
       "      <td>ikke</td>\n",
       "      <td>17897</td>\n",
       "    </tr>\n",
       "    <tr>\n",
       "      <th>34</th>\n",
       "      <td>problemer</td>\n",
       "      <td>17433</td>\n",
       "    </tr>\n",
       "    <tr>\n",
       "      <th>36</th>\n",
       "      <td>tilfreds</td>\n",
       "      <td>16846</td>\n",
       "    </tr>\n",
       "    <tr>\n",
       "      <th>38</th>\n",
       "      <td>ingen</td>\n",
       "      <td>16719</td>\n",
       "    </tr>\n",
       "    <tr>\n",
       "      <th>40</th>\n",
       "      <td>altid</td>\n",
       "      <td>16131</td>\n",
       "    </tr>\n",
       "    <tr>\n",
       "      <th>42</th>\n",
       "      <td>tiden</td>\n",
       "      <td>14967</td>\n",
       "    </tr>\n",
       "    <tr>\n",
       "      <th>48</th>\n",
       "      <td>perfekt</td>\n",
       "      <td>12126</td>\n",
       "    </tr>\n",
       "    <tr>\n",
       "      <th>50</th>\n",
       "      <td>fint</td>\n",
       "      <td>11181</td>\n",
       "    </tr>\n",
       "    <tr>\n",
       "      <th>54</th>\n",
       "      <td>gik</td>\n",
       "      <td>10469</td>\n",
       "    </tr>\n",
       "    <tr>\n",
       "      <th>56</th>\n",
       "      <td>rigtig</td>\n",
       "      <td>9872</td>\n",
       "    </tr>\n",
       "    <tr>\n",
       "      <th>57</th>\n",
       "      <td>betjening</td>\n",
       "      <td>9773</td>\n",
       "    </tr>\n",
       "    <tr>\n",
       "      <th>58</th>\n",
       "      <td>varen</td>\n",
       "      <td>9682</td>\n",
       "    </tr>\n",
       "    <tr>\n",
       "      <th>59</th>\n",
       "      <td>oplevelse</td>\n",
       "      <td>9208</td>\n",
       "    </tr>\n",
       "    <tr>\n",
       "      <th>60</th>\n",
       "      <td>ok</td>\n",
       "      <td>9022</td>\n",
       "    </tr>\n",
       "    <tr>\n",
       "      <th>67</th>\n",
       "      <td>uden</td>\n",
       "      <td>8234</td>\n",
       "    </tr>\n",
       "    <tr>\n",
       "      <th>69</th>\n",
       "      <td>:)</td>\n",
       "      <td>8045</td>\n",
       "    </tr>\n",
       "    <tr>\n",
       "      <th>72</th>\n",
       "      <td>venlig</td>\n",
       "      <td>7769</td>\n",
       "    </tr>\n",
       "    <tr>\n",
       "      <th>74</th>\n",
       "      <td>dejligt</td>\n",
       "      <td>7328</td>\n",
       "    </tr>\n",
       "    <tr>\n",
       "      <th>77</th>\n",
       "      <td>nem</td>\n",
       "      <td>6621</td>\n",
       "    </tr>\n",
       "    <tr>\n",
       "      <th>81</th>\n",
       "      <td>vare</td>\n",
       "      <td>6112</td>\n",
       "    </tr>\n",
       "    <tr>\n",
       "      <th>82</th>\n",
       "      <td>behandling</td>\n",
       "      <td>6080</td>\n",
       "    </tr>\n",
       "    <tr>\n",
       "      <th>85</th>\n",
       "      <td>døren</td>\n",
       "      <td>5966</td>\n",
       "    </tr>\n",
       "    <tr>\n",
       "      <th>89</th>\n",
       "      <td>haft</td>\n",
       "      <td>5727</td>\n",
       "    </tr>\n",
       "    <tr>\n",
       "      <th>...</th>\n",
       "      <td>...</td>\n",
       "      <td>...</td>\n",
       "    </tr>\n",
       "    <tr>\n",
       "      <th>5993</th>\n",
       "      <td>højttalere</td>\n",
       "      <td>10</td>\n",
       "    </tr>\n",
       "    <tr>\n",
       "      <th>5994</th>\n",
       "      <td>støtter</td>\n",
       "      <td>10</td>\n",
       "    </tr>\n",
       "    <tr>\n",
       "      <th>5995</th>\n",
       "      <td>parke</td>\n",
       "      <td>10</td>\n",
       "    </tr>\n",
       "    <tr>\n",
       "      <th>5996</th>\n",
       "      <td>nhan</td>\n",
       "      <td>10</td>\n",
       "    </tr>\n",
       "    <tr>\n",
       "      <th>5997</th>\n",
       "      <td>lejligheden</td>\n",
       "      <td>10</td>\n",
       "    </tr>\n",
       "    <tr>\n",
       "      <th>5998</th>\n",
       "      <td>forbløffet</td>\n",
       "      <td>10</td>\n",
       "    </tr>\n",
       "    <tr>\n",
       "      <th>5999</th>\n",
       "      <td>upå</td>\n",
       "      <td>10</td>\n",
       "    </tr>\n",
       "    <tr>\n",
       "      <th>6000</th>\n",
       "      <td>nsu</td>\n",
       "      <td>10</td>\n",
       "    </tr>\n",
       "    <tr>\n",
       "      <th>6001</th>\n",
       "      <td>skif</td>\n",
       "      <td>10</td>\n",
       "    </tr>\n",
       "    <tr>\n",
       "      <th>6002</th>\n",
       "      <td>forsikringsagent</td>\n",
       "      <td>10</td>\n",
       "    </tr>\n",
       "    <tr>\n",
       "      <th>6003</th>\n",
       "      <td>petersen</td>\n",
       "      <td>10</td>\n",
       "    </tr>\n",
       "    <tr>\n",
       "      <th>6004</th>\n",
       "      <td>håndværker</td>\n",
       "      <td>10</td>\n",
       "    </tr>\n",
       "    <tr>\n",
       "      <th>6005</th>\n",
       "      <td>mindede</td>\n",
       "      <td>10</td>\n",
       "    </tr>\n",
       "    <tr>\n",
       "      <th>6006</th>\n",
       "      <td>taste</td>\n",
       "      <td>10</td>\n",
       "    </tr>\n",
       "    <tr>\n",
       "      <th>6007</th>\n",
       "      <td>distributør</td>\n",
       "      <td>10</td>\n",
       "    </tr>\n",
       "    <tr>\n",
       "      <th>6008</th>\n",
       "      <td>desvære</td>\n",
       "      <td>10</td>\n",
       "    </tr>\n",
       "    <tr>\n",
       "      <th>6009</th>\n",
       "      <td>trofaste</td>\n",
       "      <td>10</td>\n",
       "    </tr>\n",
       "    <tr>\n",
       "      <th>6010</th>\n",
       "      <td>flyt</td>\n",
       "      <td>10</td>\n",
       "    </tr>\n",
       "    <tr>\n",
       "      <th>6011</th>\n",
       "      <td>nikon</td>\n",
       "      <td>10</td>\n",
       "    </tr>\n",
       "    <tr>\n",
       "      <th>6012</th>\n",
       "      <td>hænde</td>\n",
       "      <td>10</td>\n",
       "    </tr>\n",
       "    <tr>\n",
       "      <th>6013</th>\n",
       "      <td>venteti</td>\n",
       "      <td>10</td>\n",
       "    </tr>\n",
       "    <tr>\n",
       "      <th>6014</th>\n",
       "      <td>ber</td>\n",
       "      <td>10</td>\n",
       "    </tr>\n",
       "    <tr>\n",
       "      <th>6015</th>\n",
       "      <td>detalje</td>\n",
       "      <td>10</td>\n",
       "    </tr>\n",
       "    <tr>\n",
       "      <th>6016</th>\n",
       "      <td>afhentningsst</td>\n",
       "      <td>10</td>\n",
       "    </tr>\n",
       "    <tr>\n",
       "      <th>6017</th>\n",
       "      <td>glem</td>\n",
       "      <td>10</td>\n",
       "    </tr>\n",
       "    <tr>\n",
       "      <th>6018</th>\n",
       "      <td>njens</td>\n",
       "      <td>10</td>\n",
       "    </tr>\n",
       "    <tr>\n",
       "      <th>6019</th>\n",
       "      <td>mes</td>\n",
       "      <td>10</td>\n",
       "    </tr>\n",
       "    <tr>\n",
       "      <th>6020</th>\n",
       "      <td>våd</td>\n",
       "      <td>10</td>\n",
       "    </tr>\n",
       "    <tr>\n",
       "      <th>6021</th>\n",
       "      <td>kop</td>\n",
       "      <td>10</td>\n",
       "    </tr>\n",
       "    <tr>\n",
       "      <th>6022</th>\n",
       "      <td>hjælpsomm</td>\n",
       "      <td>10</td>\n",
       "    </tr>\n",
       "  </tbody>\n",
       "</table>\n",
       "<p>5565 rows × 2 columns</p>\n",
       "</div>"
      ],
      "text/plain": [
       "                  word   count\n",
       "1               hurtig  101410\n",
       "6                  god   51135\n",
       "14             hurtigt   35435\n",
       "16               super   31626\n",
       "24                nemt   21135\n",
       "28                 fin   19563\n",
       "31                godt   17911\n",
       "32                ikke   17897\n",
       "34           problemer   17433\n",
       "36            tilfreds   16846\n",
       "38               ingen   16719\n",
       "40               altid   16131\n",
       "42               tiden   14967\n",
       "48             perfekt   12126\n",
       "50                fint   11181\n",
       "54                 gik   10469\n",
       "56              rigtig    9872\n",
       "57           betjening    9773\n",
       "58               varen    9682\n",
       "59           oplevelse    9208\n",
       "60                  ok    9022\n",
       "67                uden    8234\n",
       "69                  :)    8045\n",
       "72              venlig    7769\n",
       "74             dejligt    7328\n",
       "77                 nem    6621\n",
       "81                vare    6112\n",
       "82          behandling    6080\n",
       "85               døren    5966\n",
       "89                haft    5727\n",
       "...                ...     ...\n",
       "5993        højttalere      10\n",
       "5994           støtter      10\n",
       "5995             parke      10\n",
       "5996              nhan      10\n",
       "5997       lejligheden      10\n",
       "5998        forbløffet      10\n",
       "5999               upå      10\n",
       "6000               nsu      10\n",
       "6001              skif      10\n",
       "6002  forsikringsagent      10\n",
       "6003          petersen      10\n",
       "6004        håndværker      10\n",
       "6005           mindede      10\n",
       "6006             taste      10\n",
       "6007       distributør      10\n",
       "6008           desvære      10\n",
       "6009          trofaste      10\n",
       "6010              flyt      10\n",
       "6011             nikon      10\n",
       "6012             hænde      10\n",
       "6013           venteti      10\n",
       "6014               ber      10\n",
       "6015           detalje      10\n",
       "6016     afhentningsst      10\n",
       "6017              glem      10\n",
       "6018             njens      10\n",
       "6019               mes      10\n",
       "6020               våd      10\n",
       "6021               kop      10\n",
       "6022         hjælpsomm      10\n",
       "\n",
       "[5565 rows x 2 columns]"
      ]
     },
     "execution_count": 52,
     "metadata": {},
     "output_type": "execute_result"
    }
   ],
   "source": [
    "# SQL SELECT * FROM pos_df WHERE count < 10 OR word in (SELECT * FROM Stopwords) OR (SELECT LEN(word) ...)<2 \n",
    "# Filter that out :)\n",
    "\n",
    "pos_df.drop((pos_df[(pos_df['count']<10) | \n",
    "                    (pos_df['word'].apply(lambda x: x in stops)) \n",
    "                    | (pos_df['word'].str.len()<2)].index))"
   ]
  },
  {
   "cell_type": "code",
   "execution_count": 53,
   "metadata": {},
   "outputs": [],
   "source": [
    "def tune_df(df, word_len=2, word_count=10, stop_words=stops):\n",
    "    df.drop((df[(df['count']<word_count) | \n",
    "                    (df['word'].apply(lambda x: x in stops)) \n",
    "                    | (df['word'].str.len()<word_len) ].index),inplace=True)\n",
    "    return df\n",
    "    "
   ]
  },
  {
   "cell_type": "code",
   "execution_count": 54,
   "metadata": {},
   "outputs": [],
   "source": [
    "neg_df = tune_df(neg_df)\n",
    "pos_df = tune_df(pos_df)"
   ]
  },
  {
   "cell_type": "code",
   "execution_count": 55,
   "metadata": {},
   "outputs": [],
   "source": [
    "pos_neg_df = pos_df.merge(neg_df.drop_duplicates(), on=['word'], \n",
    "                   how='left', indicator=True)\n",
    "\n",
    "neg_pos_df = neg_df.merge(pos_df.drop_duplicates(), on=['word'], \n",
    "                   how='left', indicator=True)"
   ]
  },
  {
   "cell_type": "code",
   "execution_count": 56,
   "metadata": {},
   "outputs": [
    {
     "data": {
      "image/png": "[encoded data removed]",
      "text/plain": [
       "<Figure size 1080x360 with 1 Axes>"
      ]
     },
     "metadata": {},
     "output_type": "display_data"
    }
   ],
   "source": [
    "show_shared_words(pos_neg_df,'Removed Stop Words: Positive')"
   ]
  },
  {
   "cell_type": "code",
   "execution_count": 57,
   "metadata": {},
   "outputs": [
    {
     "data": {
      "image/png": "[encoded data removed]",
      "text/plain": [
       "<Figure size 1080x360 with 1 Axes>"
      ]
     },
     "metadata": {},
     "output_type": "display_data"
    }
   ],
   "source": [
    "show_shared_words(neg_pos_df,'Removed Stop Words: Negative')"
   ]
  },
  {
   "cell_type": "markdown",
   "metadata": {},
   "source": [
    "## Three Ways of Building Sentiment Models (Possibly More!)\n",
    "- [ ] Lexicon Way\n",
    "- [x] Machine Learning Way\n",
    "- [ ] Both Ways"
   ]
  },
  {
   "cell_type": "markdown",
   "metadata": {},
   "source": [
    "### AFINN by [Finn Årup Nielsen (DTU)](https://github.com/fnielsen) \n",
    "\n",
    "##### afinn is Finn's giant contribution to NLP  \n",
    "The basic idea is to score words in a sentince with their predefined score"
   ]
  },
  {
   "cell_type": "markdown",
   "metadata": {},
   "source": [
    "### Nuggets from [Ken Benoit's](http://www.kenbenoit.net/cv/publications/) papers on Lexicon Scoring\n",
    "\n",
    "Absolute Proportional Difference. Bounds: [0,1]\n",
    "\n",
    "Sentiment = (P − N) / N\n",
    "\n",
    "Disadvantage: A sentence's score is affected by non-sentiment-related content.\n",
    "\n",
    "Relative Proportional Difference. Bounds: [-1, 1]\n",
    "\n",
    "Sentiment = (P − N) / (P + N)\n",
    "\n",
    "Disadvantage: A sentence's score may tend to cluster very strongly near the scale endpoints (because they may contain content primarily or exclusively of either positive or negative).\n",
    "\n",
    "Logit scale. Bounds: [-infinity, +infinity]\n",
    "\n",
    "Sentiment = log(P + 0.5) - log(N + 0.5)\n",
    "\n",
    "This tends to have the smoothest properties and is symmetric around zero. The 0.5 is a smoother to prevent log(0). "
   ]
  },
  {
   "cell_type": "code",
   "execution_count": 58,
   "metadata": {},
   "outputs": [],
   "source": [
    "url = 'https://raw.githubusercontent.com/fnielsen/afinn/master/afinn/data/'\n",
    "url_words = 'AFINN-da-32.txt'\n",
    "url_emoji = 'AFINN-emoticon-8.txt'\n",
    "\n",
    "scored_words = pd.read_csv(url+url_words,sep='\\t', names = ['ord','score'])\n",
    "scored_emoji = pd.read_csv(url+url_emoji,sep='\\t', names = ['ord','score'])\n"
   ]
  },
  {
   "cell_type": "code",
   "execution_count": 59,
   "metadata": {},
   "outputs": [
    {
     "data": {
      "text/html": [
       "<div>\n",
       "<style scoped>\n",
       "    .dataframe tbody tr th:only-of-type {\n",
       "        vertical-align: middle;\n",
       "    }\n",
       "\n",
       "    .dataframe tbody tr th {\n",
       "        vertical-align: top;\n",
       "    }\n",
       "\n",
       "    .dataframe thead th {\n",
       "        text-align: right;\n",
       "    }\n",
       "</style>\n",
       "<table border=\"1\" class=\"dataframe\">\n",
       "  <thead>\n",
       "    <tr style=\"text-align: right;\">\n",
       "      <th></th>\n",
       "      <th>ord</th>\n",
       "      <th>score</th>\n",
       "    </tr>\n",
       "  </thead>\n",
       "  <tbody>\n",
       "    <tr>\n",
       "      <th>711</th>\n",
       "      <td>forbedrer</td>\n",
       "      <td>2</td>\n",
       "    </tr>\n",
       "    <tr>\n",
       "      <th>43</th>\n",
       "      <td>afskyeligt</td>\n",
       "      <td>-3</td>\n",
       "    </tr>\n",
       "    <tr>\n",
       "      <th>1886</th>\n",
       "      <td>modstander</td>\n",
       "      <td>-2</td>\n",
       "    </tr>\n",
       "    <tr>\n",
       "      <th>936</th>\n",
       "      <td>fremdrift</td>\n",
       "      <td>2</td>\n",
       "    </tr>\n",
       "    <tr>\n",
       "      <th>862</th>\n",
       "      <td>forskrækket</td>\n",
       "      <td>-2</td>\n",
       "    </tr>\n",
       "    <tr>\n",
       "      <th>2512</th>\n",
       "      <td>skyde</td>\n",
       "      <td>-1</td>\n",
       "    </tr>\n",
       "    <tr>\n",
       "      <th>2032</th>\n",
       "      <td>omhu</td>\n",
       "      <td>2</td>\n",
       "    </tr>\n",
       "    <tr>\n",
       "      <th>3238</th>\n",
       "      <td>utak</td>\n",
       "      <td>-2</td>\n",
       "    </tr>\n",
       "    <tr>\n",
       "      <th>1512</th>\n",
       "      <td>kompetent</td>\n",
       "      <td>2</td>\n",
       "    </tr>\n",
       "    <tr>\n",
       "      <th>34</th>\n",
       "      <td>aflyste</td>\n",
       "      <td>-2</td>\n",
       "    </tr>\n",
       "  </tbody>\n",
       "</table>\n",
       "</div>"
      ],
      "text/plain": [
       "              ord  score\n",
       "711     forbedrer      2\n",
       "43     afskyeligt     -3\n",
       "1886   modstander     -2\n",
       "936     fremdrift      2\n",
       "862   forskrækket     -2\n",
       "2512        skyde     -1\n",
       "2032         omhu      2\n",
       "3238         utak     -2\n",
       "1512    kompetent      2\n",
       "34        aflyste     -2"
      ]
     },
     "execution_count": 59,
     "metadata": {},
     "output_type": "execute_result"
    }
   ],
   "source": [
    "scored_words.sample(10)"
   ]
  },
  {
   "cell_type": "code",
   "execution_count": 61,
   "metadata": {},
   "outputs": [
    {
     "data": {
      "text/html": [
       "<div>\n",
       "<style scoped>\n",
       "    .dataframe tbody tr th:only-of-type {\n",
       "        vertical-align: middle;\n",
       "    }\n",
       "\n",
       "    .dataframe tbody tr th {\n",
       "        vertical-align: top;\n",
       "    }\n",
       "\n",
       "    .dataframe thead th {\n",
       "        text-align: right;\n",
       "    }\n",
       "</style>\n",
       "<table border=\"1\" class=\"dataframe\">\n",
       "  <thead>\n",
       "    <tr style=\"text-align: right;\">\n",
       "      <th></th>\n",
       "      <th>ord</th>\n",
       "      <th>score</th>\n",
       "    </tr>\n",
       "  </thead>\n",
       "  <tbody>\n",
       "    <tr>\n",
       "      <th>35</th>\n",
       "      <td>;)</td>\n",
       "      <td>2</td>\n",
       "    </tr>\n",
       "    <tr>\n",
       "      <th>23</th>\n",
       "      <td>:-/</td>\n",
       "      <td>-2</td>\n",
       "    </tr>\n",
       "    <tr>\n",
       "      <th>95</th>\n",
       "      <td>xoxoxoxo</td>\n",
       "      <td>4</td>\n",
       "    </tr>\n",
       "    <tr>\n",
       "      <th>10</th>\n",
       "      <td>:-)</td>\n",
       "      <td>2</td>\n",
       "    </tr>\n",
       "    <tr>\n",
       "      <th>61</th>\n",
       "      <td>:))))))))</td>\n",
       "      <td>4</td>\n",
       "    </tr>\n",
       "  </tbody>\n",
       "</table>\n",
       "</div>"
      ],
      "text/plain": [
       "          ord  score\n",
       "35         ;)      2\n",
       "23        :-/     -2\n",
       "95   xoxoxoxo      4\n",
       "10        :-)      2\n",
       "61  :))))))))      4"
      ]
     },
     "execution_count": 61,
     "metadata": {},
     "output_type": "execute_result"
    }
   ],
   "source": [
    "scored_emoji.sample(5)"
   ]
  },
  {
   "cell_type": "code",
   "execution_count": 62,
   "metadata": {},
   "outputs": [
    {
     "data": {
      "text/plain": [
       "[-3]"
      ]
     },
     "execution_count": 62,
     "metadata": {},
     "output_type": "execute_result"
    }
   ],
   "source": [
    "sentence = 'jeg hader ms excel :('\n",
    "a = [sum(scored_words.loc[scored_words['ord'].isin([word]),'score']) for word in sentence.split() if word in scored_words.values]\n",
    "a"
   ]
  },
  {
   "cell_type": "code",
   "execution_count": 64,
   "metadata": {},
   "outputs": [
    {
     "data": {
      "text/html": [
       "<div>\n",
       "<style scoped>\n",
       "    .dataframe tbody tr th:only-of-type {\n",
       "        vertical-align: middle;\n",
       "    }\n",
       "\n",
       "    .dataframe tbody tr th {\n",
       "        vertical-align: top;\n",
       "    }\n",
       "\n",
       "    .dataframe thead th {\n",
       "        text-align: right;\n",
       "    }\n",
       "</style>\n",
       "<table border=\"1\" class=\"dataframe\">\n",
       "  <thead>\n",
       "    <tr style=\"text-align: right;\">\n",
       "      <th></th>\n",
       "      <th>ord</th>\n",
       "      <th>score</th>\n",
       "    </tr>\n",
       "  </thead>\n",
       "  <tbody>\n",
       "    <tr>\n",
       "      <th>1142</th>\n",
       "      <td>hader</td>\n",
       "      <td>-3</td>\n",
       "    </tr>\n",
       "  </tbody>\n",
       "</table>\n",
       "</div>"
      ],
      "text/plain": [
       "        ord  score\n",
       "1142  hader     -3"
      ]
     },
     "execution_count": 64,
     "metadata": {},
     "output_type": "execute_result"
    }
   ],
   "source": [
    "scored_words[(scored_words['ord'] == 'hader')|(scored_words['ord'] == ':(')]"
   ]
  },
  {
   "cell_type": "code",
   "execution_count": 65,
   "metadata": {},
   "outputs": [
    {
     "data": {
      "text/plain": [
       "(0, 1, 0, -3)"
      ]
     },
     "execution_count": 65,
     "metadata": {},
     "output_type": "execute_result"
    }
   ],
   "source": [
    "P = sum(1 for x in a if x > 0) #Number of Positive Values\n",
    "N = sum(1 for x in a if x < 0) #Number of Negative Values\n",
    "\n",
    "AP = sum(x for x in a if x > 0) # Adding Weight\n",
    "AN = sum(x for x in a if x < 0)\n",
    "\n",
    "(P, N, AP, AN)"
   ]
  },
  {
   "cell_type": "code",
   "execution_count": 66,
   "metadata": {},
   "outputs": [
    {
     "name": "stdout",
     "output_type": "stream",
     "text": [
      "(P - N)/(N if N!=0  else 1):\n",
      " -1.0\n"
     ]
    }
   ],
   "source": [
    "print('(P - N)/(N if N!=0  else 1):\\n',(P - N)/(N if N!=0  else 1))"
   ]
  },
  {
   "cell_type": "code",
   "execution_count": 67,
   "metadata": {},
   "outputs": [
    {
     "name": "stdout",
     "output_type": "stream",
     "text": [
      "(P - N)/(P + N):\n",
      " -1.0\n"
     ]
    }
   ],
   "source": [
    "print('(P - N)/(P + N):\\n',(P - N)/(P + N))"
   ]
  },
  {
   "cell_type": "code",
   "execution_count": 68,
   "metadata": {},
   "outputs": [
    {
     "name": "stdout",
     "output_type": "stream",
     "text": [
      "log(P+0.5) - log(N+ 0.5):\n",
      " -1.099\n"
     ]
    }
   ],
   "source": [
    "print('log(P+0.5) - log(N+ 0.5):\\n {:.3f}'.format(np.log(P+0.5) - np.log(N+ 0.5)))"
   ]
  },
  {
   "cell_type": "code",
   "execution_count": 69,
   "metadata": {},
   "outputs": [
    {
     "name": "stdout",
     "output_type": "stream",
     "text": [
      "Taking weight into account: Relative Weighted Proportional Difference\n",
      "(AP - abs(AN))/(AP + abs(AN)):\n",
      "-1.00\n"
     ]
    }
   ],
   "source": [
    "print('Taking weight into account: Relative Weighted Proportional Difference')\n",
    "print(f'(AP - abs(AN))/(AP + abs(AN)):\\n{(AP - abs(AN))/(AP + abs(AN)):.2f}') # Hello f strings"
   ]
  },
  {
   "cell_type": "markdown",
   "metadata": {},
   "source": [
    "## We can test how good such models are\n",
    "\n",
    "##### Tokinze sentences, then apply our basic Lexicon function"
   ]
  },
  {
   "cell_type": "code",
   "execution_count": 70,
   "metadata": {},
   "outputs": [],
   "source": [
    "def token(X, \n",
    "         words_only=False,word_normalize=False,\n",
    "         emoji_normalize=False,remove_digits=True,\n",
    "          lower_case=False,stop_words=None):\n",
    "        '''\n",
    "        requires Stemming if word_normalize = True\n",
    "        use pip[env] install stemming \n",
    "        stop_words can be pass as list, dict or sets\n",
    "        '''\n",
    "        \n",
    "        # eyes [nose] mouth | mouth [nose] eyes pattern\n",
    "        emoticons = r\"(?:[<>]?[:;=8][\\-o\\*\\']?[\\)\\]\\(\\[dDpP/\\:\\}\\{@\\|\\\\]|[\\)\\]\\(\\[dDpP/\\:\\}\\{@\\|\\\\][\\-o\\*\\']?[:;=8][<>]?)\"\n",
    "        emoticon_re = re.compile(emoticons, re.VERBOSE | re.I | re.UNICODE)\n",
    "        \n",
    "        # Keep word only. Digit are consider true Emojis false\n",
    "        if words_only:\n",
    "            clean_text = re.sub('[\\W]+', ' ', X)\n",
    "        else:\n",
    "            clean_text = '{}{}'.format(re.sub('[\\W]+', ' ', X),\n",
    "                          ''.join(re.findall(emoticon_re, X)))\n",
    "\n",
    "        # normalize emoji?\n",
    "        if emoji_normalize:\n",
    "\n",
    "            clean_text = (re.sub('[\\W]+', ' ', X) +\n",
    "                                  ' '.join(re.findall(emoticon_re, X)).replace(';',':').replace('-','')\n",
    "                         ) \n",
    "\n",
    "        if remove_digits:\n",
    "            clean_text = clean_text.translate(str.maketrans('','','0123456789'))\n",
    "       \n",
    "        if lower_case:\n",
    "            clean_text = clean_text.lower()\n",
    "        \n",
    "        if word_normalize:\n",
    "            try:\n",
    "                import Stemmer\n",
    "                stemmer = Stemmer.Stemmer('danish')\n",
    "                clean_text = ' '.join(stemmer.stemWords(clean_text.split()))\n",
    "            except ModuleNotFoundError:\n",
    "                print('Stemmer is not found. Try \"pip install pystemmer\"')\n",
    "                print('Words not normalize')\n",
    "                pass #Continue with issue\n",
    "            \n",
    "        \n",
    "        if stop_words:\n",
    "            return [word for word in clean_text.split() if word not in stop_words]\n",
    "        else:\n",
    "            return clean_text.split()"
   ]
  },
  {
   "cell_type": "markdown",
   "metadata": {},
   "source": [
    "## What is tokenization & showing the power of Pandas .apply()"
   ]
  },
  {
   "cell_type": "code",
   "execution_count": 71,
   "metadata": {},
   "outputs": [],
   "source": [
    "kwargs = [ dict(word_normalize=True,\n",
    "                emoji_normalize=True,remove_digits=True,\n",
    "                lower_case=True,stop_words = stops),  \n",
    "          dict(word_normalize=False,\n",
    "                emoji_normalize=False,remove_digits=False,\n",
    "                  lower_case=False,stop_words=None)]"
   ]
  },
  {
   "cell_type": "code",
   "execution_count": 72,
   "metadata": {},
   "outputs": [],
   "source": [
    "sample_data = data[['features']].sample(10)\n",
    "\n",
    "sample_data['tokenizer_1'] = sample_data['features'].apply(token, **kwargs[0])\n",
    "sample_data['tokenizer_2'] = sample_data['features'].apply(token, **kwargs[1])"
   ]
  },
  {
   "cell_type": "markdown",
   "metadata": {},
   "source": [
    "##### tokenizer_1 normalize words, using stemming method(lemmatization is better but ...), keeps emojis, removes digits, lower case everything, and remove stop_words\n",
    "##### tokenizer_2 does not nomalize words, removes emojis, keeps digits, does not lower case words, and keeps stop_words"
   ]
  },
  {
   "cell_type": "markdown",
   "metadata": {},
   "source": [
    "sample_data"
   ]
  },
  {
   "cell_type": "code",
   "execution_count": 73,
   "metadata": {},
   "outputs": [
    {
     "name": "stdout",
     "output_type": "stream",
     "text": [
      "features: Jeg har flex men pakken blev ikke afleveret på det aftalte sted.Jeg ringede 2 gange til kundeservice og de lovede at genudbringe min pakke. Jeg sad en hel dag og ventede og til sidst måtte jeg  slæbe den tunge pakke hjem fra posthuset .\n",
      "\n",
      "tokenizer_1: ['flex', 'pak', 'ikk', 'aflev', 'aftalt', 'sted', 'kundeservic', 'loved', 'genudbring', 'pak', 'sad', 'hel', 'vented', 'sidst', 'måt', 'slæb', 'tung', 'pak', 'hjem']\n",
      "\n",
      "tokenizer_2: ['Jeg', 'har', 'flex', 'men', 'pakken', 'blev', 'ikke', 'afleveret', 'på', 'det', 'aftalte', 'sted', 'Jeg', 'ringede', '2', 'gange', 'til', 'kundeservice', 'og', 'de', 'lovede', 'at', 'genudbringe', 'min', 'pakke', 'Jeg', 'sad', 'en', 'hel', 'dag', 'og', 'ventede', 'og', 'til', 'sidst', 'måtte', 'jeg', 'slæbe', 'den', 'tunge', 'pakke', 'hjem', 'fra', 'posthuset']\n",
      "\n"
     ]
    }
   ],
   "source": [
    "for index, contents in enumerate(sample_data.iloc[0]):\n",
    "    print(f'{sample_data.columns[index]:}: {contents}\\n')"
   ]
  },
  {
   "cell_type": "markdown",
   "metadata": {},
   "source": [
    "### With that said, lets test our simple lexicon scoring model"
   ]
  },
  {
   "cell_type": "code",
   "execution_count": 74,
   "metadata": {},
   "outputs": [],
   "source": [
    "token_kwargs = dict(emoji_normalize=True,remove_digits=True,\n",
    "                        lower_case=True,stop_words=stops)"
   ]
  },
  {
   "cell_type": "code",
   "execution_count": 75,
   "metadata": {},
   "outputs": [],
   "source": [
    "def sentiment_score(sentence):\n",
    "    '''\n",
    "    Relative Weighted Proportional Difference'\n",
    "    returns weighted sentiment\n",
    "    '''\n",
    "    a = [sum(scored_words.loc[scored_words['ord'].isin([word]),'score']) for word in token(sentence,**token_kwargs) if word in scored_words.values]\n",
    "    AP = sum(x for x in a if x > 0)\n",
    "    AN = sum(x for x in a if x < 0)\n",
    "    \n",
    "    return (AP - abs(AN))/(AP + abs(AN)) if (AP + abs(AN)) !=0 else 1"
   ]
  },
  {
   "cell_type": "code",
   "execution_count": 79,
   "metadata": {},
   "outputs": [],
   "source": [
    "# Give me a equal sample of data, test data, keep only features and target\n",
    "pos_data = pos.sample(50)\n",
    "neg_data = neg.sample(50)\n",
    "\n",
    "test_data = pos_data.append(neg_data, ignore_index=True)['features y'.split()]"
   ]
  },
  {
   "cell_type": "code",
   "execution_count": 80,
   "metadata": {},
   "outputs": [],
   "source": [
    "test_data['sentiment'] = test_data['features'].map(sentiment_score)\n",
    "test_data['y_pred'] = test_data['sentiment'].apply(lambda x: 1 if x >0 else 0) "
   ]
  },
  {
   "cell_type": "code",
   "execution_count": 81,
   "metadata": {},
   "outputs": [
    {
     "name": "stdout",
     "output_type": "stream",
     "text": [
      "Scored 76.0% correctly\n"
     ]
    }
   ],
   "source": [
    "print(f\"Scored {np.mean(test_data['y']==test_data['y_pred']):.1%} correctly\")"
   ]
  },
  {
   "cell_type": "code",
   "execution_count": 82,
   "metadata": {},
   "outputs": [],
   "source": [
    "\n",
    "def avg_accuracy(k=100, nsample=50):\n",
    "    '''\n",
    "    Get mean scores of our simple lexicon scoring\n",
    "    '''\n",
    "    avg_score = list()\n",
    "    for i in range(1,k+1):\n",
    "        print(f'{i}', end=' ')\n",
    "        pos_data = pos.sample(nsample)\n",
    "        neg_data = neg.sample(nsample)\n",
    "\n",
    "        test_data = pos_data.append(neg_data, ignore_index=True)['features y'.split()]\n",
    "        \n",
    "        test_data['sentiment'] = test_data['features'].map(sentiment_score)\n",
    "        test_data['y_pred'] = test_data['sentiment'].apply(lambda x: 1 if x >0 else 0) \n",
    "        \n",
    "        avg_score.append(np.mean(test_data['y']==test_data['y_pred']))\n",
    "    avg_score = np.array(avg_score)\n",
    "    print(f\"\\nMean Scored: {avg_score.mean():.1%}\\n\\tStd: {avg_score.std():.3f}\")"
   ]
  },
  {
   "cell_type": "code",
   "execution_count": 83,
   "metadata": {},
   "outputs": [
    {
     "name": "stdout",
     "output_type": "stream",
     "text": [
      "1 2 3 4 5 6 7 8 9 10 11 12 13 14 15 \n",
      "Mean Scored: 71.4%\n",
      "\tStd: 0.027\n",
      "Wall time: 13.9 s\n"
     ]
    }
   ],
   "source": [
    "%%time\n",
    "avg_accuracy(k=15)   "
   ]
  },
  {
   "cell_type": "markdown",
   "metadata": {},
   "source": [
    "### Impressive results! ah!\n",
    "I think it is impressive given that this is a very basic lexicon scoring, made in less than 5 minutes<br>\n",
    "Finn's model is way complex and much better. <br>\n",
    "<br>\n",
    "**This raises some questions:**\n",
    "* Why use Machine Learning if simple lexicon scoring works? \n",
    "* Can Machine learning do better?\n",
    "* How about combaining the two?"
   ]
  },
  {
   "cell_type": "markdown",
   "metadata": {},
   "source": [
    "### Get some powers with ML\n",
    "##### A Very Short Introduction "
   ]
  },
  {
   "cell_type": "code",
   "execution_count": 84,
   "metadata": {},
   "outputs": [],
   "source": [
    "from sklearn.pipeline import Pipeline\n",
    "from sklearn.base import TransformerMixin\n",
    "from sklearn.feature_selection import SelectKBest, chi2\n",
    "from sklearn.feature_extraction.text import (CountVectorizer, TfidfVectorizer,\n",
    "                                             TfidfTransformer)"
   ]
  },
  {
   "cell_type": "code",
   "execution_count": 85,
   "metadata": {},
   "outputs": [],
   "source": [
    "# Words in Context\n",
    "# Before we only look at unigrams. We could advance our methods with n-grams e.g. 2-3 words\n",
    "ct_para = dict(analyzer='word',stop_words=stops, \n",
    "                 tokenizer=token, ngram_range=(2, 3), min_df=10)\n",
    "\n",
    "def count_words(feature):\n",
    "    \n",
    "    ct = CountVectorizer(**ct_para)\n",
    "    print('counting words ...')\n",
    "    words = ct.fit_transform(feature)\n",
    "    print('Words counted')\n",
    "    words.sum(axis=0).A1\n",
    "    \n",
    "    words = collections.Counter(dict(zip(list(ct.get_feature_names()),words.sum(axis=0).A1 )))\n",
    "    \n",
    "\n",
    "    n_grams = collections.OrderedDict(words.most_common())\n",
    "    n_grams_df = pd.DataFrame.from_dict(n_grams, orient='index').reset_index()\n",
    "    \n",
    "    return n_grams_df.rename(columns={'index':'n_grams', 0:'count'})"
   ]
  },
  {
   "cell_type": "code",
   "execution_count": 86,
   "metadata": {},
   "outputs": [
    {
     "name": "stdout",
     "output_type": "stream",
     "text": [
      "counting words ...\n",
      "Words counted\n",
      "Wall time: 52.1 s\n"
     ]
    }
   ],
   "source": [
    "%%time\n",
    "n_grams_pos_df = count_words(pos['features'])"
   ]
  },
  {
   "cell_type": "code",
   "execution_count": 97,
   "metadata": {},
   "outputs": [
    {
     "data": {
      "text/html": [
       "<div>\n",
       "<style scoped>\n",
       "    .dataframe tbody tr th:only-of-type {\n",
       "        vertical-align: middle;\n",
       "    }\n",
       "\n",
       "    .dataframe tbody tr th {\n",
       "        vertical-align: top;\n",
       "    }\n",
       "\n",
       "    .dataframe thead th {\n",
       "        text-align: right;\n",
       "    }\n",
       "</style>\n",
       "<table border=\"1\" class=\"dataframe\">\n",
       "  <thead>\n",
       "    <tr style=\"text-align: right;\">\n",
       "      <th></th>\n",
       "      <th>n_grams</th>\n",
       "      <th>count</th>\n",
       "    </tr>\n",
       "  </thead>\n",
       "  <tbody>\n",
       "    <tr>\n",
       "      <th>10</th>\n",
       "      <td>super god</td>\n",
       "      <td>4094</td>\n",
       "    </tr>\n",
       "    <tr>\n",
       "      <th>11</th>\n",
       "      <td>fin hurtig</td>\n",
       "      <td>3805</td>\n",
       "    </tr>\n",
       "    <tr>\n",
       "      <th>12</th>\n",
       "      <td>hurtig effektiv</td>\n",
       "      <td>3748</td>\n",
       "    </tr>\n",
       "    <tr>\n",
       "      <th>13</th>\n",
       "      <td>god information</td>\n",
       "      <td>3538</td>\n",
       "    </tr>\n",
       "    <tr>\n",
       "      <th>14</th>\n",
       "      <td>hele vejen</td>\n",
       "      <td>3395</td>\n",
       "    </tr>\n",
       "  </tbody>\n",
       "</table>\n",
       "</div>"
      ],
      "text/plain": [
       "            n_grams  count\n",
       "10        super god   4094\n",
       "11       fin hurtig   3805\n",
       "12  hurtig effektiv   3748\n",
       "13  god information   3538\n",
       "14       hele vejen   3395"
      ]
     },
     "execution_count": 97,
     "metadata": {},
     "output_type": "execute_result"
    }
   ],
   "source": [
    "n_grams_pos_df.iloc[10:15]"
   ]
  },
  {
   "cell_type": "code",
   "execution_count": 89,
   "metadata": {},
   "outputs": [
    {
     "data": {
      "image/png": "[encoded data removed]",
      "text/plain": [
       "<Figure size 1080x360 with 1 Axes>"
      ]
     },
     "metadata": {},
     "output_type": "display_data"
    }
   ],
   "source": [
    "g = n_grams_pos_df.iloc[:30].plot(kind='bar', x='n_grams', y='count', color='skyblue', title='2-3 Combi-Most Positive Words')"
   ]
  },
  {
   "cell_type": "code",
   "execution_count": 90,
   "metadata": {},
   "outputs": [
    {
     "name": "stdout",
     "output_type": "stream",
     "text": [
      "counting words ...\n",
      "Words counted\n",
      "Wall time: 1min 9s\n"
     ]
    }
   ],
   "source": [
    "%%time\n",
    "n_grams_neg_df = count_words(neg['features'])"
   ]
  },
  {
   "cell_type": "code",
   "execution_count": 91,
   "metadata": {},
   "outputs": [
    {
     "data": {
      "image/png": "[encoded data removed]",
      "text/plain": [
       "<Figure size 1080x360 with 1 Axes>"
      ]
     },
     "metadata": {},
     "output_type": "display_data"
    }
   ],
   "source": [
    "g = n_grams_neg_df.iloc[:30].plot(kind='bar', x='n_grams', y='count', color='red', title='2-3 Combi-Most Negative Words')"
   ]
  },
  {
   "cell_type": "code",
   "execution_count": 92,
   "metadata": {},
   "outputs": [],
   "source": [
    "# Create a customer Sklearn-like Cleaner\n",
    "\n",
    "class DanishCleaner(TransformerMixin):\n",
    "    '''\n",
    "    re has to be loaded\n",
    "    '''\n",
    "    \n",
    "    def __init__(self, \n",
    "                 words_only=False,word_normalize=False,emoji_normalize=False,\n",
    "                 remove_digits=False,lower_case=False, token=False):\n",
    "        \n",
    "        self.words_only = words_only\n",
    "        self.word_normalize = word_normalize\n",
    "        self.emoji_normalize = emoji_normalize\n",
    "        self.remove_digits = remove_digits\n",
    "        self.lower_case = lower_case\n",
    "        self.token = token\n",
    "        \n",
    "    def fit(self, X, y=None):\n",
    "        return self\n",
    "    \n",
    "    def transform(self, X):\n",
    "        self.X = X\n",
    "        \n",
    "        # eyes [nose] mouth | mouth [nose] eyes pattern\n",
    "        emoticons = r\"(?:[<>]?[:;=8][\\-o\\*\\']?[\\)\\]\\(\\[dDpP/\\:\\}\\{@\\|\\\\]|[\\)\\]\\(\\[dDpP/\\:\\}\\{@\\|\\\\][\\-o\\*\\']?[:;=8][<>]?)\"\n",
    "        emoticon_re = re.compile(emoticons, re.VERBOSE | re.I | re.UNICODE)\n",
    "        \n",
    "        # Keep word only. Digit are consider true Emojis false\n",
    "        if self.words_only:\n",
    "            clean_text = self.X.apply(lambda x: (re.sub('[\\W]+', ' ', x)))\n",
    "        else:\n",
    "            clean_text = self.X.apply(lambda x: ('{}{}'.format(re.sub('[\\W]+', ' ', x),\n",
    "                          ''.join(re.findall(emoticon_re, x)))))\n",
    "\n",
    "        # normalize emoji?\n",
    "        if self.emoji_normalize:\n",
    "\n",
    "            clean_text = self.X.apply( lambda x:\n",
    "                            (re.sub('[\\W]+', ' ', x) +\n",
    "                                  ' '.join(re.findall(emoticon_re, x)).replace(';',':').replace('-',''))\n",
    "                            )\n",
    "\n",
    "        if self.remove_digits:\n",
    "            clean_text = clean_text.apply(lambda x: x.translate(str.maketrans('','','0123456789')))\n",
    "       \n",
    "        if self.lower_case:\n",
    "            clean_text = clean_text.str.lower()\n",
    "            \n",
    "                \n",
    "        if self.word_normalize:\n",
    "            try:\n",
    "                import Stemmer\n",
    "                stemmer = Stemmer.Stemmer('danish')\n",
    "                clean_text = clean_text.apply(lambda x: ' '.join(stemmer.stemWords(x.split())))\n",
    "            except ModuleNotFoundError:\n",
    "                print('Stemmer is not found. Try \"pip install Stemmer\"')\n",
    "                print('Words not normalize')\n",
    "                pass #Continue with issue\n",
    "        \n",
    "        if self.token:\n",
    "            return clean_text.str.split()\n",
    "        else:\n",
    "            return clean_text"
   ]
  },
  {
   "cell_type": "code",
   "execution_count": 93,
   "metadata": {},
   "outputs": [],
   "source": [
    "dt = DanishCleaner(remove_digits=True, lower_case=True, emoji_normalize=True, word_normalize=True)"
   ]
  },
  {
   "cell_type": "code",
   "execution_count": 94,
   "metadata": {},
   "outputs": [
    {
     "data": {
      "text/plain": [
       "1      jeg elsk den pizza\n",
       "2    elsk du ikk pizza :)\n",
       "Name: 0, dtype: object"
      ]
     },
     "execution_count": 94,
     "metadata": {},
     "output_type": "execute_result"
    }
   ],
   "source": [
    "dt.transform(pd.DataFrame([{1:'Jeg 123 elsker den pizza',2:'Elsker du ikke pizza? :-)'}]).T[0])"
   ]
  },
  {
   "cell_type": "code",
   "execution_count": 98,
   "metadata": {},
   "outputs": [
    {
     "data": {
      "text/plain": [
       "['elsk', 'ikk', ':)']"
      ]
     },
     "execution_count": 98,
     "metadata": {},
     "output_type": "execute_result"
    }
   ],
   "source": [
    "token('du elsker mig ikke 123 ? :-)', stop_words=stops, emoji_normalize=True, word_normalize=True)"
   ]
  },
  {
   "cell_type": "markdown",
   "metadata": {},
   "source": [
    "### Understanding CountVectorizer and TfidfVectorizer\n",
    "\n",
    "sublinear_df is set to True to use a logarithmic form for frequency.<br>\n",
    "min_df is the minimum numbers of documents a word must be present in to be kept.<br>\n",
    "norm is set to l2, to ensure all our feature vectors have a euclidian norm of 1.<br>\n",
    "ngram_range is set to (1, 2) to indicate that we want to consider both unigrams and bigrams."
   ]
  },
  {
   "cell_type": "code",
   "execution_count": 100,
   "metadata": {},
   "outputs": [],
   "source": [
    "#%%time\n",
    "\n",
    "dum_data = [('Vi elsker 23 dansk øl og pizza','pizza'),('dominos pizza er den bedste :) ','pizza'),\n",
    "            ('python, øl og pizza i huset','pizza'),('lad os drikke øl, ja! :) øl og kode i python','python'),\n",
    "            ('python :) er det smukkeste programmeringssprog','python')]\n",
    "labels = ['features','tags']\n",
    "\n",
    "dum_data_df = pd.DataFrame.from_records(dum_data, columns=labels)"
   ]
  },
  {
   "cell_type": "code",
   "execution_count": 101,
   "metadata": {},
   "outputs": [
    {
     "data": {
      "text/html": [
       "<div>\n",
       "<style scoped>\n",
       "    .dataframe tbody tr th:only-of-type {\n",
       "        vertical-align: middle;\n",
       "    }\n",
       "\n",
       "    .dataframe tbody tr th {\n",
       "        vertical-align: top;\n",
       "    }\n",
       "\n",
       "    .dataframe thead th {\n",
       "        text-align: right;\n",
       "    }\n",
       "</style>\n",
       "<table border=\"1\" class=\"dataframe\">\n",
       "  <thead>\n",
       "    <tr style=\"text-align: right;\">\n",
       "      <th></th>\n",
       "      <th>features</th>\n",
       "      <th>tags</th>\n",
       "    </tr>\n",
       "  </thead>\n",
       "  <tbody>\n",
       "    <tr>\n",
       "      <th>0</th>\n",
       "      <td>Vi elsker 23 dansk øl og pizza</td>\n",
       "      <td>pizza</td>\n",
       "    </tr>\n",
       "    <tr>\n",
       "      <th>1</th>\n",
       "      <td>dominos pizza er den bedste :)</td>\n",
       "      <td>pizza</td>\n",
       "    </tr>\n",
       "    <tr>\n",
       "      <th>2</th>\n",
       "      <td>python, øl og pizza i huset</td>\n",
       "      <td>pizza</td>\n",
       "    </tr>\n",
       "    <tr>\n",
       "      <th>3</th>\n",
       "      <td>lad os drikke øl, ja! :) øl og kode i python</td>\n",
       "      <td>python</td>\n",
       "    </tr>\n",
       "    <tr>\n",
       "      <th>4</th>\n",
       "      <td>python :) er det smukkeste programmeringssprog</td>\n",
       "      <td>python</td>\n",
       "    </tr>\n",
       "  </tbody>\n",
       "</table>\n",
       "</div>"
      ],
      "text/plain": [
       "                                         features    tags\n",
       "0                  Vi elsker 23 dansk øl og pizza   pizza\n",
       "1                 dominos pizza er den bedste :)    pizza\n",
       "2                     python, øl og pizza i huset   pizza\n",
       "3    lad os drikke øl, ja! :) øl og kode i python  python\n",
       "4  python :) er det smukkeste programmeringssprog  python"
      ]
     },
     "execution_count": 101,
     "metadata": {},
     "output_type": "execute_result"
    }
   ],
   "source": [
    "dum_data_df"
   ]
  },
  {
   "cell_type": "code",
   "execution_count": 102,
   "metadata": {},
   "outputs": [],
   "source": [
    "word_vec = Pipeline(steps = [\n",
    "                 ('dk_clean', DanishCleaner(remove_digits=True, lower_case=True, emoji_normalize=True)),\n",
    "                ('word_vec', CountVectorizer(tokenizer=token, stop_words=stops,min_df=1))\n",
    "            ])"
   ]
  },
  {
   "cell_type": "code",
   "execution_count": 103,
   "metadata": {},
   "outputs": [],
   "source": [
    "fitted_word_vec = word_vec.fit_transform(dum_data_df['features'])"
   ]
  },
  {
   "cell_type": "code",
   "execution_count": 104,
   "metadata": {},
   "outputs": [
    {
     "data": {
      "text/plain": [
       "[':)',\n",
       " 'bedste',\n",
       " 'dansk',\n",
       " 'dominos',\n",
       " 'drikke',\n",
       " 'elsker',\n",
       " 'huset',\n",
       " 'kode',\n",
       " 'pizza',\n",
       " 'programmeringssprog',\n",
       " 'python',\n",
       " 'smukkeste',\n",
       " 'øl']"
      ]
     },
     "execution_count": 104,
     "metadata": {},
     "output_type": "execute_result"
    }
   ],
   "source": [
    "word_vec.steps[1][1].get_feature_names()"
   ]
  },
  {
   "cell_type": "code",
   "execution_count": 105,
   "metadata": {},
   "outputs": [
    {
     "data": {
      "text/html": [
       "<div>\n",
       "<style scoped>\n",
       "    .dataframe tbody tr th:only-of-type {\n",
       "        vertical-align: middle;\n",
       "    }\n",
       "\n",
       "    .dataframe tbody tr th {\n",
       "        vertical-align: top;\n",
       "    }\n",
       "\n",
       "    .dataframe thead th {\n",
       "        text-align: right;\n",
       "    }\n",
       "</style>\n",
       "<table border=\"1\" class=\"dataframe\">\n",
       "  <thead>\n",
       "    <tr style=\"text-align: right;\">\n",
       "      <th></th>\n",
       "      <th>features</th>\n",
       "      <th>tags</th>\n",
       "    </tr>\n",
       "  </thead>\n",
       "  <tbody>\n",
       "    <tr>\n",
       "      <th>0</th>\n",
       "      <td>Vi elsker 23 dansk øl og pizza</td>\n",
       "      <td>pizza</td>\n",
       "    </tr>\n",
       "    <tr>\n",
       "      <th>1</th>\n",
       "      <td>dominos pizza er den bedste :)</td>\n",
       "      <td>pizza</td>\n",
       "    </tr>\n",
       "    <tr>\n",
       "      <th>2</th>\n",
       "      <td>python, øl og pizza i huset</td>\n",
       "      <td>pizza</td>\n",
       "    </tr>\n",
       "    <tr>\n",
       "      <th>3</th>\n",
       "      <td>lad os drikke øl, ja! :) øl og kode i python</td>\n",
       "      <td>python</td>\n",
       "    </tr>\n",
       "    <tr>\n",
       "      <th>4</th>\n",
       "      <td>python :) er det smukkeste programmeringssprog</td>\n",
       "      <td>python</td>\n",
       "    </tr>\n",
       "  </tbody>\n",
       "</table>\n",
       "</div>"
      ],
      "text/plain": [
       "                                         features    tags\n",
       "0                  Vi elsker 23 dansk øl og pizza   pizza\n",
       "1                 dominos pizza er den bedste :)    pizza\n",
       "2                     python, øl og pizza i huset   pizza\n",
       "3    lad os drikke øl, ja! :) øl og kode i python  python\n",
       "4  python :) er det smukkeste programmeringssprog  python"
      ]
     },
     "execution_count": 105,
     "metadata": {},
     "output_type": "execute_result"
    }
   ],
   "source": [
    "dum_data_df"
   ]
  },
  {
   "cell_type": "code",
   "execution_count": 106,
   "metadata": {},
   "outputs": [
    {
     "data": {
      "text/html": [
       "<div>\n",
       "<style scoped>\n",
       "    .dataframe tbody tr th:only-of-type {\n",
       "        vertical-align: middle;\n",
       "    }\n",
       "\n",
       "    .dataframe tbody tr th {\n",
       "        vertical-align: top;\n",
       "    }\n",
       "\n",
       "    .dataframe thead th {\n",
       "        text-align: right;\n",
       "    }\n",
       "</style>\n",
       "<table border=\"1\" class=\"dataframe\">\n",
       "  <thead>\n",
       "    <tr style=\"text-align: right;\">\n",
       "      <th></th>\n",
       "      <th>:)</th>\n",
       "      <th>bedste</th>\n",
       "      <th>dansk</th>\n",
       "      <th>dominos</th>\n",
       "      <th>drikke</th>\n",
       "      <th>elsker</th>\n",
       "      <th>huset</th>\n",
       "      <th>kode</th>\n",
       "      <th>pizza</th>\n",
       "      <th>programmeringssprog</th>\n",
       "      <th>python</th>\n",
       "      <th>smukkeste</th>\n",
       "      <th>øl</th>\n",
       "    </tr>\n",
       "  </thead>\n",
       "  <tbody>\n",
       "    <tr>\n",
       "      <th>0</th>\n",
       "      <td>0</td>\n",
       "      <td>0</td>\n",
       "      <td>1</td>\n",
       "      <td>0</td>\n",
       "      <td>0</td>\n",
       "      <td>1</td>\n",
       "      <td>0</td>\n",
       "      <td>0</td>\n",
       "      <td>1</td>\n",
       "      <td>0</td>\n",
       "      <td>0</td>\n",
       "      <td>0</td>\n",
       "      <td>1</td>\n",
       "    </tr>\n",
       "    <tr>\n",
       "      <th>1</th>\n",
       "      <td>1</td>\n",
       "      <td>1</td>\n",
       "      <td>0</td>\n",
       "      <td>1</td>\n",
       "      <td>0</td>\n",
       "      <td>0</td>\n",
       "      <td>0</td>\n",
       "      <td>0</td>\n",
       "      <td>1</td>\n",
       "      <td>0</td>\n",
       "      <td>0</td>\n",
       "      <td>0</td>\n",
       "      <td>0</td>\n",
       "    </tr>\n",
       "    <tr>\n",
       "      <th>2</th>\n",
       "      <td>0</td>\n",
       "      <td>0</td>\n",
       "      <td>0</td>\n",
       "      <td>0</td>\n",
       "      <td>0</td>\n",
       "      <td>0</td>\n",
       "      <td>1</td>\n",
       "      <td>0</td>\n",
       "      <td>1</td>\n",
       "      <td>0</td>\n",
       "      <td>1</td>\n",
       "      <td>0</td>\n",
       "      <td>1</td>\n",
       "    </tr>\n",
       "    <tr>\n",
       "      <th>3</th>\n",
       "      <td>1</td>\n",
       "      <td>0</td>\n",
       "      <td>0</td>\n",
       "      <td>0</td>\n",
       "      <td>1</td>\n",
       "      <td>0</td>\n",
       "      <td>0</td>\n",
       "      <td>1</td>\n",
       "      <td>0</td>\n",
       "      <td>0</td>\n",
       "      <td>1</td>\n",
       "      <td>0</td>\n",
       "      <td>2</td>\n",
       "    </tr>\n",
       "    <tr>\n",
       "      <th>4</th>\n",
       "      <td>1</td>\n",
       "      <td>0</td>\n",
       "      <td>0</td>\n",
       "      <td>0</td>\n",
       "      <td>0</td>\n",
       "      <td>0</td>\n",
       "      <td>0</td>\n",
       "      <td>0</td>\n",
       "      <td>0</td>\n",
       "      <td>1</td>\n",
       "      <td>1</td>\n",
       "      <td>1</td>\n",
       "      <td>0</td>\n",
       "    </tr>\n",
       "  </tbody>\n",
       "</table>\n",
       "</div>"
      ],
      "text/plain": [
       "   :)  bedste  dansk  dominos  drikke  elsker  huset  kode  pizza  \\\n",
       "0   0       0      1        0       0       1      0     0      1   \n",
       "1   1       1      0        1       0       0      0     0      1   \n",
       "2   0       0      0        0       0       0      1     0      1   \n",
       "3   1       0      0        0       1       0      0     1      0   \n",
       "4   1       0      0        0       0       0      0     0      0   \n",
       "\n",
       "   programmeringssprog  python  smukkeste  øl  \n",
       "0                    0       0          0   1  \n",
       "1                    0       0          0   0  \n",
       "2                    0       1          0   1  \n",
       "3                    0       1          0   2  \n",
       "4                    1       1          1   0  "
      ]
     },
     "execution_count": 106,
     "metadata": {},
     "output_type": "execute_result"
    }
   ],
   "source": [
    "dum_data_df_vec = pd.DataFrame(fitted_word_vec.toarray(), columns=word_vec.steps[1][1].get_feature_names())\n",
    "dum_data_df_vec"
   ]
  },
  {
   "cell_type": "code",
   "execution_count": 109,
   "metadata": {},
   "outputs": [],
   "source": [
    "tfdif_para = dict(tokenizer=token, sublinear_tf=True, min_df=1, norm='l2', #encoding='latin-1', \n",
    "            ngram_range=(1, 1), stop_words=stops)"
   ]
  },
  {
   "cell_type": "code",
   "execution_count": 110,
   "metadata": {},
   "outputs": [],
   "source": [
    "word_tfdif = Pipeline(steps = [\n",
    "                 ('dk_clean', DanishCleaner(remove_digits=True, lower_case=True)),\n",
    "                ('word_tdf',  TfidfVectorizer(**tfdif_para))\n",
    "            ])"
   ]
  },
  {
   "cell_type": "code",
   "execution_count": 111,
   "metadata": {},
   "outputs": [
    {
     "name": "stdout",
     "output_type": "stream",
     "text": [
      "Wall time: 6 ms\n"
     ]
    }
   ],
   "source": [
    "%%time\n",
    "\n",
    "fitted_tfdif = word_tfdif.fit_transform(dum_data_df['features'])"
   ]
  },
  {
   "cell_type": "code",
   "execution_count": 112,
   "metadata": {},
   "outputs": [],
   "source": [
    "tfdif_features, labels = fitted_tfdif.toarray(), dum_data_df['tags']"
   ]
  },
  {
   "cell_type": "code",
   "execution_count": 113,
   "metadata": {},
   "outputs": [
    {
     "data": {
      "text/html": [
       "<div>\n",
       "<style scoped>\n",
       "    .dataframe tbody tr th:only-of-type {\n",
       "        vertical-align: middle;\n",
       "    }\n",
       "\n",
       "    .dataframe tbody tr th {\n",
       "        vertical-align: top;\n",
       "    }\n",
       "\n",
       "    .dataframe thead th {\n",
       "        text-align: right;\n",
       "    }\n",
       "</style>\n",
       "<table border=\"1\" class=\"dataframe\">\n",
       "  <thead>\n",
       "    <tr style=\"text-align: right;\">\n",
       "      <th></th>\n",
       "      <th>:)</th>\n",
       "      <th>bedste</th>\n",
       "      <th>dansk</th>\n",
       "      <th>dominos</th>\n",
       "      <th>drikke</th>\n",
       "      <th>elsker</th>\n",
       "      <th>huset</th>\n",
       "      <th>kode</th>\n",
       "      <th>pizza</th>\n",
       "      <th>programmeringssprog</th>\n",
       "      <th>python</th>\n",
       "      <th>smukkeste</th>\n",
       "      <th>øl</th>\n",
       "    </tr>\n",
       "  </thead>\n",
       "  <tbody>\n",
       "    <tr>\n",
       "      <th>0</th>\n",
       "      <td>0.000000</td>\n",
       "      <td>0.000000</td>\n",
       "      <td>0.587521</td>\n",
       "      <td>0.000000</td>\n",
       "      <td>0.000000</td>\n",
       "      <td>0.587521</td>\n",
       "      <td>0.000000</td>\n",
       "      <td>0.000000</td>\n",
       "      <td>0.393470</td>\n",
       "      <td>0.000000</td>\n",
       "      <td>0.000000</td>\n",
       "      <td>0.000000</td>\n",
       "      <td>0.393470</td>\n",
       "    </tr>\n",
       "    <tr>\n",
       "      <th>1</th>\n",
       "      <td>0.393470</td>\n",
       "      <td>0.587521</td>\n",
       "      <td>0.000000</td>\n",
       "      <td>0.587521</td>\n",
       "      <td>0.000000</td>\n",
       "      <td>0.000000</td>\n",
       "      <td>0.000000</td>\n",
       "      <td>0.000000</td>\n",
       "      <td>0.393470</td>\n",
       "      <td>0.000000</td>\n",
       "      <td>0.000000</td>\n",
       "      <td>0.000000</td>\n",
       "      <td>0.000000</td>\n",
       "    </tr>\n",
       "    <tr>\n",
       "      <th>2</th>\n",
       "      <td>0.000000</td>\n",
       "      <td>0.000000</td>\n",
       "      <td>0.000000</td>\n",
       "      <td>0.000000</td>\n",
       "      <td>0.000000</td>\n",
       "      <td>0.000000</td>\n",
       "      <td>0.652948</td>\n",
       "      <td>0.000000</td>\n",
       "      <td>0.437287</td>\n",
       "      <td>0.000000</td>\n",
       "      <td>0.437287</td>\n",
       "      <td>0.000000</td>\n",
       "      <td>0.437287</td>\n",
       "    </tr>\n",
       "    <tr>\n",
       "      <th>3</th>\n",
       "      <td>0.327457</td>\n",
       "      <td>0.000000</td>\n",
       "      <td>0.000000</td>\n",
       "      <td>0.000000</td>\n",
       "      <td>0.488952</td>\n",
       "      <td>0.000000</td>\n",
       "      <td>0.000000</td>\n",
       "      <td>0.488952</td>\n",
       "      <td>0.000000</td>\n",
       "      <td>0.000000</td>\n",
       "      <td>0.327457</td>\n",
       "      <td>0.000000</td>\n",
       "      <td>0.554433</td>\n",
       "    </tr>\n",
       "    <tr>\n",
       "      <th>4</th>\n",
       "      <td>0.393470</td>\n",
       "      <td>0.000000</td>\n",
       "      <td>0.000000</td>\n",
       "      <td>0.000000</td>\n",
       "      <td>0.000000</td>\n",
       "      <td>0.000000</td>\n",
       "      <td>0.000000</td>\n",
       "      <td>0.000000</td>\n",
       "      <td>0.000000</td>\n",
       "      <td>0.587521</td>\n",
       "      <td>0.393470</td>\n",
       "      <td>0.587521</td>\n",
       "      <td>0.000000</td>\n",
       "    </tr>\n",
       "  </tbody>\n",
       "</table>\n",
       "</div>"
      ],
      "text/plain": [
       "         :)    bedste     dansk   dominos    drikke    elsker     huset  \\\n",
       "0  0.000000  0.000000  0.587521  0.000000  0.000000  0.587521  0.000000   \n",
       "1  0.393470  0.587521  0.000000  0.587521  0.000000  0.000000  0.000000   \n",
       "2  0.000000  0.000000  0.000000  0.000000  0.000000  0.000000  0.652948   \n",
       "3  0.327457  0.000000  0.000000  0.000000  0.488952  0.000000  0.000000   \n",
       "4  0.393470  0.000000  0.000000  0.000000  0.000000  0.000000  0.000000   \n",
       "\n",
       "       kode     pizza  programmeringssprog    python  smukkeste        øl  \n",
       "0  0.000000  0.393470             0.000000  0.000000   0.000000  0.393470  \n",
       "1  0.000000  0.393470             0.000000  0.000000   0.000000  0.000000  \n",
       "2  0.000000  0.437287             0.000000  0.437287   0.000000  0.437287  \n",
       "3  0.488952  0.000000             0.000000  0.327457   0.000000  0.554433  \n",
       "4  0.000000  0.000000             0.587521  0.393470   0.587521  0.000000  "
      ]
     },
     "execution_count": 113,
     "metadata": {},
     "output_type": "execute_result"
    }
   ],
   "source": [
    "pd.DataFrame(tfdif_features, columns=word_tfdif.steps[1][1].get_feature_names())"
   ]
  },
  {
   "cell_type": "code",
   "execution_count": 114,
   "metadata": {},
   "outputs": [],
   "source": [
    "from sklearn.linear_model import LogisticRegression"
   ]
  },
  {
   "cell_type": "code",
   "execution_count": 115,
   "metadata": {},
   "outputs": [],
   "source": [
    "word_vec_para = dict(ngram_range=(1, 2),tokenizer=token,\n",
    "                     lowercase=True,stop_words=stops,min_df=1)"
   ]
  },
  {
   "cell_type": "code",
   "execution_count": 116,
   "metadata": {},
   "outputs": [],
   "source": [
    "simple_model = Pipeline(steps = [\n",
    "                 ('dk_clean', DanishCleaner(remove_digits=True, lower_case=True)),           \n",
    "                ('word_vec', CountVectorizer(**word_vec_para)),\n",
    "                ('word_tdf',  TfidfTransformer(sublinear_tf=True)),\n",
    "                ('fe_se', SelectKBest(chi2, k='all')),\n",
    "                ('log_reg',LogisticRegression(verbose=1))\n",
    "            ])"
   ]
  },
  {
   "cell_type": "code",
   "execution_count": 117,
   "metadata": {},
   "outputs": [
    {
     "name": "stdout",
     "output_type": "stream",
     "text": [
      "[LibLinear]"
     ]
    }
   ],
   "source": [
    "_ = simple_model.fit(dum_data_df['features'],dum_data_df['tags'])"
   ]
  },
  {
   "cell_type": "code",
   "execution_count": 118,
   "metadata": {},
   "outputs": [
    {
     "data": {
      "text/plain": [
       "array(['pizza', 'pizza', 'pizza', 'python', 'python'], dtype=object)"
      ]
     },
     "execution_count": 118,
     "metadata": {},
     "output_type": "execute_result"
    }
   ],
   "source": [
    "simple_model.predict(dum_data_df['features'])"
   ]
  },
  {
   "cell_type": "code",
   "execution_count": 119,
   "metadata": {},
   "outputs": [],
   "source": [
    "d_data = [('Hvem elsker ikke Pizza?',),('Der findes en rigtigt meget om Python programmeringssprog på engelsk',),\n",
    "            ('Hvis man går efter autentisk pizza, så skal man bruge de rigtige tomater',)\n",
    "          ]\n",
    "labels = ['features']\n",
    "\n",
    "d_data_df = pd.DataFrame.from_records(d_data, columns=labels)"
   ]
  },
  {
   "cell_type": "code",
   "execution_count": 120,
   "metadata": {},
   "outputs": [
    {
     "data": {
      "text/html": [
       "<div>\n",
       "<style scoped>\n",
       "    .dataframe tbody tr th:only-of-type {\n",
       "        vertical-align: middle;\n",
       "    }\n",
       "\n",
       "    .dataframe tbody tr th {\n",
       "        vertical-align: top;\n",
       "    }\n",
       "\n",
       "    .dataframe thead th {\n",
       "        text-align: right;\n",
       "    }\n",
       "</style>\n",
       "<table border=\"1\" class=\"dataframe\">\n",
       "  <thead>\n",
       "    <tr style=\"text-align: right;\">\n",
       "      <th></th>\n",
       "      <th>features</th>\n",
       "    </tr>\n",
       "  </thead>\n",
       "  <tbody>\n",
       "    <tr>\n",
       "      <th>0</th>\n",
       "      <td>Hvem elsker ikke Pizza?</td>\n",
       "    </tr>\n",
       "    <tr>\n",
       "      <th>1</th>\n",
       "      <td>Der findes en rigtigt meget om Python programm...</td>\n",
       "    </tr>\n",
       "    <tr>\n",
       "      <th>2</th>\n",
       "      <td>Hvis man går efter autentisk pizza, så skal ma...</td>\n",
       "    </tr>\n",
       "  </tbody>\n",
       "</table>\n",
       "</div>"
      ],
      "text/plain": [
       "                                            features\n",
       "0                            Hvem elsker ikke Pizza?\n",
       "1  Der findes en rigtigt meget om Python programm...\n",
       "2  Hvis man går efter autentisk pizza, så skal ma..."
      ]
     },
     "execution_count": 120,
     "metadata": {},
     "output_type": "execute_result"
    }
   ],
   "source": [
    "d_data_df"
   ]
  },
  {
   "cell_type": "code",
   "execution_count": 121,
   "metadata": {},
   "outputs": [
    {
     "data": {
      "text/html": [
       "<div>\n",
       "<style scoped>\n",
       "    .dataframe tbody tr th:only-of-type {\n",
       "        vertical-align: middle;\n",
       "    }\n",
       "\n",
       "    .dataframe tbody tr th {\n",
       "        vertical-align: top;\n",
       "    }\n",
       "\n",
       "    .dataframe thead th {\n",
       "        text-align: right;\n",
       "    }\n",
       "</style>\n",
       "<table border=\"1\" class=\"dataframe\">\n",
       "  <thead>\n",
       "    <tr style=\"text-align: right;\">\n",
       "      <th></th>\n",
       "      <th>pizza</th>\n",
       "      <th>python</th>\n",
       "    </tr>\n",
       "  </thead>\n",
       "  <tbody>\n",
       "    <tr>\n",
       "      <th>0</th>\n",
       "      <td>0.618256</td>\n",
       "      <td>0.381744</td>\n",
       "    </tr>\n",
       "    <tr>\n",
       "      <th>1</th>\n",
       "      <td>0.493728</td>\n",
       "      <td>0.506272</td>\n",
       "    </tr>\n",
       "    <tr>\n",
       "      <th>2</th>\n",
       "      <td>0.621508</td>\n",
       "      <td>0.378492</td>\n",
       "    </tr>\n",
       "  </tbody>\n",
       "</table>\n",
       "</div>"
      ],
      "text/plain": [
       "      pizza    python\n",
       "0  0.618256  0.381744\n",
       "1  0.493728  0.506272\n",
       "2  0.621508  0.378492"
      ]
     },
     "execution_count": 121,
     "metadata": {},
     "output_type": "execute_result"
    }
   ],
   "source": [
    "pd.DataFrame(simple_model.predict_proba(d_data_df['features']), columns=simple_model.classes_)"
   ]
  },
  {
   "cell_type": "code",
   "execution_count": 122,
   "metadata": {},
   "outputs": [
    {
     "data": {
      "text/plain": [
       "array(['pizza', 'python', 'pizza'], dtype=object)"
      ]
     },
     "execution_count": 122,
     "metadata": {},
     "output_type": "execute_result"
    }
   ],
   "source": [
    "simple_model.predict(d_data_df['features'])"
   ]
  },
  {
   "cell_type": "code",
   "execution_count": 123,
   "metadata": {},
   "outputs": [
    {
     "data": {
      "text/plain": [
       "array([-0.62341692, -0.54964752, -0.56560475,  0.1938148 ,  0.24827729])"
      ]
     },
     "execution_count": 123,
     "metadata": {},
     "output_type": "execute_result"
    }
   ],
   "source": [
    "simple_model.decision_function(dum_data_df['features'])"
   ]
  },
  {
   "cell_type": "code",
   "execution_count": 124,
   "metadata": {},
   "outputs": [],
   "source": [
    "features = simple_model.steps[1][1].get_feature_names()\n",
    "feature_names = [features[i] for i in \n",
    "                 simple_model.steps[3][1].get_support(indices=True)] # support from chi"
   ]
  },
  {
   "cell_type": "code",
   "execution_count": 125,
   "metadata": {},
   "outputs": [],
   "source": [
    "#Function modification of Mike Lee Williams(mike@mike.place)\n",
    "def show_most_informative_features(feature_names, clf, n=1000):\n",
    "    coefs_with_fns = sorted(zip(clf.coef_[0], feature_names))\n",
    "    top = zip(coefs_with_fns[:n], coefs_with_fns[:-(n + 1):-1])\n",
    "    for (coef_1, fn_1), (coef_2, fn_2) in top:\n",
    "        print(\"\\t%.4f\\t%-15s\\t\\t%.4f\\t%-15s\" % ((coef_1), fn_1, (coef_2), fn_2))"
   ]
  },
  {
   "cell_type": "code",
   "execution_count": 126,
   "metadata": {},
   "outputs": [
    {
     "name": "stdout",
     "output_type": "stream",
     "text": [
      "\t-0.3087\tpizza          \t\t0.1805\tsmukkeste programmeringssprog\n",
      "\t-0.2503\tøl pizza       \t\t0.1805\tsmukkeste      \n",
      "\t-0.1621\thuset          \t\t0.1805\tpython smukkeste\n",
      "\t-0.1621\tpizza huset    \t\t0.1805\tprogrammeringssprog :)\n",
      "\t-0.1621\tpython øl      \t\t0.1805\tprogrammeringssprog\n",
      "\t-0.1507\tbedste         \t\t0.1491\tøl øl          \n",
      "\t-0.1507\tbedste :)      \t\t0.1491\tøl kode        \n",
      "\t-0.1507\tdominos        \t\t0.1491\tpython :)      \n",
      "\t-0.1507\tdominos pizza  \t\t0.1491\tkode python    \n",
      "\t-0.1507\tpizza bedste   \t\t0.1491\tkode           \n",
      "\t-0.1482\tdansk          \t\t0.1491\tdrikke øl      \n",
      "\t-0.1482\tdansk øl       \t\t0.1491\tdrikke         \n",
      "\t-0.1482\telsker         \t\t0.1198\t:)             \n",
      "\t-0.1482\telsker dansk   \t\t0.1122\tpython         \n"
     ]
    }
   ],
   "source": [
    "show_most_informative_features(feature_names, simple_model.steps[4][1], n=14)"
   ]
  },
  {
   "cell_type": "markdown",
   "metadata": {},
   "source": [
    "## Closing EDA \n",
    "##### save our stop_words, and some helper functions"
   ]
  },
  {
   "cell_type": "code",
   "execution_count": 127,
   "metadata": {},
   "outputs": [],
   "source": [
    "from sklearn.externals import joblib"
   ]
  },
  {
   "cell_type": "code",
   "execution_count": null,
   "metadata": {},
   "outputs": [],
   "source": [
    "joblib.dump(stops,'../stops.pkl')"
   ]
  },
  {
   "cell_type": "code",
   "execution_count": null,
   "metadata": {},
   "outputs": [],
   "source": [
    "## Loading Data Steps\n",
    "# Summary of steps\n",
    "\n",
    "def load_data(path_to_file, seed=7, balanced=True):\n",
    "    import pandas as pd\n",
    "    import numpy as np\n",
    "    print('Loading data ...')\n",
    "    df = pd.read_pickle(path_to_file, compression='gzip')\n",
    "    np.random.seed(seed)\n",
    "    df = df[['reviewBody','ratingValue']]\n",
    "    df = df.reindex(np.random.permutation(df.index))\n",
    "    df.rename(columns={'reviewBody':'features','ratingValue':'target'}, inplace=True)\n",
    "    \n",
    "    print('Droping {} rows with features lenght of less than 2'.format(len(df[(df['features'].str.len()<2)])))\n",
    "    df.drop(index=df[(df['features'].str.len()<2)].index, inplace=True)\n",
    "    print('Droping 3 as rating and setting 1-2 as negative(0), 4-5 as positive(1))')\n",
    "    df.drop(df[~(df['target']!=3)].index, inplace=True)\n",
    "\n",
    "    df['y'] = np.where(df['target']>3,1,0)\n",
    "    print(df['y'].value_counts().to_dict(),'\\n')\n",
    "    _ = df['y'].value_counts().plot(kind='bar', title='Unbalanced Sentiment Distribution')\n",
    "    \n",
    "    if balanced:\n",
    "        print('Down sampling positive ratings to match negatives')\n",
    "\n",
    "        pos = df[df['y']==1].sample(len(df[df['y']==0]))\n",
    "        neg = df[df['y']==0]\n",
    "        df = pos.append(neg, ignore_index = True)\n",
    "    print('Data loading completed')\n",
    "    print(df['y'].value_counts().to_dict(),'\\n')\n",
    "    \n",
    "    return df"
   ]
  },
  {
   "cell_type": "code",
   "execution_count": null,
   "metadata": {},
   "outputs": [],
   "source": [
    "test_load = load_data('../sentiment_data', balanced=True)"
   ]
  },
  {
   "cell_type": "code",
   "execution_count": null,
   "metadata": {},
   "outputs": [],
   "source": [
    "test_load['y'].value_counts()"
   ]
  }
 ],
 "metadata": {
  "kernelspec": {
   "display_name": "Python 3",
   "language": "python",
   "name": "python3"
  },
  "language_info": {
   "codemirror_mode": {
    "name": "ipython",
    "version": 3
   },
   "file_extension": ".py",
   "mimetype": "text/x-python",
   "name": "python",
   "nbconvert_exporter": "python",
   "pygments_lexer": "ipython3",
   "version": "3.6.5"
  }
 },
 "nbformat": 4,
 "nbformat_minor": 2
}
