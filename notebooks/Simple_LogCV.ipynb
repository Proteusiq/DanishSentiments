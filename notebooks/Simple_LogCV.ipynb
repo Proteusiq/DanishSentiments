{
 "cells": [
  {
   "cell_type": "code",
   "execution_count": 1,
   "metadata": {},
   "outputs": [],
   "source": [
    "from helper import (load_data, token,time_me,\n",
    "                    show_diagram, show_most_informative_features)"
   ]
  },
  {
   "cell_type": "code",
   "execution_count": 2,
   "metadata": {},
   "outputs": [],
   "source": [
    "import pandas as pd\n",
    "import numpy as np\n",
    "import matplotlib.pyplot as plt\n",
    "\n",
    "%matplotlib inline\n",
    "plt.rcParams['figure.figsize'] = (15,5)\n",
    "plt.style.use('fivethirtyeight') # plt.style.available"
   ]
  },
  {
   "cell_type": "code",
   "execution_count": 5,
   "metadata": {},
   "outputs": [],
   "source": [
    "from sklearn.externals import joblib\n",
    "from sklearn.model_selection import (train_test_split, KFold,\n",
    "                                     cross_val_score)\n",
    "from sklearn.feature_extraction.text import (CountVectorizer, TfidfTransformer, TfidfVectorizer)"
   ]
  },
  {
   "cell_type": "markdown",
   "metadata": {},
   "source": [
    "#### TfidfVectorizer == CountVectorizer + TfidfTransformer"
   ]
  },
  {
   "cell_type": "code",
   "execution_count": 3,
   "metadata": {},
   "outputs": [],
   "source": [
    "from sklearn.feature_selection import SelectKBest, chi2\n",
    "from sklearn.pipeline import Pipeline\n",
    "from sklearn.linear_model import  LogisticRegressionCV"
   ]
  },
  {
   "cell_type": "code",
   "execution_count": 6,
   "metadata": {},
   "outputs": [],
   "source": [
    "stops = joblib.load('../stops.pkl')"
   ]
  },
  {
   "cell_type": "code",
   "execution_count": 7,
   "metadata": {},
   "outputs": [
    {
     "name": "stdout",
     "output_type": "stream",
     "text": [
      "Loading data ...\n",
      "Droping 10 rows with features lenght of less than 2\n",
      "Droping 3 as rating and setting 1-2 as negative(0), 4-5 as positive(1))\n",
      "{1: 460527, 0: 127232} \n",
      "\n",
      "Down sampling positive ratings to match negatives\n",
      "Data loading completed\n",
      "{1: 127232, 0: 127232} \n",
      "\n",
      "Execution Time: 4 seconds\n"
     ]
    },
    {
     "data": {
      "image/png": "[encoded data removed]",
      "text/plain": [
       "<Figure size 432x288 with 1 Axes>"
      ]
     },
     "metadata": {},
     "output_type": "display_data"
    }
   ],
   "source": [
    "df = load_data('../sentiment_data', balanced=True)"
   ]
  },
  {
   "cell_type": "code",
   "execution_count": 11,
   "metadata": {},
   "outputs": [
    {
     "data": {
      "text/html": [
       "<div>\n",
       "<style scoped>\n",
       "    .dataframe tbody tr th:only-of-type {\n",
       "        vertical-align: middle;\n",
       "    }\n",
       "\n",
       "    .dataframe tbody tr th {\n",
       "        vertical-align: top;\n",
       "    }\n",
       "\n",
       "    .dataframe thead th {\n",
       "        text-align: right;\n",
       "    }\n",
       "</style>\n",
       "<table border=\"1\" class=\"dataframe\">\n",
       "  <thead>\n",
       "    <tr style=\"text-align: right;\">\n",
       "      <th></th>\n",
       "      <th>features</th>\n",
       "      <th>target</th>\n",
       "      <th>y</th>\n",
       "    </tr>\n",
       "  </thead>\n",
       "  <tbody>\n",
       "    <tr>\n",
       "      <th>0</th>\n",
       "      <td>Internetkøb med postleverance på under 24 time...</td>\n",
       "      <td>5</td>\n",
       "      <td>1</td>\n",
       "    </tr>\n",
       "    <tr>\n",
       "      <th>1</th>\n",
       "      <td>Let og hurtig behandling af erstatning. \\r\\nMe...</td>\n",
       "      <td>5</td>\n",
       "      <td>1</td>\n",
       "    </tr>\n",
       "    <tr>\n",
       "      <th>2</th>\n",
       "      <td>Venlig og hurtig betjening</td>\n",
       "      <td>5</td>\n",
       "      <td>1</td>\n",
       "    </tr>\n",
       "    <tr>\n",
       "      <th>3</th>\n",
       "      <td>Super hurtig og effektiv forsendelse lige til ...</td>\n",
       "      <td>5</td>\n",
       "      <td>1</td>\n",
       "    </tr>\n",
       "    <tr>\n",
       "      <th>4</th>\n",
       "      <td>Nemt at bestille, hurtig levering og varen er ...</td>\n",
       "      <td>5</td>\n",
       "      <td>1</td>\n",
       "    </tr>\n",
       "  </tbody>\n",
       "</table>\n",
       "</div>"
      ],
      "text/plain": [
       "                                            features  target  y\n",
       "0  Internetkøb med postleverance på under 24 time...       5  1\n",
       "1  Let og hurtig behandling af erstatning. \\r\\nMe...       5  1\n",
       "2                         Venlig og hurtig betjening       5  1\n",
       "3  Super hurtig og effektiv forsendelse lige til ...       5  1\n",
       "4  Nemt at bestille, hurtig levering og varen er ...       5  1"
      ]
     },
     "execution_count": 11,
     "metadata": {},
     "output_type": "execute_result"
    }
   ],
   "source": [
    "df.head()"
   ]
  },
  {
   "cell_type": "code",
   "execution_count": 13,
   "metadata": {},
   "outputs": [],
   "source": [
    " X_train, X_test, y_train, y_test = train_test_split(df['features'], df['y'],\n",
    "                                                    test_size=.2, random_state=7,stratify=df['y'])"
   ]
  },
  {
   "cell_type": "code",
   "execution_count": 23,
   "metadata": {},
   "outputs": [
    {
     "name": "stdout",
     "output_type": "stream",
     "text": [
      "Traing Size: 203571\n",
      "Test Size:    50893\n"
     ]
    }
   ],
   "source": [
    "print(f'Traing Size: {X_train.shape[0]}\\nTest Size: {X_test.shape[0]:>8}')"
   ]
  },
  {
   "cell_type": "code",
   "execution_count": 33,
   "metadata": {},
   "outputs": [
    {
     "name": "stdout",
     "output_type": "stream",
     "text": [
      "Traing Size\n",
      "\tPositive||Negative Sample\n",
      "\t  101785||101786\n"
     ]
    }
   ],
   "source": [
    "print(f'Traing Size\\n\\tPositive||Negative Sample\\n\\t  {y_train[y_train==1].shape[0]}||{y_train[y_train==0].shape[0]}')"
   ]
  },
  {
   "cell_type": "code",
   "execution_count": 34,
   "metadata": {},
   "outputs": [
    {
     "name": "stdout",
     "output_type": "stream",
     "text": [
      "Test Size\n",
      "\tPositive||Negative Sample\n",
      "\t  25447||25446\n"
     ]
    }
   ],
   "source": [
    "print(f'Test Size\\n\\tPositive||Negative Sample\\n\\t  {y_test[y_test==1].shape[0]}||{y_test[y_test==0].shape[0]}')"
   ]
  },
  {
   "cell_type": "code",
   "execution_count": null,
   "metadata": {},
   "outputs": [],
   "source": [
    "lr_clf  = Pipeline((\n",
    "        ('vec',  CountVectorizer(ngram_range=(1, 2), max_features=100000,\n",
    "                                 tokenizer=token, stop_words=stops)),\n",
    "        ('fe_se', SelectKBest(chi2, k=5000)),\n",
    "        ('tfidf', TfidfTransformer(sublinear_tf=True)),\n",
    "        ('clf', LogisticRegressionCV(cv=5,solver='saga',scoring='accuracy', n_jobs=-1, verbose=1))\n",
    "    ))"
   ]
  },
  {
   "cell_type": "code",
   "execution_count": null,
   "metadata": {},
   "outputs": [],
   "source": [
    "lr_clf.fit(X_train, y_train)"
   ]
  },
  {
   "cell_type": "markdown",
   "metadata": {},
   "source": [
    "### c.40 minutes later"
   ]
  },
  {
   "cell_type": "code",
   "execution_count": 38,
   "metadata": {},
   "outputs": [
    {
     "name": "stdout",
     "output_type": "stream",
     "text": [
      "Wall time: 15.6 s\n"
     ]
    },
    {
     "data": {
      "text/plain": [
       "0.9394612225649893"
      ]
     },
     "execution_count": 38,
     "metadata": {},
     "output_type": "execute_result"
    }
   ],
   "source": [
    "%%time\n",
    "lr_clf.score(X_test, y_test)"
   ]
  },
  {
   "cell_type": "code",
   "execution_count": 41,
   "metadata": {},
   "outputs": [
    {
     "name": "stdout",
     "output_type": "stream",
     "text": [
      "Classification Report\n",
      "\t _____________________________________________\n",
      "             precision    recall  f1-score   support\n",
      "\n",
      "   Negative       0.93      0.95      0.94     25446\n",
      "   Positive       0.95      0.93      0.94     25447\n",
      "\n",
      "avg / total       0.94      0.94      0.94     50893\n",
      "\n",
      "\t _____________________________________________ \n",
      "\n",
      "\n"
     ]
    },
    {
     "data": {
      "image/png": "[encoded data removed]",
      "text/plain": [
       "<Figure size 720x360 with 1 Axes>"
      ]
     },
     "metadata": {},
     "output_type": "display_data"
    },
    {
     "name": "stdout",
     "output_type": "stream",
     "text": [
      "Execution Time: 3 minutes and 37 seconds\n"
     ]
    }
   ],
   "source": [
    "show_diagram(lr_clf, X_train, y_train, X_test, y_test, compare_test=True)"
   ]
  },
  {
   "cell_type": "code",
   "execution_count": 49,
   "metadata": {},
   "outputs": [],
   "source": [
    "feature_names = lr_clf.steps[0][1].get_feature_names()"
   ]
  },
  {
   "cell_type": "code",
   "execution_count": 57,
   "metadata": {},
   "outputs": [],
   "source": [
    "best_features = [feature_names[i] for i in lr_clf.steps[1][1].get_support(indices=True)]"
   ]
  },
  {
   "cell_type": "code",
   "execution_count": 59,
   "metadata": {},
   "outputs": [
    {
     "name": "stdout",
     "output_type": "stream",
     "text": [
      "\t-8.4098\tdår            \t\t8.5911\thurt           \n",
      "\t-8.2037\tikk ord        \t\t8.1640\t:)             \n",
      "\t-8.1528\ting pak        \t\t7.8441\tperfek         \n",
      "\t-7.8648\telend          \t\t7.6681\tnemt           \n",
      "\t-7.6214\tuacceptabelt   \t\t7.5689\tdej            \n",
      "\t-7.2536\tkm             \t\t7.2026\tsup            \n",
      "\t-6.6347\tikk tilfred    \t\t7.1727\tgod            \n",
      "\t-6.0991\tikk            \t\t6.6324\tenest minus    \n",
      "\t-5.9916\tdår servic     \t\t6.3781\tfremrag        \n",
      "\t-5.9065\thjem hel       \t\t5.9486\ttilfred        \n",
      "\t-5.9060\tgls            \t\t5.6757\tfantastisk     \n",
      "\t-5.7771\tuacceptabel    \t\t5.5362\ting problem    \n",
      "\t-5.7618\t:(             \t\t5.2753\tsæt fing       \n",
      "\t-5.6441\tgrin           \t\t5.1333\tsmertefrit     \n",
      "\t-5.6313\tsmadr          \t\t4.9693\tfin            \n",
      "\t-5.5859\tøv             \t\t4.7507\tmang tak       \n",
      "\t-5.5858\tomm            \t\t4.7333\tbehag          \n",
      "\t-5.5724\tværst          \t\t4.5778\tint klag       \n",
      "\t-5.5111\tikk god        \t\t4.4693\teffektiv       \n",
      "\t-5.4971\tikk iord       \t\t4.4498\tsmil           \n",
      "\t-5.4897\turim           \t\t4.4486\tklart anbefal  \n",
      "\t-5.4514\tund kritik     \t\t4.4253\tlynhurt        \n",
      "\t-5.4308\tlangsomt       \t\t4.3564\tvarmt anbefal  \n",
      "\t-5.4242\tdistributionscent\t\t4.2978\tpositiv oplev  \n",
      "\t-5.3911\tutilfredsstil  \t\t4.2876\tgodt           \n",
      "\t-5.3498\tlangsom        \t\t4.2852\tproblemfri     \n",
      "\t-5.3406\ting hjælp      \t\t4.2831\taltid fået     \n",
      "\t-5.3343\tikk godt       \t\t4.2573\tproblemfrit    \n",
      "\t-5.2969\ting måd        \t\t4.2045\tnem            \n",
      "\t-5.2608\tuger           \t\t4.1368\ttop            \n",
      "\t-5.1786\tikk modtag     \t\t4.1358\td:d            \n",
      "\t-5.1146\tnægt           \t\t4.0429\tikk gør        \n",
      "\t-5.0416\tops            \t\t4.0217\tfin behandling \n",
      "\t-5.0237\tlatter         \t\t4.0185\tvarmt          \n",
      "\t-4.9995\tstad ikk       \t\t3.9556\thjælpsom       \n",
      "\t-4.9718\tinkompetent    \t\t3.9547\tupåklag        \n",
      "\t-4.9667\ting ell        \t\t3.9299\tikk hjem       \n",
      "\t-4.9387\tspild          \t\t3.9092\tsup servic     \n",
      "\t-4.9316\tgentagn        \t\t3.8761\tproblem        \n",
      "\t-4.9044\tikk anbefal    \t\t3.8258\tven            \n",
      "\t-4.9016\tmeg skuf       \t\t3.8249\tuproblematisk  \n",
      "\t-4.8727\tumu            \t\t3.8013\ttak god        \n",
      "\t-4.8406\tforsøg         \t\t3.7589\tug             \n",
      "\t-4.8314\tring servic    \t\t3.7506\ttilfreds       \n",
      "\t-4.8307\tund al         \t\t3.7362\tsuperhurt      \n",
      "\t-4.7461\tring           \t\t3.6875\thel vej        \n",
      "\t-4.7169\tint hørt       \t\t3.6775\tnog klag       \n",
      "\t-4.7133\tvæk            \t\t3.6042\tfung           \n",
      "\t-4.6893\tikk lev        \t\t3.5656\taltid god      \n",
      "\t-4.6788\tsur            \t\t3.5642\tgern igen      \n",
      "\t-4.6462\tbetalt ekstra  \t\t3.5640\tførst omgang   \n",
      "\t-4.6214\ttræt           \t\t3.5612\tkanon          \n",
      "\t-4.5972\tløgn           \t\t3.5492\tstrak          \n",
      "\t-4.5883\tskod           \t\t3.4865\teft bog        \n",
      "\t-4.5819\tlang tid       \t\t3.4811\to :o)          \n",
      "\t-4.5755\tvirk ikk       \t\t3.4321\toversku        \n",
      "\t-4.5735\tgodt forstå    \t\t3.4120\tvelforbered    \n",
      "\t-4.5138\tubehøvl        \t\t3.4019\tmeg tilfredsstil\n",
      "\t-4.4291\tførst onsdag   \t\t3.3927\tprofessionel   \n",
      "\t-4.4107\tubrug          \t\t3.3768\tsmul           \n",
      "\t-4.3966\tspam           \t\t3.3241\tonfon          \n",
      "\t-4.3876\topsag          \t\t3.2530\tuden problem   \n",
      "\t-4.3775\tforkert        \t\t3.2072\thaft           \n",
      "\t-4.3763\tlev forkert    \t\t3.1487\teffektivt      \n",
      "\t-4.3535\trigt dår       \t\t3.1221\tgod information\n",
      "\t-4.3513\tryk            \t\t3.1087\tuden skad      \n",
      "\t-4.3429\tbetal          \t\t2.9333\ttid            \n",
      "\t-4.3261\tmast           \t\t2.8977\toverrask hurt  \n",
      "\t-4.3246\tamatør         \t\t2.8272\ting klag       \n",
      "\t-4.3180\tikk overhold   \t\t2.8143\tpræcis         \n",
      "\t-4.3050\tforsvind       \t\t2.8137\tvær kund       \n",
      "\t-4.2911\tikk acceptabelt\t\t2.8126\teft bestilling \n",
      "\t-4.2858\tflab           \t\t2.7740\tenest          \n",
      "\t-4.2543\tikk aflev      \t\t2.7568\tflink postbud  \n",
      "\t-4.2451\tvælg and       \t\t2.7209\trigt godt      \n",
      "\t-4.2295\ting servic     \t\t2.6992\tselvom ikk     \n",
      "\t-4.2256\tførst tirsdag  \t\t2.6982\tint bemærk     \n",
      "\t-4.2033\taldr pak       \t\t2.6788\tord            \n",
      "\t-4.1986\tuprofessionelt \t\t2.6724\tfin servic     \n",
      "\t-4.1717\tbondefangeri   \t\t2.6671\tgåend          \n",
      "\t-4.1714\tarrogant       \t\t2.6636\tlig dør        \n",
      "\t-4.1670\tbrøndby        \t\t2.6608\tbetal måned    \n",
      "\t-4.1511\tikk styr       \t\t2.6538\tfair           \n",
      "\t-4.1493\tuseriøst       \t\t2.6033\tbrok           \n",
      "\t-4.1464\thåbløs         \t\t2.5809\tmeg tilfred    \n",
      "\t-4.1375\tgansk enkelt   \t\t2.5125\tordn           \n",
      "\t-4.1268\tvirk dår       \t\t2.4887\tglæd           \n",
      "\t-4.1207\tluk            \t\t2.4675\tgod servic     \n",
      "\t-4.1204\ting meddel     \t\t2.4470\tenkelt         \n",
      "\t-4.1185\tmang problem   \t\t2.4212\tfung fint      \n",
      "\t-4.1106\tføj            \t\t2.4154\taltid hurt     \n",
      "\t-4.1100\tikk hjælp      \t\t2.4005\tminus          \n",
      "\t-4.1087\tvær rigt       \t\t2.3926\thurt hjælp     \n",
      "\t-4.1084\tuge            \t\t2.3716\tsling          \n",
      "\t-4.1034\tødelag         \t\t2.3539\tfuld tilfred   \n",
      "\t-4.0845\tpak åbn        \t\t2.3454\tikk dår        \n",
      "\t-4.0762\tligeglad       \t\t2.3268\tfint nok       \n",
      "\t-4.0696\tuhøf           \t\t2.3268\tgodt anbefal   \n",
      "\t-4.0441\tundskyldning   \t\t2.3219\theldigvis ikk  \n",
      "\t-4.0296\tbetalt pak     \t\t2.2961\taltid tid      \n"
     ]
    }
   ],
   "source": [
    "show_most_informative_features(best_features, lr_clf.steps[3][1], n=100)"
   ]
  }
 ],
 "metadata": {
  "kernelspec": {
   "display_name": "Python 3",
   "language": "python",
   "name": "python3"
  },
  "language_info": {
   "codemirror_mode": {
    "name": "ipython",
    "version": 3
   },
   "file_extension": ".py",
   "mimetype": "text/x-python",
   "name": "python",
   "nbconvert_exporter": "python",
   "pygments_lexer": "ipython3",
   "version": "3.6.5"
  }
 },
 "nbformat": 4,
 "nbformat_minor": 2
}
