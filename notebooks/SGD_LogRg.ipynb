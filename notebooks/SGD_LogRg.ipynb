{
 "cells": [
  {
   "cell_type": "code",
   "execution_count": 1,
   "metadata": {},
   "outputs": [],
   "source": [
    "# Partial Fitting. Alternative xgboost would be a best choose\n",
    "#    'Perceptron': Perceptron(),\n",
    "    #'NB Multinomial': MultinomialNB(alpha=0.01),\n",
    "    #'Passive-Aggressive': PassiveAggressiveClassifier() -- slow to train"
   ]
  },
  {
   "cell_type": "code",
   "execution_count": 2,
   "metadata": {},
   "outputs": [],
   "source": [
    "from helper import (load_data, token, show_diagram,time_me,\n",
    "                      show_most_informative_features)"
   ]
  },
  {
   "cell_type": "code",
   "execution_count": 3,
   "metadata": {},
   "outputs": [],
   "source": [
    "## Same process timing with %time does not work. We also needed something human ;)\n",
    "from datetime import datetime\n",
    "import humanfriendly\n"
   ]
  },
  {
   "cell_type": "code",
   "execution_count": 4,
   "metadata": {},
   "outputs": [],
   "source": [
    "import pandas as pd\n",
    "import numpy as np\n",
    "import matplotlib.pyplot as plt\n",
    "\n",
    "%matplotlib inline\n",
    "plt.rcParams['figure.figsize'] = (15,5)\n",
    "plt.style.use('fivethirtyeight') # plt.style.available"
   ]
  },
  {
   "cell_type": "code",
   "execution_count": 5,
   "metadata": {},
   "outputs": [],
   "source": [
    "from sklearn.externals import joblib\n",
    "from sklearn.model_selection import train_test_split\n",
    "from sklearn.feature_extraction.text import HashingVectorizer"
   ]
  },
  {
   "cell_type": "markdown",
   "metadata": {},
   "source": [
    "#### Why HashingVectorizer? TfidfVectorizer, CountVectorizer + TfidfTransformer"
   ]
  },
  {
   "cell_type": "code",
   "execution_count": 6,
   "metadata": {},
   "outputs": [],
   "source": [
    "\n",
    "from sklearn.linear_model import SGDClassifier"
   ]
  },
  {
   "cell_type": "code",
   "execution_count": 7,
   "metadata": {},
   "outputs": [],
   "source": [
    "stops = joblib.load('../stops.pkl')"
   ]
  },
  {
   "cell_type": "code",
   "execution_count": 8,
   "metadata": {},
   "outputs": [
    {
     "name": "stdout",
     "output_type": "stream",
     "text": [
      "Loading data ...\n",
      "Droping 10 rows with features lenght of less than 2\n",
      "Droping 3 as rating and setting 1-2 as negative(0), 4-5 as positive(1))\n",
      "{1: 460527, 0: 127232} \n",
      "\n",
      "Down sampling positive ratings to match negatives\n",
      "Data loading completed\n",
      "{1: 127232, 0: 127232} \n",
      "\n",
      "Execution Time: 5 seconds\n"
     ]
    },
    {
     "data": {
      "image/png": "[encoded data removed]",
      "text/plain": [
       "<Figure size 432x288 with 1 Axes>"
      ]
     },
     "metadata": {},
     "output_type": "display_data"
    }
   ],
   "source": [
    "df = load_data('../sentiment_data', balanced=True) # Using unbalance Data"
   ]
  },
  {
   "cell_type": "code",
   "execution_count": 9,
   "metadata": {},
   "outputs": [],
   "source": [
    " X_train, X_test, y_train, y_test = train_test_split(df['features'], df['y'],\n",
    "                                                    test_size=.1, random_state=7,stratify=df['y'])"
   ]
  },
  {
   "cell_type": "code",
   "execution_count": 10,
   "metadata": {},
   "outputs": [],
   "source": [
    "hash_para = dict(decode_error='ignore', n_features=2**18, tokenizer=token,\n",
    "                stop_words=stops, ngram_range=(1,3), alternate_sign=False)\n",
    "clf_prep = HashingVectorizer(**hash_para)"
   ]
  },
  {
   "cell_type": "code",
   "execution_count": 11,
   "metadata": {},
   "outputs": [],
   "source": [
    "clf_prep = HashingVectorizer(**hash_para)\n",
    "clf = SGDClassifier(loss='log', random_state=1, max_iter=1)"
   ]
  },
  {
   "cell_type": "code",
   "execution_count": 12,
   "metadata": {},
   "outputs": [],
   "source": [
    "@time_me\n",
    "def sgd_model(X,y=None,method=None):\n",
    "    if method == 'train':\n",
    "        print('Training Model...')\n",
    "        u = datetime.now()\n",
    "        clf.partial_fit(clf_prep.transform(X), y,classes=np.unique(y))\n",
    "        v = datetime.now()\n",
    "        delta = v-u\n",
    "        print('Training took: {}'.format(\n",
    "            humanfriendly.format_timespan(delta.seconds)))\n",
    "\n",
    "        return clf\n",
    "    if method == 'score':\n",
    "        print('Scoring Model...')\n",
    "        u = datetime.now()\n",
    "        score = clf.score(clf_prep.transform(X),y)\n",
    "        v = datetime.now()\n",
    "        delta = v-u\n",
    "        print('Scoring took: {}'.format(\n",
    "            humanfriendly.format_timespan(delta.seconds)))\n",
    "        \n",
    "        return score\n",
    "    \n",
    "    if method == 'predict':\n",
    "        return clf.predict(clf_prep.transform(X))\n",
    "    else:\n",
    "        return clf.predict_proba(clf_prep.transform(X))\n",
    "        \n",
    "   "
   ]
  },
  {
   "cell_type": "code",
   "execution_count": 13,
   "metadata": {},
   "outputs": [
    {
     "name": "stdout",
     "output_type": "stream",
     "text": [
      "Training Model...\n",
      "Training took: 55 seconds\n",
      "Execution Time: 55 seconds\n"
     ]
    }
   ],
   "source": [
    "clf = sgd_model(X_train,y_train,'train')"
   ]
  },
  {
   "cell_type": "code",
   "execution_count": 14,
   "metadata": {},
   "outputs": [
    {
     "name": "stdout",
     "output_type": "stream",
     "text": [
      "Scoring Model...\n",
      "Scoring took: 6 seconds\n",
      "Execution Time: 6 seconds\n"
     ]
    }
   ],
   "source": [
    "score = sgd_model(X_test,y_test,'score')"
   ]
  },
  {
   "cell_type": "code",
   "execution_count": 15,
   "metadata": {},
   "outputs": [
    {
     "data": {
      "text/plain": [
       "0.9180257004754981"
      ]
     },
     "execution_count": 15,
     "metadata": {},
     "output_type": "execute_result"
    }
   ],
   "source": [
    "score"
   ]
  },
  {
   "cell_type": "code",
   "execution_count": 16,
   "metadata": {},
   "outputs": [],
   "source": [
    "X_train_ , X_test_ = clf_prep.transform(X_train), clf_prep.transform(X_test)"
   ]
  },
  {
   "cell_type": "code",
   "execution_count": 17,
   "metadata": {},
   "outputs": [
    {
     "name": "stdout",
     "output_type": "stream",
     "text": [
      "Classification Report\n",
      "\t _____________________________________________\n",
      "             precision    recall  f1-score   support\n",
      "\n",
      "   Negative       0.90      0.94      0.92     12723\n",
      "   Positive       0.94      0.90      0.92     12724\n",
      "\n",
      "avg / total       0.92      0.92      0.92     25447\n",
      "\n",
      "\t _____________________________________________ \n",
      "\n",
      "\n"
     ]
    },
    {
     "data": {
      "image/png": "[encoded data removed]",
      "text/plain": [
       "<Figure size 720x360 with 1 Axes>"
      ]
     },
     "metadata": {},
     "output_type": "display_data"
    },
    {
     "name": "stdout",
     "output_type": "stream",
     "text": [
      "Execution Time: 1 second\n"
     ]
    }
   ],
   "source": [
    "show_diagram(clf,X_train_, y_train, X_test_, y_test,compare_test=True)"
   ]
  },
  {
   "cell_type": "code",
   "execution_count": 19,
   "metadata": {},
   "outputs": [
    {
     "name": "stdout",
     "output_type": "stream",
     "text": [
      "Training Model...\n",
      "Training took: 6 seconds\n",
      "Execution Time: 6 seconds\n"
     ]
    }
   ],
   "source": [
    "# Use update mode with remaining data\n",
    "# Since we have partial_fit, we can just fit in the remaining\n",
    "\n",
    "clf = sgd_model(X_test,y_test,'train')\n"
   ]
  },
  {
   "cell_type": "code",
   "execution_count": 22,
   "metadata": {},
   "outputs": [
    {
     "data": {
      "text/plain": [
       "['../SGDclassifier.pkl']"
      ]
     },
     "execution_count": 22,
     "metadata": {},
     "output_type": "execute_result"
    }
   ],
   "source": [
    "joblib.dump(clf_prep, '../HashVectorizer.pkl')\n",
    "joblib.dump(clf, '../SGDclassifier.pkl')"
   ]
  }
 ],
 "metadata": {
  "kernelspec": {
   "display_name": "Python 3",
   "language": "python",
   "name": "python3"
  },
  "language_info": {
   "codemirror_mode": {
    "name": "ipython",
    "version": 3
   },
   "file_extension": ".py",
   "mimetype": "text/x-python",
   "name": "python",
   "nbconvert_exporter": "python",
   "pygments_lexer": "ipython3",
   "version": "3.6.8"
  }
 },
 "nbformat": 4,
 "nbformat_minor": 2
}
