{
 "cells": [
  {
   "cell_type": "code",
   "execution_count": 1,
   "metadata": {},
   "outputs": [],
   "source": [
    "# Partial Fitting. Alternative xgboost would be a best choose\n",
    "#    'Perceptron': Perceptron(),\n",
    "    #'NB Multinomial': MultinomialNB(alpha=0.01),\n",
    "    #'Passive-Aggressive': PassiveAggressiveClassifier() -- slow to train"
   ]
  },
  {
   "cell_type": "code",
   "execution_count": 7,
   "metadata": {},
   "outputs": [],
   "source": [
    "from helper import (load_data, token, show_diagram,\n",
    "                      show_most_informative_features)"
   ]
  },
  {
   "cell_type": "code",
   "execution_count": 8,
   "metadata": {},
   "outputs": [],
   "source": [
    "## Long process timing that %time does not work\n",
    "from datetime import datetime\n",
    "import humanfriendly\n"
   ]
  },
  {
   "cell_type": "code",
   "execution_count": 9,
   "metadata": {},
   "outputs": [],
   "source": [
    "import pandas as pd\n",
    "import numpy as np\n",
    "import matplotlib.pyplot as plt\n",
    "\n",
    "%matplotlib inline\n",
    "plt.rcParams['figure.figsize'] = (15,5)\n",
    "plt.style.use('fivethirtyeight') # plt.style.available"
   ]
  },
  {
   "cell_type": "code",
   "execution_count": 10,
   "metadata": {},
   "outputs": [],
   "source": [
    "from sklearn.externals import joblib\n",
    "from sklearn.model_selection import (train_test_split, cross_val_score)\n",
    "from sklearn.feature_selection import SelectKBest, chi2\n",
    "from sklearn.feature_extraction.text import HashingVectorizer"
   ]
  },
  {
   "cell_type": "markdown",
   "metadata": {},
   "source": [
    "#### Why HashingVectorizer? TfidfVectorizer, CountVectorizer + TfidfTransformer"
   ]
  },
  {
   "cell_type": "code",
   "execution_count": 11,
   "metadata": {},
   "outputs": [],
   "source": [
    "\n",
    "from sklearn.pipeline import Pipeline\n",
    "from sklearn.linear_model import SGDClassifier"
   ]
  },
  {
   "cell_type": "code",
   "execution_count": 12,
   "metadata": {},
   "outputs": [],
   "source": [
    "stops = joblib.load('../stops.pkl')"
   ]
  },
  {
   "cell_type": "code",
   "execution_count": 19,
   "metadata": {},
   "outputs": [
    {
     "name": "stdout",
     "output_type": "stream",
     "text": [
      "Loading data ...\n",
      "Droping 10 rows with features lenght of less than 2\n",
      "Droping 3 as rating and setting 1-2 as negative(0), 4-5 as positive(1))\n",
      "{1: 460527, 0: 127232} \n",
      "\n",
      "Data loading completed\n",
      "{1: 460527, 0: 127232} \n",
      "\n",
      "Execution Time: 4 seconds\n"
     ]
    },
    {
     "data": {
      "image/png": "[encoded data removed]",
      "text/plain": [
       "<Figure size 1080x360 with 1 Axes>"
      ]
     },
     "metadata": {},
     "output_type": "display_data"
    }
   ],
   "source": [
    "df = load_data('../sentiment_data', balanced=False) # Using unbalance Data"
   ]
  },
  {
   "cell_type": "code",
   "execution_count": 129,
   "metadata": {},
   "outputs": [],
   "source": [
    "hash_para = dict(decode_error='ignore', n_features=2**18, tokenizer=token,\n",
    "                stop_words=stops, ngram_range=(1,3), alternate_sign=False)\n",
    "clf_prep = HashingVectorizer(**hash_para)"
   ]
  },
  {
   "cell_type": "code",
   "execution_count": 131,
   "metadata": {},
   "outputs": [],
   "source": [
    "clf_prep = HashingVectorizer(**hash_para)\n",
    "clf = SGDClassifier(loss='log', random_state=1, max_iter=1)"
   ]
  },
  {
   "cell_type": "code",
   "execution_count": 148,
   "metadata": {},
   "outputs": [],
   "source": [
    "def sgd_model(X,y=None,method=None):\n",
    "    if method == 'train':\n",
    "        print('Training Model...')\n",
    "        u = datetime.now()\n",
    "        clf.partial_fit(clf_prep.transform(X), y,classes=np.unique(y))\n",
    "        v = datetime.now()\n",
    "        delta = v-u\n",
    "        print('Training took: {}'.format(\n",
    "            humanfriendly.format_timespan(delta.seconds)))\n",
    "\n",
    "        return clf\n",
    "    if method == 'score':\n",
    "        return clf.score(clf_prep.transform(X),y)\n",
    "    \n",
    "    if method == 'predict':\n",
    "        return clf.predict(clf_prep.transform(X))\n",
    "    else:\n",
    "        return clf.predict_proba(clf_prep.transform(X))\n",
    "        \n",
    "   "
   ]
  },
  {
   "cell_type": "code",
   "execution_count": null,
   "metadata": {},
   "outputs": [
    {
     "name": "stdout",
     "output_type": "stream",
     "text": [
      "Training Model...\n"
     ]
    }
   ],
   "source": [
    "clf = sgd_model(X_train,y_train,'train')"
   ]
  },
  {
   "cell_type": "code",
   "execution_count": 150,
   "metadata": {},
   "outputs": [],
   "source": [
    "score = sgd_model(X_test,y_test,'score')"
   ]
  },
  {
   "cell_type": "code",
   "execution_count": 151,
   "metadata": {},
   "outputs": [
    {
     "data": {
      "text/plain": [
       "0.921338641622431"
      ]
     },
     "execution_count": 151,
     "metadata": {},
     "output_type": "execute_result"
    }
   ],
   "source": [
    "score"
   ]
  },
  {
   "cell_type": "code",
   "execution_count": null,
   "metadata": {},
   "outputs": [],
   "source": []
  }
 ],
 "metadata": {
  "kernelspec": {
   "display_name": "Python 3",
   "language": "python",
   "name": "python3"
  },
  "language_info": {
   "codemirror_mode": {
    "name": "ipython",
    "version": 3
   },
   "file_extension": ".py",
   "mimetype": "text/x-python",
   "name": "python",
   "nbconvert_exporter": "python",
   "pygments_lexer": "ipython3",
   "version": "3.6.5"
  }
 },
 "nbformat": 4,
 "nbformat_minor": 2
}
