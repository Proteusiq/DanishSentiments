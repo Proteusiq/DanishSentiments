{
 "cells": [
  {
   "cell_type": "code",
   "execution_count": 1,
   "metadata": {},
   "outputs": [],
   "source": [
    "import pandas as pd\n",
    "import numpy as np\n",
    "import matplotlib.pyplot as plt\n"
   ]
  },
  {
   "cell_type": "code",
   "execution_count": 2,
   "metadata": {},
   "outputs": [],
   "source": [
    "from sklearn.externals import joblib\n",
    "from sklearn.preprocessing import LabelEncoder\n",
    "from sklearn.model_selection import train_test_split\n",
    "from sklearn.metrics import precision_recall_fscore_support,classification_report"
   ]
  },
  {
   "cell_type": "code",
   "execution_count": 3,
   "metadata": {},
   "outputs": [
    {
     "name": "stderr",
     "output_type": "stream",
     "text": [
      "Using TensorFlow backend.\n"
     ]
    }
   ],
   "source": [
    "from keras.preprocessing.text import Tokenizer\n",
    "from keras.preprocessing.sequence import pad_sequences\n",
    "from keras.utils import to_categorical\n",
    "from keras.layers import (Dense, Input, LSTM, Embedding,\n",
    "                          Dropout, Activation)\n",
    "from keras.layers import (Bidirectional, GlobalMaxPool1D,\n",
    "                         Conv1D, SimpleRNN, Dense, Input, \n",
    "                        Flatten, Dropout, BatchNormalization,MaxPooling1D)\n",
    "from keras.models import Model,Sequential"
   ]
  },
  {
   "cell_type": "raw",
   "metadata": {},
   "source": [
    "# from keras import initializers, regularizers, constraints, optimizers, layers"
   ]
  },
  {
   "cell_type": "code",
   "execution_count": 4,
   "metadata": {},
   "outputs": [],
   "source": [
    "from helper import load_data, token"
   ]
  },
  {
   "cell_type": "code",
   "execution_count": 5,
   "metadata": {},
   "outputs": [],
   "source": [
    "\n",
    "%matplotlib inline\n",
    "plt.rcParams['figure.figsize'] = (15,5)\n",
    "plt.style.use('fivethirtyeight') # plt.style.available"
   ]
  },
  {
   "cell_type": "code",
   "execution_count": 6,
   "metadata": {},
   "outputs": [],
   "source": [
    "stops = joblib.load('../stops.pkl')"
   ]
  },
  {
   "cell_type": "code",
   "execution_count": 14,
   "metadata": {},
   "outputs": [
    {
     "name": "stdout",
     "output_type": "stream",
     "text": [
      "Loading data ...\n",
      "Droping 10 rows with features lenght of less than 2\n",
      "Droping 3 as rating and setting 1-2 as negative(0), 4-5 as positive(1))\n",
      "{1: 460527, 0: 127232} \n",
      "\n",
      "Down sampling positive ratings to match negatives\n",
      "Data loading completed\n",
      "{1: 127232, 0: 127232} \n",
      "\n",
      "Execution Time: 6 seconds\n"
     ]
    },
    {
     "data": {
      "image/png": "[encoded data removed]",
      "text/plain": [
       "<Figure size 1080x360 with 1 Axes>"
      ]
     },
     "metadata": {},
     "output_type": "display_data"
    }
   ],
   "source": [
    "df = load_data('../sentiment_data', balanced=True)"
   ]
  },
  {
   "cell_type": "code",
   "execution_count": 8,
   "metadata": {},
   "outputs": [
    {
     "data": {
      "text/html": [
       "<div>\n",
       "<style scoped>\n",
       "    .dataframe tbody tr th:only-of-type {\n",
       "        vertical-align: middle;\n",
       "    }\n",
       "\n",
       "    .dataframe tbody tr th {\n",
       "        vertical-align: top;\n",
       "    }\n",
       "\n",
       "    .dataframe thead th {\n",
       "        text-align: right;\n",
       "    }\n",
       "</style>\n",
       "<table border=\"1\" class=\"dataframe\">\n",
       "  <thead>\n",
       "    <tr style=\"text-align: right;\">\n",
       "      <th></th>\n",
       "      <th>features</th>\n",
       "      <th>target</th>\n",
       "      <th>y</th>\n",
       "    </tr>\n",
       "  </thead>\n",
       "  <tbody>\n",
       "    <tr>\n",
       "      <th>0</th>\n",
       "      <td>Internetkøb med postleverance på under 24 time...</td>\n",
       "      <td>5</td>\n",
       "      <td>1</td>\n",
       "    </tr>\n",
       "    <tr>\n",
       "      <th>1</th>\n",
       "      <td>Let og hurtig behandling af erstatning. \\r\\nMe...</td>\n",
       "      <td>5</td>\n",
       "      <td>1</td>\n",
       "    </tr>\n",
       "    <tr>\n",
       "      <th>2</th>\n",
       "      <td>Venlig og hurtig betjening</td>\n",
       "      <td>5</td>\n",
       "      <td>1</td>\n",
       "    </tr>\n",
       "    <tr>\n",
       "      <th>3</th>\n",
       "      <td>Super hurtig og effektiv forsendelse lige til ...</td>\n",
       "      <td>5</td>\n",
       "      <td>1</td>\n",
       "    </tr>\n",
       "    <tr>\n",
       "      <th>4</th>\n",
       "      <td>Nemt at bestille, hurtig levering og varen er ...</td>\n",
       "      <td>5</td>\n",
       "      <td>1</td>\n",
       "    </tr>\n",
       "  </tbody>\n",
       "</table>\n",
       "</div>"
      ],
      "text/plain": [
       "                                            features  target  y\n",
       "0  Internetkøb med postleverance på under 24 time...       5  1\n",
       "1  Let og hurtig behandling af erstatning. \\r\\nMe...       5  1\n",
       "2                         Venlig og hurtig betjening       5  1\n",
       "3  Super hurtig og effektiv forsendelse lige til ...       5  1\n",
       "4  Nemt at bestille, hurtig levering og varen er ...       5  1"
      ]
     },
     "execution_count": 8,
     "metadata": {},
     "output_type": "execute_result"
    }
   ],
   "source": [
    "df.head()"
   ]
  },
  {
   "cell_type": "code",
   "execution_count": 16,
   "metadata": {},
   "outputs": [],
   "source": [
    "train, test = train_test_split(df, test_size=.2)"
   ]
  },
  {
   "cell_type": "markdown",
   "metadata": {},
   "source": [
    "### Sequence lenghts, max number of words and embedding dimmensions"
   ]
  },
  {
   "cell_type": "code",
   "execution_count": 17,
   "metadata": {},
   "outputs": [
    {
     "name": "stdout",
     "output_type": "stream",
     "text": [
      "CPU times: user 35 s, sys: 328 ms, total: 35.4 s\n",
      "Wall time: 36 s\n"
     ]
    }
   ],
   "source": [
    "%%time\n",
    "MAX_SEQUENCE_LENGTH = 300 # if less pad zeros if more truncate\n",
    "MAX_NB_WORDS = 1800 # get 18000 most frequent words\n",
    "EMBEDDING_DIM = 100\n",
    "\n",
    "tokenizer = Tokenizer(num_words=MAX_NB_WORDS,oov_token=token)\n",
    "tokenizer.fit_on_texts(train.features)\n",
    "train_sequences = tokenizer.texts_to_sequences(train.features)\n",
    "test_sequences = tokenizer.texts_to_sequences(test.features)\n",
    "\n",
    "# our dictionary\n",
    "word_index = tokenizer.word_index"
   ]
  },
  {
   "cell_type": "code",
   "execution_count": 18,
   "metadata": {},
   "outputs": [],
   "source": [
    "train_data = pad_sequences(train_sequences, maxlen=MAX_SEQUENCE_LENGTH)\n",
    "test_data = pad_sequences(test_sequences, maxlen=MAX_SEQUENCE_LENGTH)"
   ]
  },
  {
   "cell_type": "code",
   "execution_count": 19,
   "metadata": {},
   "outputs": [],
   "source": [
    "le = LabelEncoder()\n",
    "le.fit(train['y'])\n",
    "train_labels = le.transform(train['y'])\n",
    "test_labels = le.transform(test['y'])\n",
    "\n",
    "# changing data types\n",
    "labels_train = to_categorical(np.asarray(train_labels))\n",
    "labels_test = to_categorical(np.asarray(test_labels))"
   ]
  },
  {
   "cell_type": "markdown",
   "metadata": {},
   "source": [
    "# Training CNN 1D model"
   ]
  },
  {
   "cell_type": "code",
   "execution_count": 20,
   "metadata": {},
   "outputs": [],
   "source": [
    "model = Sequential()\n",
    "model.add(Embedding(MAX_NB_WORDS, EMBEDDING_DIM, input_length=MAX_SEQUENCE_LENGTH))\n",
    "model.add(Dropout(0.5))\n",
    "model.add(Conv1D(128, 5, activation='relu'))\n",
    "model.add(MaxPooling1D(5))\n",
    "model.add(Dropout(0.5))\n",
    "model.add(BatchNormalization())\n",
    "model.add(Conv1D(128, 5, activation='relu'))\n",
    "model.add(MaxPooling1D(5))\n",
    "model.add(Dropout(0.5))\n",
    "model.add(BatchNormalization())\n",
    "model.add(Flatten())\n",
    "model.add(Dense(128, activation='relu'))\n",
    "model.add(Dense(2, activation='softmax'))\n",
    "model.compile(loss='categorical_crossentropy',optimizer='rmsprop',metrics=['acc'])"
   ]
  },
  {
   "cell_type": "code",
   "execution_count": 21,
   "metadata": {},
   "outputs": [
    {
     "name": "stdout",
     "output_type": "stream",
     "text": [
      "Train on 203571 samples, validate on 50893 samples\n",
      "Epoch 1/5\n",
      "203571/203571 [==============================] - 669s 3ms/step - loss: 0.2443 - acc: 0.9088 - val_loss: 0.1878 - val_acc: 0.9312\n",
      "Epoch 2/5\n",
      "203571/203571 [==============================] - 685s 3ms/step - loss: 0.1969 - acc: 0.9281 - val_loss: 0.1766 - val_acc: 0.9349\n",
      "Epoch 3/5\n",
      "203571/203571 [==============================] - 697s 3ms/step - loss: 0.1888 - acc: 0.9314 - val_loss: 0.1770 - val_acc: 0.9350\n",
      "Epoch 4/5\n",
      "203571/203571 [==============================] - 724s 4ms/step - loss: 0.1859 - acc: 0.9333 - val_loss: 0.1675 - val_acc: 0.9383\n",
      "Epoch 5/5\n",
      "203571/203571 [==============================] - 739s 4ms/step - loss: 0.1843 - acc: 0.9347 - val_loss: 0.1680 - val_acc: 0.9390\n"
     ]
    },
    {
     "data": {
      "text/plain": [
       "<keras.callbacks.History at 0x7f7609471668>"
      ]
     },
     "execution_count": 21,
     "metadata": {},
     "output_type": "execute_result"
    }
   ],
   "source": [
    "start_time = pd.datetime.now()\n",
    "#  5 epochs and with batch size of 64 patterns\n",
    "model.fit(train_data, labels_train, batch_size=64, \n",
    "          epochs=5, validation_data=(test_data, labels_test))"
   ]
  },
  {
   "cell_type": "code",
   "execution_count": 22,
   "metadata": {},
   "outputs": [
    {
     "name": "stdout",
     "output_type": "stream",
     "text": [
      "Model took 0:58:34.415447 to train\n"
     ]
    }
   ],
   "source": [
    "print(f'Model took {pd.datetime.now()-start_time} to train')\n",
    "predicted=model.predict(test_data)"
   ]
  },
  {
   "cell_type": "code",
   "execution_count": 23,
   "metadata": {},
   "outputs": [
    {
     "name": "stdout",
     "output_type": "stream",
     "text": [
      "precision: [0.93995982 0.9380635 ]\n",
      "recall: [0.93789064 0.94012729]\n",
      "fscore: [0.93892409 0.93909426]\n",
      "support: [25439 25454]\n",
      "              precision    recall  f1-score   support\n",
      "\n",
      "           0       0.94      0.94      0.94     25439\n",
      "           1       0.94      0.94      0.94     25454\n",
      "\n",
      "   micro avg       0.94      0.94      0.94     50893\n",
      "   macro avg       0.94      0.94      0.94     50893\n",
      "weighted avg       0.94      0.94      0.94     50893\n",
      " samples avg       0.94      0.94      0.94     50893\n",
      "\n"
     ]
    }
   ],
   "source": [
    "precision, recall, fscore, support = precision_recall_fscore_support(labels_test,predicted.round())\n",
    "print(f'precision: {precision}')\n",
    "print(f'recall: {recall}')\n",
    "print(f'fscore: {fscore}')\n",
    "print(f'support: {support}')\n",
    "\n",
    "print(classification_report(labels_test,predicted.round()))"
   ]
  },
  {
   "cell_type": "markdown",
   "metadata": {},
   "source": [
    "## RNN"
   ]
  },
  {
   "cell_type": "raw",
   "metadata": {},
   "source": [
    "# from keras.layers.recurrent import SimpleRNN"
   ]
  },
  {
   "cell_type": "code",
   "execution_count": 26,
   "metadata": {},
   "outputs": [],
   "source": [
    "model_1 = Sequential()\n",
    "model_1.add(Embedding(MAX_NB_WORDS,EMBEDDING_DIM, input_length=MAX_SEQUENCE_LENGTH))\n",
    "model_1.add(SimpleRNN(2, input_shape=(None,1)))\n",
    "model_1.add(Dense(2,activation='softmax'))\n",
    "model_1.compile(loss = 'binary_crossentropy',optimizer='adam',metrics = ['accuracy'])"
   ]
  },
  {
   "cell_type": "code",
   "execution_count": null,
   "metadata": {},
   "outputs": [
    {
     "name": "stdout",
     "output_type": "stream",
     "text": [
      "Train on 203571 samples, validate on 50893 samples\n",
      "Epoch 1/5\n",
      "203571/203571 [==============================] - 1535s 8ms/step - loss: 0.2537 - acc: 0.9084 - val_loss: 0.2099 - val_acc: 0.9264\n",
      "Epoch 2/5\n",
      "203571/203571 [==============================] - 1761s 9ms/step - loss: 0.2013 - acc: 0.9280 - val_loss: 0.1940 - val_acc: 0.9318\n",
      "Epoch 3/5\n",
      " 59024/203571 [=======>......................] - ETA: 14:21 - loss: 0.1856 - acc: 0.9355"
     ]
    }
   ],
   "source": [
    "start_time = pd.datetime.now()\n",
    "model_1.fit(train_data, labels_train, batch_size=16, epochs=5,\n",
    "          validation_data=(test_data, labels_test))"
   ]
  },
  {
   "cell_type": "code",
   "execution_count": null,
   "metadata": {},
   "outputs": [],
   "source": [
    "print(f'Model took {pd.datetime.now()-start_time} to train')\n",
    "pred_rnn=model_1.predict(test_data)\n",
    "\n",
    "precision, recall, fscore, support = precision_recall_fscore_support(labels_test,pred_rnn.round())\n",
    "print(f'precision: {precision}')\n",
    "print(f'recall: {recall}')\n",
    "print(f'fscore: {fscore}')\n",
    "print(f'support: {support}')\n",
    "\n",
    "print(classification_report(labels_test,pred_rnn.round()))"
   ]
  },
  {
   "cell_type": "markdown",
   "metadata": {},
   "source": [
    "## LSTM"
   ]
  },
  {
   "cell_type": "raw",
   "metadata": {},
   "source": [
    "# from keras.layers import LSTM"
   ]
  },
  {
   "cell_type": "code",
   "execution_count": null,
   "metadata": {},
   "outputs": [],
   "source": [
    "model_2 = Sequential()\n",
    "model_2.add(Embedding(MAX_NB_WORDS,EMBEDDING_DIM,input_length=MAX_SEQUENCE_LENGTH))\n",
    "model_2.add(LSTM(output_dim=16, activation='relu', inner_activation='hard_sigmoid',return_sequences=True))\n",
    "model_2.add(Dropout(0.2))\n",
    "model_2.add(BatchNormalization())\n",
    "model_2.add(Flatten())\n",
    "model_2.add(Dense(2,activation='softmax'))\n",
    "model_2.compile(loss = 'binary_crossentropy',optimizer='adam',metrics = ['accuracy'])"
   ]
  },
  {
   "cell_type": "code",
   "execution_count": null,
   "metadata": {},
   "outputs": [
    {
     "name": "stdout",
     "output_type": "stream",
     "text": [
      "203571/203571 [==============================] - 6122s 30ms/step - loss: 0.2095 - acc: 0.9225 - val_loss: 0.1731 - val_acc: 0.9360\n",
      "Epoch 2/5\n",
      "203571/203571 [==============================] - 6202s 30ms/step - loss: 0.1706 - acc: 0.9376 - val_loss: 0.1600 - val_acc: 0.9423\n",
      "Epoch 3/5\n",
      "203571/203571 [==============================] - 6191s 30ms/step - loss: 0.1512 - acc: 0.9451 - val_loss: 0.1536 - val_acc: 0.9456\n",
      "Epoch 4/5\n",
      "203571/203571 [==============================] - 6188s 30ms/step - loss: 0.1366 - acc: 0.9507 - val_loss: 0.1500 - val_acc: 0.9475\n",
      "Epoch 5/5\n",
      " 43712/203571 [=====>........................] - ETA: 1:18:11 - loss: 0.1222 - acc: 0.9561"
     ]
    }
   ],
   "source": [
    "start_time = pd.datetime.now()\n",
    "model_2.fit(train_data, labels_train, batch_size=16, epochs=5,\n",
    "          validation_data=(test_data, labels_test))"
   ]
  },
  {
   "cell_type": "code",
   "execution_count": null,
   "metadata": {},
   "outputs": [],
   "source": [
    "print(f'Model took {pd.datetime.now()-start_time} to train')\n",
    "pred_lstm=model_2.predict(test_data)\n",
    "\n",
    "precision, recall, fscore, support = precision_recall_fscore_support(labels_test,pred_lstm.round())\n",
    "print(f'precision: {precision}')\n",
    "print(f'recall: {recall}')\n",
    "print(f'fscore: {fscore}')\n",
    "print(f'support: {support}')\n",
    "\n",
    "print(classification_report(labels_test,pred_lstm.round()))"
   ]
  },
  {
   "cell_type": "markdown",
   "metadata": {},
   "source": [
    "## Bidirectional LSTM"
   ]
  },
  {
   "cell_type": "code",
   "execution_count": null,
   "metadata": {},
   "outputs": [],
   "source": [
    "model_3 = Sequential()\n",
    "model_3.add(Embedding(MAX_NB_WORDS,EMBEDDING_DIM,input_length=MAX_SEQUENCE_LENGTH))\n",
    "model_3.add(Bidirectional(LSTM(16, return_sequences=True,dropout=0.1, recurrent_dropout=0.1)))\n",
    "model_3.add(Conv1D(16, kernel_size = 3, padding = \"valid\",kernel_initializer = \"glorot_uniform\"))\n",
    "model_3.add(GlobalMaxPool1D())\n",
    "model_3.add(Dense(50, activation=\"relu\"))\n",
    "model_3.add(Dropout(0.1))\n",
    "model_3.add(Dense(2,activation='softmax'))\n",
    "model_3.compile(loss = 'binary_crossentropy',optimizer='adam',metrics = ['accuracy'])"
   ]
  },
  {
   "cell_type": "code",
   "execution_count": null,
   "metadata": {},
   "outputs": [],
   "source": [
    "start_time = pd.datetime.now()\n",
    "model_3.fit(train_data, labels_train,batch_size=16,epochs=3,\n",
    "          validation_data=(test_data, labels_test))"
   ]
  },
  {
   "cell_type": "code",
   "execution_count": null,
   "metadata": {},
   "outputs": [],
   "source": [
    "print(f'Model took {pd.datetime.now()-start_time} to train')\n",
    "pred_blstm=model_3.predict(test_data)\n",
    "\n",
    "precision, recall, fscore, support = precision_recall_fscore_support(labels_test,pred_blstm.round())\n",
    "print(f'precision: {precision}')\n",
    "print(f'recall: {recall}')\n",
    "print(f'fscore: {fscore}')\n",
    "print(f'support: {support}')\n",
    "\n",
    "print(classification_report(labels_test,pred_blstm.round()))"
   ]
  }
 ],
 "metadata": {
  "kernelspec": {
   "display_name": "Python 3",
   "language": "python",
   "name": "python3"
  },
  "language_info": {
   "codemirror_mode": {
    "name": "ipython",
    "version": 3
   },
   "file_extension": ".py",
   "mimetype": "text/x-python",
   "name": "python",
   "nbconvert_exporter": "python",
   "pygments_lexer": "ipython3",
   "version": "3.6.8"
  }
 },
 "nbformat": 4,
 "nbformat_minor": 2
}
